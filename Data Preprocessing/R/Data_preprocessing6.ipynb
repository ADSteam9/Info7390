{
 "cells": [
  {
   "cell_type": "code",
   "execution_count": 1,
   "metadata": {},
   "outputs": [
    {
     "data": {
      "text/html": [
       "<table>\n",
       "<thead><tr><th scope=col>fy</th><th scope=col>company</th><th scope=col>revenue</th><th scope=col>profit</th><th scope=col>margin</th></tr></thead>\n",
       "<tbody>\n",
       "\t<tr><td>2010     </td><td>Apple    </td><td> 65225   </td><td>14013    </td><td>21.5     </td></tr>\n",
       "\t<tr><td>2011     </td><td>Apple    </td><td>108249   </td><td>25922    </td><td>23.9     </td></tr>\n",
       "\t<tr><td>2012     </td><td>Apple    </td><td>156508   </td><td>41733    </td><td>26.7     </td></tr>\n",
       "\t<tr><td>2010     </td><td>Google   </td><td> 29321   </td><td> 8505    </td><td>29.0     </td></tr>\n",
       "\t<tr><td>2011     </td><td>Google   </td><td> 37905   </td><td> 9737    </td><td>25.7     </td></tr>\n",
       "\t<tr><td>2012     </td><td>Google   </td><td> 50175   </td><td>10737    </td><td>21.4     </td></tr>\n",
       "\t<tr><td>2010     </td><td>Microsoft</td><td> 62484   </td><td>18760    </td><td>30.0     </td></tr>\n",
       "\t<tr><td>2011     </td><td>Microsoft</td><td> 69943   </td><td>23150    </td><td>33.1     </td></tr>\n",
       "\t<tr><td>2012     </td><td>Microsoft</td><td> 73723   </td><td>16978    </td><td>23.0     </td></tr>\n",
       "</tbody>\n",
       "</table>\n"
      ],
      "text/latex": [
       "\\begin{tabular}{r|lllll}\n",
       " fy & company & revenue & profit & margin\\\\\n",
       "\\hline\n",
       "\t 2010      & Apple     &  65225    & 14013     & 21.5     \\\\\n",
       "\t 2011      & Apple     & 108249    & 25922     & 23.9     \\\\\n",
       "\t 2012      & Apple     & 156508    & 41733     & 26.7     \\\\\n",
       "\t 2010      & Google    &  29321    &  8505     & 29.0     \\\\\n",
       "\t 2011      & Google    &  37905    &  9737     & 25.7     \\\\\n",
       "\t 2012      & Google    &  50175    & 10737     & 21.4     \\\\\n",
       "\t 2010      & Microsoft &  62484    & 18760     & 30.0     \\\\\n",
       "\t 2011      & Microsoft &  69943    & 23150     & 33.1     \\\\\n",
       "\t 2012      & Microsoft &  73723    & 16978     & 23.0     \\\\\n",
       "\\end{tabular}\n"
      ],
      "text/markdown": [
       "\n",
       "fy | company | revenue | profit | margin | \n",
       "|---|---|---|---|---|---|---|---|---|\n",
       "| 2010      | Apple     |  65225    | 14013     | 21.5      | \n",
       "| 2011      | Apple     | 108249    | 25922     | 23.9      | \n",
       "| 2012      | Apple     | 156508    | 41733     | 26.7      | \n",
       "| 2010      | Google    |  29321    |  8505     | 29.0      | \n",
       "| 2011      | Google    |  37905    |  9737     | 25.7      | \n",
       "| 2012      | Google    |  50175    | 10737     | 21.4      | \n",
       "| 2010      | Microsoft |  62484    | 18760     | 30.0      | \n",
       "| 2011      | Microsoft |  69943    | 23150     | 33.1      | \n",
       "| 2012      | Microsoft |  73723    | 16978     | 23.0      | \n",
       "\n",
       "\n"
      ],
      "text/plain": [
       "  fy   company   revenue profit margin\n",
       "1 2010 Apple      65225  14013  21.5  \n",
       "2 2011 Apple     108249  25922  23.9  \n",
       "3 2012 Apple     156508  41733  26.7  \n",
       "4 2010 Google     29321   8505  29.0  \n",
       "5 2011 Google     37905   9737  25.7  \n",
       "6 2012 Google     50175  10737  21.4  \n",
       "7 2010 Microsoft  62484  18760  30.0  \n",
       "8 2011 Microsoft  69943  23150  33.1  \n",
       "9 2012 Microsoft  73723  16978  23.0  "
      ]
     },
     "metadata": {},
     "output_type": "display_data"
    }
   ],
   "source": [
    "### Creating data frame\n",
    "fy <- c(2010,2011,2012,2010,2011,2012,2010,2011,2012) \n",
    "company <- c(\"Apple\",\"Apple\",\"Apple\",\"Google\",\"Google\",\n",
    "             \"Google\",\"Microsoft\",\"Microsoft\",\"Microsoft\") \n",
    "revenue <- c(65225,108249,156508,29321,37905,50175,62484,69943,73723) \n",
    "profit <- c(14013,25922,41733,8505,9737,10737,18760,23150,16978) \n",
    "companiesData <- data.frame(fy, company, revenue, profit)\n",
    "companiesData$margin <- (companiesData$profit / companiesData$revenue) * 100\n",
    "companiesData$margin <- round(companiesData$margin, 1)\n",
    "companiesData"
   ]
  },
  {
   "cell_type": "code",
   "execution_count": 2,
   "metadata": {},
   "outputs": [
    {
     "name": "stderr",
     "output_type": "stream",
     "text": [
      "Updating HTML index of packages in '.Library'\n",
      "Making 'packages.html' ... done\n"
     ]
    }
   ],
   "source": [
    "### Getting summary of each company based on maximum margin\n",
    "install.packages('plyr')\n",
    "library(plyr)"
   ]
  },
  {
   "cell_type": "code",
   "execution_count": 3,
   "metadata": {},
   "outputs": [
    {
     "data": {
      "text/html": [
       "<table>\n",
       "<thead><tr><th scope=col>company</th><th scope=col>bestMargin</th></tr></thead>\n",
       "<tbody>\n",
       "\t<tr><td>Apple    </td><td>26.7     </td></tr>\n",
       "\t<tr><td>Google   </td><td>29.0     </td></tr>\n",
       "\t<tr><td>Microsoft</td><td>33.1     </td></tr>\n",
       "</tbody>\n",
       "</table>\n"
      ],
      "text/latex": [
       "\\begin{tabular}{r|ll}\n",
       " company & bestMargin\\\\\n",
       "\\hline\n",
       "\t Apple     & 26.7     \\\\\n",
       "\t Google    & 29.0     \\\\\n",
       "\t Microsoft & 33.1     \\\\\n",
       "\\end{tabular}\n"
      ],
      "text/markdown": [
       "\n",
       "company | bestMargin | \n",
       "|---|---|---|\n",
       "| Apple     | 26.7      | \n",
       "| Google    | 29.0      | \n",
       "| Microsoft | 33.1      | \n",
       "\n",
       "\n"
      ],
      "text/plain": [
       "  company   bestMargin\n",
       "1 Apple     26.7      \n",
       "2 Google    29.0      \n",
       "3 Microsoft 33.1      "
      ]
     },
     "metadata": {},
     "output_type": "display_data"
    }
   ],
   "source": [
    "highestProfitMargins <- ddply(companiesData, 'company', summarize, \n",
    "                              bestMargin = max(margin))\n",
    "highestProfitMargins ### Columns of company and bestMarging"
   ]
  },
  {
   "cell_type": "code",
   "execution_count": 4,
   "metadata": {},
   "outputs": [
    {
     "data": {
      "text/html": [
       "<table>\n",
       "<thead><tr><th scope=col>fy</th><th scope=col>company</th><th scope=col>revenue</th><th scope=col>profit</th><th scope=col>margin</th><th scope=col>bestMargin</th></tr></thead>\n",
       "<tbody>\n",
       "\t<tr><td>2010     </td><td>Apple    </td><td> 65225   </td><td>14013    </td><td>21.5     </td><td>26.7     </td></tr>\n",
       "\t<tr><td>2011     </td><td>Apple    </td><td>108249   </td><td>25922    </td><td>23.9     </td><td>26.7     </td></tr>\n",
       "\t<tr><td>2012     </td><td>Apple    </td><td>156508   </td><td>41733    </td><td>26.7     </td><td>26.7     </td></tr>\n",
       "\t<tr><td>2010     </td><td>Google   </td><td> 29321   </td><td> 8505    </td><td>29.0     </td><td>29.0     </td></tr>\n",
       "\t<tr><td>2011     </td><td>Google   </td><td> 37905   </td><td> 9737    </td><td>25.7     </td><td>29.0     </td></tr>\n",
       "\t<tr><td>2012     </td><td>Google   </td><td> 50175   </td><td>10737    </td><td>21.4     </td><td>29.0     </td></tr>\n",
       "\t<tr><td>2010     </td><td>Microsoft</td><td> 62484   </td><td>18760    </td><td>30.0     </td><td>33.1     </td></tr>\n",
       "\t<tr><td>2011     </td><td>Microsoft</td><td> 69943   </td><td>23150    </td><td>33.1     </td><td>33.1     </td></tr>\n",
       "\t<tr><td>2012     </td><td>Microsoft</td><td> 73723   </td><td>16978    </td><td>23.0     </td><td>33.1     </td></tr>\n",
       "</tbody>\n",
       "</table>\n"
      ],
      "text/latex": [
       "\\begin{tabular}{r|llllll}\n",
       " fy & company & revenue & profit & margin & bestMargin\\\\\n",
       "\\hline\n",
       "\t 2010      & Apple     &  65225    & 14013     & 21.5      & 26.7     \\\\\n",
       "\t 2011      & Apple     & 108249    & 25922     & 23.9      & 26.7     \\\\\n",
       "\t 2012      & Apple     & 156508    & 41733     & 26.7      & 26.7     \\\\\n",
       "\t 2010      & Google    &  29321    &  8505     & 29.0      & 29.0     \\\\\n",
       "\t 2011      & Google    &  37905    &  9737     & 25.7      & 29.0     \\\\\n",
       "\t 2012      & Google    &  50175    & 10737     & 21.4      & 29.0     \\\\\n",
       "\t 2010      & Microsoft &  62484    & 18760     & 30.0      & 33.1     \\\\\n",
       "\t 2011      & Microsoft &  69943    & 23150     & 33.1      & 33.1     \\\\\n",
       "\t 2012      & Microsoft &  73723    & 16978     & 23.0      & 33.1     \\\\\n",
       "\\end{tabular}\n"
      ],
      "text/markdown": [
       "\n",
       "fy | company | revenue | profit | margin | bestMargin | \n",
       "|---|---|---|---|---|---|---|---|---|\n",
       "| 2010      | Apple     |  65225    | 14013     | 21.5      | 26.7      | \n",
       "| 2011      | Apple     | 108249    | 25922     | 23.9      | 26.7      | \n",
       "| 2012      | Apple     | 156508    | 41733     | 26.7      | 26.7      | \n",
       "| 2010      | Google    |  29321    |  8505     | 29.0      | 29.0      | \n",
       "| 2011      | Google    |  37905    |  9737     | 25.7      | 29.0      | \n",
       "| 2012      | Google    |  50175    | 10737     | 21.4      | 29.0      | \n",
       "| 2010      | Microsoft |  62484    | 18760     | 30.0      | 33.1      | \n",
       "| 2011      | Microsoft |  69943    | 23150     | 33.1      | 33.1      | \n",
       "| 2012      | Microsoft |  73723    | 16978     | 23.0      | 33.1      | \n",
       "\n",
       "\n"
      ],
      "text/plain": [
       "  fy   company   revenue profit margin bestMargin\n",
       "1 2010 Apple      65225  14013  21.5   26.7      \n",
       "2 2011 Apple     108249  25922  23.9   26.7      \n",
       "3 2012 Apple     156508  41733  26.7   26.7      \n",
       "4 2010 Google     29321   8505  29.0   29.0      \n",
       "5 2011 Google     37905   9737  25.7   29.0      \n",
       "6 2012 Google     50175  10737  21.4   29.0      \n",
       "7 2010 Microsoft  62484  18760  30.0   33.1      \n",
       "8 2011 Microsoft  69943  23150  33.1   33.1      \n",
       "9 2012 Microsoft  73723  16978  23.0   33.1      "
      ]
     },
     "metadata": {},
     "output_type": "display_data"
    }
   ],
   "source": [
    "highestProfitMargins <- ddply(companiesData, 'company', transform, \n",
    "                             bestMargin = max(margin))\n",
    "highestProfitMargins ### All columns"
   ]
  },
  {
   "cell_type": "code",
   "execution_count": 5,
   "metadata": {},
   "outputs": [
    {
     "data": {
      "text/html": [
       "<table>\n",
       "<thead><tr><th scope=col>fy</th><th scope=col>company</th><th scope=col>revenue</th><th scope=col>profit</th><th scope=col>margin</th><th scope=col>highestMargin</th><th scope=col>lowestMargin</th></tr></thead>\n",
       "<tbody>\n",
       "\t<tr><td>2010     </td><td>Apple    </td><td> 65225   </td><td>14013    </td><td>21.5     </td><td>26.7     </td><td>21.5     </td></tr>\n",
       "\t<tr><td>2011     </td><td>Apple    </td><td>108249   </td><td>25922    </td><td>23.9     </td><td>26.7     </td><td>21.5     </td></tr>\n",
       "\t<tr><td>2012     </td><td>Apple    </td><td>156508   </td><td>41733    </td><td>26.7     </td><td>26.7     </td><td>21.5     </td></tr>\n",
       "\t<tr><td>2010     </td><td>Google   </td><td> 29321   </td><td> 8505    </td><td>29.0     </td><td>29.0     </td><td>21.4     </td></tr>\n",
       "\t<tr><td>2011     </td><td>Google   </td><td> 37905   </td><td> 9737    </td><td>25.7     </td><td>29.0     </td><td>21.4     </td></tr>\n",
       "\t<tr><td>2012     </td><td>Google   </td><td> 50175   </td><td>10737    </td><td>21.4     </td><td>29.0     </td><td>21.4     </td></tr>\n",
       "\t<tr><td>2010     </td><td>Microsoft</td><td> 62484   </td><td>18760    </td><td>30.0     </td><td>33.1     </td><td>23.0     </td></tr>\n",
       "\t<tr><td>2011     </td><td>Microsoft</td><td> 69943   </td><td>23150    </td><td>33.1     </td><td>33.1     </td><td>23.0     </td></tr>\n",
       "\t<tr><td>2012     </td><td>Microsoft</td><td> 73723   </td><td>16978    </td><td>23.0     </td><td>33.1     </td><td>23.0     </td></tr>\n",
       "</tbody>\n",
       "</table>\n"
      ],
      "text/latex": [
       "\\begin{tabular}{r|lllllll}\n",
       " fy & company & revenue & profit & margin & highestMargin & lowestMargin\\\\\n",
       "\\hline\n",
       "\t 2010      & Apple     &  65225    & 14013     & 21.5      & 26.7      & 21.5     \\\\\n",
       "\t 2011      & Apple     & 108249    & 25922     & 23.9      & 26.7      & 21.5     \\\\\n",
       "\t 2012      & Apple     & 156508    & 41733     & 26.7      & 26.7      & 21.5     \\\\\n",
       "\t 2010      & Google    &  29321    &  8505     & 29.0      & 29.0      & 21.4     \\\\\n",
       "\t 2011      & Google    &  37905    &  9737     & 25.7      & 29.0      & 21.4     \\\\\n",
       "\t 2012      & Google    &  50175    & 10737     & 21.4      & 29.0      & 21.4     \\\\\n",
       "\t 2010      & Microsoft &  62484    & 18760     & 30.0      & 33.1      & 23.0     \\\\\n",
       "\t 2011      & Microsoft &  69943    & 23150     & 33.1      & 33.1      & 23.0     \\\\\n",
       "\t 2012      & Microsoft &  73723    & 16978     & 23.0      & 33.1      & 23.0     \\\\\n",
       "\\end{tabular}\n"
      ],
      "text/markdown": [
       "\n",
       "fy | company | revenue | profit | margin | highestMargin | lowestMargin | \n",
       "|---|---|---|---|---|---|---|---|---|\n",
       "| 2010      | Apple     |  65225    | 14013     | 21.5      | 26.7      | 21.5      | \n",
       "| 2011      | Apple     | 108249    | 25922     | 23.9      | 26.7      | 21.5      | \n",
       "| 2012      | Apple     | 156508    | 41733     | 26.7      | 26.7      | 21.5      | \n",
       "| 2010      | Google    |  29321    |  8505     | 29.0      | 29.0      | 21.4      | \n",
       "| 2011      | Google    |  37905    |  9737     | 25.7      | 29.0      | 21.4      | \n",
       "| 2012      | Google    |  50175    | 10737     | 21.4      | 29.0      | 21.4      | \n",
       "| 2010      | Microsoft |  62484    | 18760     | 30.0      | 33.1      | 23.0      | \n",
       "| 2011      | Microsoft |  69943    | 23150     | 33.1      | 33.1      | 23.0      | \n",
       "| 2012      | Microsoft |  73723    | 16978     | 23.0      | 33.1      | 23.0      | \n",
       "\n",
       "\n"
      ],
      "text/plain": [
       "  fy   company   revenue profit margin highestMargin lowestMargin\n",
       "1 2010 Apple      65225  14013  21.5   26.7          21.5        \n",
       "2 2011 Apple     108249  25922  23.9   26.7          21.5        \n",
       "3 2012 Apple     156508  41733  26.7   26.7          21.5        \n",
       "4 2010 Google     29321   8505  29.0   29.0          21.4        \n",
       "5 2011 Google     37905   9737  25.7   29.0          21.4        \n",
       "6 2012 Google     50175  10737  21.4   29.0          21.4        \n",
       "7 2010 Microsoft  62484  18760  30.0   33.1          23.0        \n",
       "8 2011 Microsoft  69943  23150  33.1   33.1          23.0        \n",
       "9 2012 Microsoft  73723  16978  23.0   33.1          23.0        "
      ]
     },
     "metadata": {},
     "output_type": "display_data"
    }
   ],
   "source": [
    "### Applying more than one function \n",
    "myResults <- ddply(companiesData, 'company', transform, \n",
    "                   highestMargin = max(margin), lowestMargin = min(margin))\n",
    "myResults"
   ]
  },
  {
   "cell_type": "code",
   "execution_count": 8,
   "metadata": {},
   "outputs": [
    {
     "name": "stderr",
     "output_type": "stream",
     "text": [
      "also installing the dependencies ‘bindr’, ‘bindrcpp’, ‘glue’, ‘pkgconfig’\n",
      "\n",
      "Updating HTML index of packages in '.Library'\n",
      "Making 'packages.html' ... done\n",
      "\n",
      "Attaching package: ‘dplyr’\n",
      "\n",
      "The following objects are masked from ‘package:plyr’:\n",
      "\n",
      "    arrange, count, desc, failwith, id, mutate, rename, summarise,\n",
      "    summarize\n",
      "\n",
      "The following objects are masked from ‘package:stats’:\n",
      "\n",
      "    filter, lag\n",
      "\n",
      "The following objects are masked from ‘package:base’:\n",
      "\n",
      "    intersect, setdiff, setequal, union\n",
      "\n"
     ]
    }
   ],
   "source": [
    "install.packages('dplyr')\n",
    "library(dplyr)"
   ]
  },
  {
   "cell_type": "code",
   "execution_count": 9,
   "metadata": {},
   "outputs": [
    {
     "data": {
      "text/html": [
       "<table>\n",
       "<thead><tr><th scope=col>fy</th><th scope=col>company</th><th scope=col>revenue</th><th scope=col>profit</th><th scope=col>margin</th><th scope=col>highestMargin</th><th scope=col>lowestMargin</th></tr></thead>\n",
       "<tbody>\n",
       "\t<tr><td>2010     </td><td>Apple    </td><td> 65225   </td><td>14013    </td><td>21.5     </td><td>26.7     </td><td>21.5     </td></tr>\n",
       "\t<tr><td>2011     </td><td>Apple    </td><td>108249   </td><td>25922    </td><td>23.9     </td><td>26.7     </td><td>21.5     </td></tr>\n",
       "\t<tr><td>2012     </td><td>Apple    </td><td>156508   </td><td>41733    </td><td>26.7     </td><td>26.7     </td><td>21.5     </td></tr>\n",
       "\t<tr><td>2010     </td><td>Google   </td><td> 29321   </td><td> 8505    </td><td>29.0     </td><td>29.0     </td><td>21.4     </td></tr>\n",
       "\t<tr><td>2011     </td><td>Google   </td><td> 37905   </td><td> 9737    </td><td>25.7     </td><td>29.0     </td><td>21.4     </td></tr>\n",
       "\t<tr><td>2012     </td><td>Google   </td><td> 50175   </td><td>10737    </td><td>21.4     </td><td>29.0     </td><td>21.4     </td></tr>\n",
       "\t<tr><td>2010     </td><td>Microsoft</td><td> 62484   </td><td>18760    </td><td>30.0     </td><td>33.1     </td><td>23.0     </td></tr>\n",
       "\t<tr><td>2011     </td><td>Microsoft</td><td> 69943   </td><td>23150    </td><td>33.1     </td><td>33.1     </td><td>23.0     </td></tr>\n",
       "\t<tr><td>2012     </td><td>Microsoft</td><td> 73723   </td><td>16978    </td><td>23.0     </td><td>33.1     </td><td>23.0     </td></tr>\n",
       "</tbody>\n",
       "</table>\n"
      ],
      "text/latex": [
       "\\begin{tabular}{r|lllllll}\n",
       " fy & company & revenue & profit & margin & highestMargin & lowestMargin\\\\\n",
       "\\hline\n",
       "\t 2010      & Apple     &  65225    & 14013     & 21.5      & 26.7      & 21.5     \\\\\n",
       "\t 2011      & Apple     & 108249    & 25922     & 23.9      & 26.7      & 21.5     \\\\\n",
       "\t 2012      & Apple     & 156508    & 41733     & 26.7      & 26.7      & 21.5     \\\\\n",
       "\t 2010      & Google    &  29321    &  8505     & 29.0      & 29.0      & 21.4     \\\\\n",
       "\t 2011      & Google    &  37905    &  9737     & 25.7      & 29.0      & 21.4     \\\\\n",
       "\t 2012      & Google    &  50175    & 10737     & 21.4      & 29.0      & 21.4     \\\\\n",
       "\t 2010      & Microsoft &  62484    & 18760     & 30.0      & 33.1      & 23.0     \\\\\n",
       "\t 2011      & Microsoft &  69943    & 23150     & 33.1      & 33.1      & 23.0     \\\\\n",
       "\t 2012      & Microsoft &  73723    & 16978     & 23.0      & 33.1      & 23.0     \\\\\n",
       "\\end{tabular}\n"
      ],
      "text/markdown": [
       "\n",
       "fy | company | revenue | profit | margin | highestMargin | lowestMargin | \n",
       "|---|---|---|---|---|---|---|---|---|\n",
       "| 2010      | Apple     |  65225    | 14013     | 21.5      | 26.7      | 21.5      | \n",
       "| 2011      | Apple     | 108249    | 25922     | 23.9      | 26.7      | 21.5      | \n",
       "| 2012      | Apple     | 156508    | 41733     | 26.7      | 26.7      | 21.5      | \n",
       "| 2010      | Google    |  29321    |  8505     | 29.0      | 29.0      | 21.4      | \n",
       "| 2011      | Google    |  37905    |  9737     | 25.7      | 29.0      | 21.4      | \n",
       "| 2012      | Google    |  50175    | 10737     | 21.4      | 29.0      | 21.4      | \n",
       "| 2010      | Microsoft |  62484    | 18760     | 30.0      | 33.1      | 23.0      | \n",
       "| 2011      | Microsoft |  69943    | 23150     | 33.1      | 33.1      | 23.0      | \n",
       "| 2012      | Microsoft |  73723    | 16978     | 23.0      | 33.1      | 23.0      | \n",
       "\n",
       "\n"
      ],
      "text/plain": [
       "  fy   company   revenue profit margin highestMargin lowestMargin\n",
       "1 2010 Apple      65225  14013  21.5   26.7          21.5        \n",
       "2 2011 Apple     108249  25922  23.9   26.7          21.5        \n",
       "3 2012 Apple     156508  41733  26.7   26.7          21.5        \n",
       "4 2010 Google     29321   8505  29.0   29.0          21.4        \n",
       "5 2011 Google     37905   9737  25.7   29.0          21.4        \n",
       "6 2012 Google     50175  10737  21.4   29.0          21.4        \n",
       "7 2010 Microsoft  62484  18760  30.0   33.1          23.0        \n",
       "8 2011 Microsoft  69943  23150  33.1   33.1          23.0        \n",
       "9 2012 Microsoft  73723  16978  23.0   33.1          23.0        "
      ]
     },
     "metadata": {},
     "output_type": "display_data"
    }
   ],
   "source": [
    "### Using dplyr to see the highest margin of data\n",
    "### First creating two columns of max and min of marging\n",
    "myresults <- companiesData %>% group_by(company) %>% mutate(highestMargin = max(margin), lowestMargin = min(margin))\n",
    "myresults"
   ]
  },
  {
   "cell_type": "code",
   "execution_count": 10,
   "metadata": {},
   "outputs": [
    {
     "data": {
      "text/html": [
       "<table>\n",
       "<thead><tr><th scope=col>company</th><th scope=col>bestMargin</th></tr></thead>\n",
       "<tbody>\n",
       "\t<tr><td>Apple    </td><td>26.7     </td></tr>\n",
       "\t<tr><td>Google   </td><td>29.0     </td></tr>\n",
       "\t<tr><td>Microsoft</td><td>33.1     </td></tr>\n",
       "</tbody>\n",
       "</table>\n"
      ],
      "text/latex": [
       "\\begin{tabular}{r|ll}\n",
       " company & bestMargin\\\\\n",
       "\\hline\n",
       "\t Apple     & 26.7     \\\\\n",
       "\t Google    & 29.0     \\\\\n",
       "\t Microsoft & 33.1     \\\\\n",
       "\\end{tabular}\n"
      ],
      "text/markdown": [
       "\n",
       "company | bestMargin | \n",
       "|---|---|---|\n",
       "| Apple     | 26.7      | \n",
       "| Google    | 29.0      | \n",
       "| Microsoft | 33.1      | \n",
       "\n",
       "\n"
      ],
      "text/plain": [
       "  company   bestMargin\n",
       "1 Apple     26.7      \n",
       "2 Google    29.0      \n",
       "3 Microsoft 33.1      "
      ]
     },
     "metadata": {},
     "output_type": "display_data"
    }
   ],
   "source": [
    "highestProfitMargins <- companiesData %>% group_by(company) %>% summarise(bestMargin = max(margin))\n",
    "highestProfitMargins ### Highest margin of the data"
   ]
  },
  {
   "cell_type": "code",
   "execution_count": 11,
   "metadata": {},
   "outputs": [
    {
     "data": {
      "text/html": [
       "<table>\n",
       "<thead><tr><th scope=col>vDates</th><th scope=col>vDates.bymonth</th></tr></thead>\n",
       "<tbody>\n",
       "\t<tr><td>2013-06-01</td><td>2013-06-01</td></tr>\n",
       "\t<tr><td>2013-07-08</td><td>2013-07-01</td></tr>\n",
       "\t<tr><td>2013-09-01</td><td>2013-09-01</td></tr>\n",
       "\t<tr><td>2013-09-15</td><td>2013-09-01</td></tr>\n",
       "</tbody>\n",
       "</table>\n"
      ],
      "text/latex": [
       "\\begin{tabular}{r|ll}\n",
       " vDates & vDates.bymonth\\\\\n",
       "\\hline\n",
       "\t 2013-06-01 & 2013-06-01\\\\\n",
       "\t 2013-07-08 & 2013-07-01\\\\\n",
       "\t 2013-09-01 & 2013-09-01\\\\\n",
       "\t 2013-09-15 & 2013-09-01\\\\\n",
       "\\end{tabular}\n"
      ],
      "text/markdown": [
       "\n",
       "vDates | vDates.bymonth | \n",
       "|---|---|---|---|\n",
       "| 2013-06-01 | 2013-06-01 | \n",
       "| 2013-07-08 | 2013-07-01 | \n",
       "| 2013-09-01 | 2013-09-01 | \n",
       "| 2013-09-15 | 2013-09-01 | \n",
       "\n",
       "\n"
      ],
      "text/plain": [
       "  vDates     vDates.bymonth\n",
       "1 2013-06-01 2013-06-01    \n",
       "2 2013-07-08 2013-07-01    \n",
       "3 2013-09-01 2013-09-01    \n",
       "4 2013-09-15 2013-09-01    "
      ]
     },
     "metadata": {},
     "output_type": "display_data"
    }
   ],
   "source": [
    "### Grouping by date range\n",
    "vDates <- as.Date(c(\"2013-06-01\",\"2013-07-08\",\"2013-09-01\",\"2013-09-15\"))\n",
    "### Sorting based on month\n",
    "vDates.bymonth <- cut(vDates, breaks = \"month\")\n",
    "dfDates <- data.frame(vDates, vDates.bymonth)\n",
    "dfDates"
   ]
  }
 ],
 "metadata": {
  "kernelspec": {
   "display_name": "R",
   "language": "R",
   "name": "ir"
  },
  "language_info": {
   "codemirror_mode": "r",
   "file_extension": ".r",
   "mimetype": "text/x-r-source",
   "name": "R",
   "pygments_lexer": "r",
   "version": "3.3.2"
  }
 },
 "nbformat": 4,
 "nbformat_minor": 2
}
