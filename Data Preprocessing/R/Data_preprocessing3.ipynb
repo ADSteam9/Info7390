{
 "cells": [
  {
   "cell_type": "code",
   "execution_count": 1,
   "metadata": {},
   "outputs": [
    {
     "data": {
      "text/html": [
       "<table>\n",
       "<thead><tr><th scope=col>a</th><th scope=col>b</th><th scope=col>c</th></tr></thead>\n",
       "<tbody>\n",
       "\t<tr><td>1 </td><td>2 </td><td> 3</td></tr>\n",
       "\t<tr><td>7 </td><td>0 </td><td>-1</td></tr>\n",
       "\t<tr><td>0 </td><td>2 </td><td> 4</td></tr>\n",
       "\t<tr><td>5 </td><td>2 </td><td> 3</td></tr>\n",
       "\t<tr><td>2 </td><td>4 </td><td> 1</td></tr>\n",
       "</tbody>\n",
       "</table>\n"
      ],
      "text/latex": [
       "\\begin{tabular}{r|lll}\n",
       " a & b & c\\\\\n",
       "\\hline\n",
       "\t 1  & 2  &  3\\\\\n",
       "\t 7  & 0  & -1\\\\\n",
       "\t 0  & 2  &  4\\\\\n",
       "\t 5  & 2  &  3\\\\\n",
       "\t 2  & 4  &  1\\\\\n",
       "\\end{tabular}\n"
      ],
      "text/markdown": [
       "\n",
       "a | b | c | \n",
       "|---|---|---|---|---|\n",
       "| 1  | 2  |  3 | \n",
       "| 7  | 0  | -1 | \n",
       "| 0  | 2  |  4 | \n",
       "| 5  | 2  |  3 | \n",
       "| 2  | 4  |  1 | \n",
       "\n",
       "\n"
      ],
      "text/plain": [
       "  a b c \n",
       "1 1 2  3\n",
       "2 7 0 -1\n",
       "3 0 2  4\n",
       "4 5 2  3\n",
       "5 2 4  1"
      ]
     },
     "metadata": {},
     "output_type": "display_data"
    }
   ],
   "source": [
    "### Correlation coefficient\n",
    "data=data.frame(a=c(1,7,0,5,2),b=c(2,0,2,2,4),c=c(3,-1,4,3,1))\n",
    "data"
   ]
  },
  {
   "cell_type": "code",
   "execution_count": 2,
   "metadata": {},
   "outputs": [
    {
     "data": {
      "text/html": [
       "-0.606339062590832"
      ],
      "text/latex": [
       "-0.606339062590832"
      ],
      "text/markdown": [
       "-0.606339062590832"
      ],
      "text/plain": [
       "[1] -0.6063391"
      ]
     },
     "metadata": {},
     "output_type": "display_data"
    }
   ],
   "source": [
    "cor(data$a,data$b)"
   ]
  },
  {
   "cell_type": "code",
   "execution_count": 3,
   "metadata": {},
   "outputs": [
    {
     "data": {
      "text/html": [
       "-0.606339062590832"
      ],
      "text/latex": [
       "-0.606339062590832"
      ],
      "text/markdown": [
       "-0.606339062590832"
      ],
      "text/plain": [
       "[1] -0.6063391"
      ]
     },
     "metadata": {},
     "output_type": "display_data"
    }
   ],
   "source": [
    "cor(data$b,data$a)"
   ]
  },
  {
   "cell_type": "code",
   "execution_count": 4,
   "metadata": {},
   "outputs": [
    {
     "data": {
      "text/html": [
       "-0.728868986855662"
      ],
      "text/latex": [
       "-0.728868986855662"
      ],
      "text/markdown": [
       "-0.728868986855662"
      ],
      "text/plain": [
       "[1] -0.728869"
      ]
     },
     "metadata": {},
     "output_type": "display_data"
    }
   ],
   "source": [
    "cor(data$a,data$c)"
   ]
  },
  {
   "cell_type": "code",
   "execution_count": 5,
   "metadata": {},
   "outputs": [
    {
     "data": {
      "text/html": [
       "0.353553390593274"
      ],
      "text/latex": [
       "0.353553390593274"
      ],
      "text/markdown": [
       "0.353553390593274"
      ],
      "text/plain": [
       "[1] 0.3535534"
      ]
     },
     "metadata": {},
     "output_type": "display_data"
    }
   ],
   "source": [
    "cor(data$b,data$c)"
   ]
  },
  {
   "cell_type": "code",
   "execution_count": 6,
   "metadata": {},
   "outputs": [
    {
     "data": {
      "text/html": [
       "<table>\n",
       "<thead><tr><th></th><th scope=col>a</th><th scope=col>b</th><th scope=col>c</th></tr></thead>\n",
       "<tbody>\n",
       "\t<tr><th scope=row>a</th><td> 1.0000000</td><td>-0.6063391</td><td>-0.7288690</td></tr>\n",
       "\t<tr><th scope=row>b</th><td>-0.6063391</td><td> 1.0000000</td><td> 0.3535534</td></tr>\n",
       "\t<tr><th scope=row>c</th><td>-0.7288690</td><td> 0.3535534</td><td> 1.0000000</td></tr>\n",
       "</tbody>\n",
       "</table>\n"
      ],
      "text/latex": [
       "\\begin{tabular}{r|lll}\n",
       "  & a & b & c\\\\\n",
       "\\hline\n",
       "\ta &  1.0000000 & -0.6063391 & -0.7288690\\\\\n",
       "\tb & -0.6063391 &  1.0000000 &  0.3535534\\\\\n",
       "\tc & -0.7288690 &  0.3535534 &  1.0000000\\\\\n",
       "\\end{tabular}\n"
      ],
      "text/markdown": [
       "\n",
       "| <!--/--> | a | b | c | \n",
       "|---|---|---|\n",
       "| a |  1.0000000 | -0.6063391 | -0.7288690 | \n",
       "| b | -0.6063391 |  1.0000000 |  0.3535534 | \n",
       "| c | -0.7288690 |  0.3535534 |  1.0000000 | \n",
       "\n",
       "\n"
      ],
      "text/plain": [
       "  a          b          c         \n",
       "a  1.0000000 -0.6063391 -0.7288690\n",
       "b -0.6063391  1.0000000  0.3535534\n",
       "c -0.7288690  0.3535534  1.0000000"
      ]
     },
     "metadata": {},
     "output_type": "display_data"
    }
   ],
   "source": [
    "cor(data) ### Correlation matrix"
   ]
  }
 ],
 "metadata": {
  "kernelspec": {
   "display_name": "R",
   "language": "R",
   "name": "ir"
  },
  "language_info": {
   "codemirror_mode": "r",
   "file_extension": ".r",
   "mimetype": "text/x-r-source",
   "name": "R",
   "pygments_lexer": "r",
   "version": "3.3.2"
  }
 },
 "nbformat": 4,
 "nbformat_minor": 2
}
