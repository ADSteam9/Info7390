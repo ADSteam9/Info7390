{
 "cells": [
  {
   "cell_type": "code",
   "execution_count": 5,
   "metadata": {},
   "outputs": [
    {
     "name": "stderr",
     "output_type": "stream",
     "text": [
      "Updating HTML index of packages in '.Library'\n",
      "Making 'packages.html' ... done\n",
      "dummy 0.1.3\n",
      "dummyNews()\n"
     ]
    }
   ],
   "source": [
    "### Dummy variables\n",
    "install.packages(\"dummy\")\n",
    "library(dummy)"
   ]
  },
  {
   "cell_type": "code",
   "execution_count": 1,
   "metadata": {},
   "outputs": [
    {
     "data": {
      "text/html": [
       "<table>\n",
       "<thead><tr><th scope=col>gender</th><th scope=col>age</th></tr></thead>\n",
       "<tbody>\n",
       "\t<tr><td>M </td><td>20</td></tr>\n",
       "\t<tr><td>F </td><td>30</td></tr>\n",
       "\t<tr><td>F </td><td>40</td></tr>\n",
       "\t<tr><td>M </td><td>50</td></tr>\n",
       "</tbody>\n",
       "</table>\n"
      ],
      "text/latex": [
       "\\begin{tabular}{r|ll}\n",
       " gender & age\\\\\n",
       "\\hline\n",
       "\t M  & 20\\\\\n",
       "\t F  & 30\\\\\n",
       "\t F  & 40\\\\\n",
       "\t M  & 50\\\\\n",
       "\\end{tabular}\n"
      ],
      "text/markdown": [
       "\n",
       "gender | age | \n",
       "|---|---|---|---|\n",
       "| M  | 20 | \n",
       "| F  | 30 | \n",
       "| F  | 40 | \n",
       "| M  | 50 | \n",
       "\n",
       "\n"
      ],
      "text/plain": [
       "  gender age\n",
       "1 M      20 \n",
       "2 F      30 \n",
       "3 F      40 \n",
       "4 M      50 "
      ]
     },
     "metadata": {},
     "output_type": "display_data"
    }
   ],
   "source": [
    "data=data.frame(gender=c('M','F','F','M'),age=c(20,30,40,50))\n",
    "data"
   ]
  },
  {
   "cell_type": "code",
   "execution_count": 2,
   "metadata": {},
   "outputs": [
    {
     "data": {
      "text/html": [
       "TRUE"
      ],
      "text/latex": [
       "TRUE"
      ],
      "text/markdown": [
       "TRUE"
      ],
      "text/plain": [
       "[1] TRUE"
      ]
     },
     "metadata": {},
     "output_type": "display_data"
    }
   ],
   "source": [
    "data$gender <- factor(data$gender) ### Creating factors\n",
    "is.factor(data$gender)"
   ]
  },
  {
   "cell_type": "code",
   "execution_count": 3,
   "metadata": {},
   "outputs": [
    {
     "data": {
      "text/html": [
       "<ol class=list-inline>\n",
       "\t<li>M</li>\n",
       "\t<li>F</li>\n",
       "\t<li>F</li>\n",
       "\t<li>M</li>\n",
       "</ol>\n"
      ],
      "text/latex": [
       "\\begin{enumerate*}\n",
       "\\item M\n",
       "\\item F\n",
       "\\item F\n",
       "\\item M\n",
       "\\end{enumerate*}\n"
      ],
      "text/markdown": [
       "1. M\n",
       "2. F\n",
       "3. F\n",
       "4. M\n",
       "\n",
       "\n"
      ],
      "text/plain": [
       "[1] M F F M\n",
       "Levels: F M"
      ]
     },
     "metadata": {},
     "output_type": "display_data"
    }
   ],
   "source": [
    "data$gender"
   ]
  },
  {
   "cell_type": "code",
   "execution_count": 6,
   "metadata": {},
   "outputs": [
    {
     "data": {
      "text/html": [
       "<table>\n",
       "<thead><tr><th scope=col>gender_F</th><th scope=col>gender_M</th></tr></thead>\n",
       "<tbody>\n",
       "\t<tr><td>0</td><td>1</td></tr>\n",
       "\t<tr><td>1</td><td>0</td></tr>\n",
       "\t<tr><td>1</td><td>0</td></tr>\n",
       "\t<tr><td>0</td><td>1</td></tr>\n",
       "</tbody>\n",
       "</table>\n"
      ],
      "text/latex": [
       "\\begin{tabular}{r|ll}\n",
       " gender\\_F & gender\\_M\\\\\n",
       "\\hline\n",
       "\t 0 & 1\\\\\n",
       "\t 1 & 0\\\\\n",
       "\t 1 & 0\\\\\n",
       "\t 0 & 1\\\\\n",
       "\\end{tabular}\n"
      ],
      "text/markdown": [
       "\n",
       "gender_F | gender_M | \n",
       "|---|---|---|---|\n",
       "| 0 | 1 | \n",
       "| 1 | 0 | \n",
       "| 1 | 0 | \n",
       "| 0 | 1 | \n",
       "\n",
       "\n"
      ],
      "text/plain": [
       "  gender_F gender_M\n",
       "1 0        1       \n",
       "2 1        0       \n",
       "3 1        0       \n",
       "4 0        1       "
      ]
     },
     "metadata": {},
     "output_type": "display_data"
    }
   ],
   "source": [
    "### Creating dummies\n",
    "new_gender=dummy(data, p = \"all\", object = NULL, int = FALSE, verbose = FALSE)\n",
    "new_gender"
   ]
  },
  {
   "cell_type": "code",
   "execution_count": 7,
   "metadata": {},
   "outputs": [
    {
     "data": {
      "text/html": [
       "<table>\n",
       "<thead><tr><th scope=col>gender</th><th scope=col>age</th><th scope=col>gender_F</th><th scope=col>gender_M</th></tr></thead>\n",
       "<tbody>\n",
       "\t<tr><td>M </td><td>20</td><td>0 </td><td>1 </td></tr>\n",
       "\t<tr><td>F </td><td>30</td><td>1 </td><td>0 </td></tr>\n",
       "\t<tr><td>F </td><td>40</td><td>1 </td><td>0 </td></tr>\n",
       "\t<tr><td>M </td><td>50</td><td>0 </td><td>1 </td></tr>\n",
       "</tbody>\n",
       "</table>\n"
      ],
      "text/latex": [
       "\\begin{tabular}{r|llll}\n",
       " gender & age & gender\\_F & gender\\_M\\\\\n",
       "\\hline\n",
       "\t M  & 20 & 0  & 1 \\\\\n",
       "\t F  & 30 & 1  & 0 \\\\\n",
       "\t F  & 40 & 1  & 0 \\\\\n",
       "\t M  & 50 & 0  & 1 \\\\\n",
       "\\end{tabular}\n"
      ],
      "text/markdown": [
       "\n",
       "gender | age | gender_F | gender_M | \n",
       "|---|---|---|---|\n",
       "| M  | 20 | 0  | 1  | \n",
       "| F  | 30 | 1  | 0  | \n",
       "| F  | 40 | 1  | 0  | \n",
       "| M  | 50 | 0  | 1  | \n",
       "\n",
       "\n"
      ],
      "text/plain": [
       "  gender age gender_F gender_M\n",
       "1 M      20  0        1       \n",
       "2 F      30  1        0       \n",
       "3 F      40  1        0       \n",
       "4 M      50  0        1       "
      ]
     },
     "metadata": {},
     "output_type": "display_data"
    }
   ],
   "source": [
    "cbind(data,new_gender)"
   ]
  }
 ],
 "metadata": {
  "kernelspec": {
   "display_name": "R",
   "language": "R",
   "name": "ir"
  },
  "language_info": {
   "codemirror_mode": "r",
   "file_extension": ".r",
   "mimetype": "text/x-r-source",
   "name": "R",
   "pygments_lexer": "r",
   "version": "3.3.2"
  }
 },
 "nbformat": 4,
 "nbformat_minor": 2
}
