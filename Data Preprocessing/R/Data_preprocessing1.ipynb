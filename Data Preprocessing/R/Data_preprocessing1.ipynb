{
 "cells": [
  {
   "cell_type": "code",
   "execution_count": 1,
   "metadata": {},
   "outputs": [
    {
     "data": {
      "text/plain": [
       "   Min. 1st Qu.  Median    Mean 3rd Qu.    Max. \n",
       "  1.000   2.000   3.000   3.917   5.250   9.000 "
      ]
     },
     "metadata": {},
     "output_type": "display_data"
    }
   ],
   "source": [
    "### Descriptive data summarization\n",
    "x=c(1,3,4,6,2,2,3,5,3,7,2,9)\n",
    "y=c(2,3,3,5,4,4,8,1,3,6,8,5)\n",
    "summary(x)"
   ]
  },
  {
   "cell_type": "code",
   "execution_count": 2,
   "metadata": {},
   "outputs": [
    {
     "name": "stdout",
     "output_type": "stream",
     "text": [
      "'data.frame':\t12 obs. of  2 variables:\n",
      " $ x: num  1 3 4 6 2 2 3 5 3 7 ...\n",
      " $ y: num  2 3 3 5 4 4 8 1 3 6 ...\n"
     ]
    }
   ],
   "source": [
    "z <- data.frame(x,y)\n",
    "str(z)"
   ]
  },
  {
   "cell_type": "code",
   "execution_count": 3,
   "metadata": {},
   "outputs": [
    {
     "name": "stderr",
     "output_type": "stream",
     "text": [
      "Updating HTML index of packages in '.Library'\n",
      "Making 'packages.html' ... done\n"
     ]
    }
   ],
   "source": [
    "install.packages('psych')\n",
    "library(psych)"
   ]
  },
  {
   "cell_type": "code",
   "execution_count": 4,
   "metadata": {},
   "outputs": [
    {
     "data": {
      "text/html": [
       "<table>\n",
       "<thead><tr><th></th><th scope=col>vars</th><th scope=col>n</th><th scope=col>mean</th><th scope=col>sd</th><th scope=col>median</th><th scope=col>trimmed</th><th scope=col>mad</th><th scope=col>min</th><th scope=col>max</th><th scope=col>range</th><th scope=col>skew</th><th scope=col>kurtosis</th><th scope=col>se</th></tr></thead>\n",
       "<tbody>\n",
       "\t<tr><th scope=row>x</th><td>1         </td><td>12        </td><td>3.916667  </td><td>2.391589  </td><td>3         </td><td>3.7       </td><td>1.4826    </td><td>1         </td><td>9         </td><td>8         </td><td>0.7477072 </td><td>-0.7245612</td><td>0.6903922 </td></tr>\n",
       "\t<tr><th scope=row>y</th><td>2         </td><td>12        </td><td>4.333333  </td><td>2.188122  </td><td>4         </td><td>4.3       </td><td>1.4826    </td><td>1         </td><td>8         </td><td>7         </td><td>0.3729701 </td><td>-1.0652473</td><td>0.6316565 </td></tr>\n",
       "</tbody>\n",
       "</table>\n"
      ],
      "text/latex": [
       "\\begin{tabular}{r|lllllllllllll}\n",
       "  & vars & n & mean & sd & median & trimmed & mad & min & max & range & skew & kurtosis & se\\\\\n",
       "\\hline\n",
       "\tx & 1          & 12         & 3.916667   & 2.391589   & 3          & 3.7        & 1.4826     & 1          & 9          & 8          & 0.7477072  & -0.7245612 & 0.6903922 \\\\\n",
       "\ty & 2          & 12         & 4.333333   & 2.188122   & 4          & 4.3        & 1.4826     & 1          & 8          & 7          & 0.3729701  & -1.0652473 & 0.6316565 \\\\\n",
       "\\end{tabular}\n"
      ],
      "text/markdown": [
       "\n",
       "| <!--/--> | vars | n | mean | sd | median | trimmed | mad | min | max | range | skew | kurtosis | se | \n",
       "|---|---|\n",
       "| x | 1          | 12         | 3.916667   | 2.391589   | 3          | 3.7        | 1.4826     | 1          | 9          | 8          | 0.7477072  | -0.7245612 | 0.6903922  | \n",
       "| y | 2          | 12         | 4.333333   | 2.188122   | 4          | 4.3        | 1.4826     | 1          | 8          | 7          | 0.3729701  | -1.0652473 | 0.6316565  | \n",
       "\n",
       "\n"
      ],
      "text/plain": [
       "  vars n  mean     sd       median trimmed mad    min max range skew     \n",
       "x 1    12 3.916667 2.391589 3      3.7     1.4826 1   9   8     0.7477072\n",
       "y 2    12 4.333333 2.188122 4      4.3     1.4826 1   8   7     0.3729701\n",
       "  kurtosis   se       \n",
       "x -0.7245612 0.6903922\n",
       "y -1.0652473 0.6316565"
      ]
     },
     "metadata": {},
     "output_type": "display_data"
    }
   ],
   "source": [
    "describe(z)"
   ]
  },
  {
   "cell_type": "code",
   "execution_count": 5,
   "metadata": {},
   "outputs": [
    {
     "data": {
      "text/html": [
       "<dl class=dl-horizontal>\n",
       "\t<dt>x</dt>\n",
       "\t\t<dd>3.91666666666667</dd>\n",
       "\t<dt>y</dt>\n",
       "\t\t<dd>4.33333333333333</dd>\n",
       "</dl>\n"
      ],
      "text/latex": [
       "\\begin{description*}\n",
       "\\item[x] 3.91666666666667\n",
       "\\item[y] 4.33333333333333\n",
       "\\end{description*}\n"
      ],
      "text/markdown": [
       "x\n",
       ":   3.91666666666667y\n",
       ":   4.33333333333333\n",
       "\n"
      ],
      "text/plain": [
       "       x        y \n",
       "3.916667 4.333333 "
      ]
     },
     "metadata": {},
     "output_type": "display_data"
    },
    {
     "data": {
      "text/html": [
       "<dl class=dl-horizontal>\n",
       "\t<dt>x</dt>\n",
       "\t\t<dd>2.39158879611378</dd>\n",
       "\t<dt>y</dt>\n",
       "\t\t<dd>2.18812220588311</dd>\n",
       "</dl>\n"
      ],
      "text/latex": [
       "\\begin{description*}\n",
       "\\item[x] 2.39158879611378\n",
       "\\item[y] 2.18812220588311\n",
       "\\end{description*}\n"
      ],
      "text/markdown": [
       "x\n",
       ":   2.39158879611378y\n",
       ":   2.18812220588311\n",
       "\n"
      ],
      "text/plain": [
       "       x        y \n",
       "2.391589 2.188122 "
      ]
     },
     "metadata": {},
     "output_type": "display_data"
    },
    {
     "data": {
      "text/html": [
       "<dl class=dl-horizontal>\n",
       "\t<dt>x</dt>\n",
       "\t\t<dd>3</dd>\n",
       "\t<dt>y</dt>\n",
       "\t\t<dd>4</dd>\n",
       "</dl>\n"
      ],
      "text/latex": [
       "\\begin{description*}\n",
       "\\item[x] 3\n",
       "\\item[y] 4\n",
       "\\end{description*}\n"
      ],
      "text/markdown": [
       "x\n",
       ":   3y\n",
       ":   4\n",
       "\n"
      ],
      "text/plain": [
       "x y \n",
       "3 4 "
      ]
     },
     "metadata": {},
     "output_type": "display_data"
    }
   ],
   "source": [
    "apply(z,2,mean)\n",
    "apply(z,2,sd)\n",
    "apply(z,2,median)"
   ]
  },
  {
   "cell_type": "code",
   "execution_count": 7,
   "metadata": {},
   "outputs": [
    {
     "data": {
      "image/png": "[encoded data removed]",
      "text/plain": [
       "Plot with title “Histogram of x”"
      ]
     },
     "metadata": {},
     "output_type": "display_data"
    }
   ],
   "source": [
    "### Histogram, box plot and scatter plot\n",
    "hist(x, main=\"Histogram of x\")"
   ]
  },
  {
   "cell_type": "code",
   "execution_count": 8,
   "metadata": {},
   "outputs": [
    {
     "data": {
      "image/png": "[encoded data removed]",
      "text/plain": [
       "Plot with title “Boxplot of x”"
      ]
     },
     "metadata": {},
     "output_type": "display_data"
    }
   ],
   "source": [
    "boxplot(x, main=\"Boxplot of x\")"
   ]
  },
  {
   "cell_type": "code",
   "execution_count": 9,
   "metadata": {},
   "outputs": [
    {
     "data": {
      "image/png": "[encoded data removed]",
      "text/plain": [
       "Plot with title “Scatterplot of x vs y”"
      ]
     },
     "metadata": {},
     "output_type": "display_data"
    }
   ],
   "source": [
    "plot(x,y, main=\"Scatterplot of x vs y\")"
   ]
  },
  {
   "cell_type": "code",
   "execution_count": 10,
   "metadata": {},
   "outputs": [
    {
     "data": {
      "image/png": "[encoded data removed]",
      "text/plain": [
       "Plot with title “density.default(x = x)”"
      ]
     },
     "metadata": {},
     "output_type": "display_data"
    }
   ],
   "source": [
    "### Probability Mass Function\n",
    "plot(density(x))"
   ]
  },
  {
   "cell_type": "code",
   "execution_count": 11,
   "metadata": {},
   "outputs": [
    {
     "data": {
      "image/png": "[encoded data removed]",
      "text/plain": [
       "Plot with title “Q-Q plot of x and y”"
      ]
     },
     "metadata": {},
     "output_type": "display_data"
    }
   ],
   "source": [
    "### Q-Q Plot for two samples\n",
    "qqplot(x,y,main=\"Q-Q plot of x and y\")"
   ]
  },
  {
   "cell_type": "code",
   "execution_count": 12,
   "metadata": {},
   "outputs": [
    {
     "ename": "ERROR",
     "evalue": "Error in int_abline(a = a, b = b, h = h, v = v, untf = untf, ...): plot.new has not been called yet\n",
     "output_type": "error",
     "traceback": [
      "Error in int_abline(a = a, b = b, h = h, v = v, untf = untf, ...): plot.new has not been called yet\nTraceback:\n",
      "1. abline(0, 1)",
      "2. int_abline(a = a, b = b, h = h, v = v, untf = untf, ...)"
     ]
    }
   ],
   "source": [
    "abline(0,1)"
   ]
  },
  {
   "cell_type": "code",
   "execution_count": 13,
   "metadata": {},
   "outputs": [
    {
     "data": {
      "image/png": "[encoded data removed]",
      "text/plain": [
       "plot without title"
      ]
     },
     "metadata": {},
     "output_type": "display_data"
    }
   ],
   "source": [
    "### Side-by-Side Boxplot\n",
    "data_test=data.frame(age=c(45,35,67,23,43,24,32,41,61,25),\n",
    "                gender=c('M','F','F','M','F','M','M','F','F','M'))\n",
    "boxplot(data_test$age~data_test$gender)"
   ]
  },
  {
   "cell_type": "code",
   "execution_count": 14,
   "metadata": {},
   "outputs": [
    {
     "data": {
      "text/plain": [
       "       type\n",
       "color   a b c\n",
       "  blue  1 1 1\n",
       "  green 2 0 0\n",
       "  red   0 1 2"
      ]
     },
     "metadata": {},
     "output_type": "display_data"
    }
   ],
   "source": [
    "### Cross-Tabs\n",
    "cat=data.frame(color=c('blue','green','red','blue','red','green','red','blue'),\n",
    "               type=c('a','a','b','c','c','a','c','b'))\n",
    "table(cat)"
   ]
  },
  {
   "cell_type": "code",
   "execution_count": 15,
   "metadata": {},
   "outputs": [
    {
     "data": {
      "text/html": [
       "<table>\n",
       "<thead><tr><th scope=col>x</th><th scope=col>y</th></tr></thead>\n",
       "<tbody>\n",
       "\t<tr><td>  1</td><td>  2</td></tr>\n",
       "\t<tr><td>  3</td><td>  3</td></tr>\n",
       "\t<tr><td>  4</td><td>  3</td></tr>\n",
       "\t<tr><td>  6</td><td>  5</td></tr>\n",
       "\t<tr><td>  2</td><td>  4</td></tr>\n",
       "\t<tr><td>NaN</td><td>  4</td></tr>\n",
       "\t<tr><td>  3</td><td>  8</td></tr>\n",
       "\t<tr><td>  5</td><td>  1</td></tr>\n",
       "\t<tr><td>  3</td><td>  3</td></tr>\n",
       "\t<tr><td>  7</td><td>NaN</td></tr>\n",
       "\t<tr><td>  2</td><td>  8</td></tr>\n",
       "\t<tr><td>  9</td><td>  5</td></tr>\n",
       "</tbody>\n",
       "</table>\n"
      ],
      "text/latex": [
       "\\begin{tabular}{ll}\n",
       " x & y\\\\\n",
       "\\hline\n",
       "\t   1 &   2\\\\\n",
       "\t   3 &   3\\\\\n",
       "\t   4 &   3\\\\\n",
       "\t   6 &   5\\\\\n",
       "\t   2 &   4\\\\\n",
       "\t NaN &   4\\\\\n",
       "\t   3 &   8\\\\\n",
       "\t   5 &   1\\\\\n",
       "\t   3 &   3\\\\\n",
       "\t   7 & NaN\\\\\n",
       "\t   2 &   8\\\\\n",
       "\t   9 &   5\\\\\n",
       "\\end{tabular}\n"
      ],
      "text/markdown": [
       "\n",
       "x | y | \n",
       "|---|---|---|---|---|---|---|---|---|---|---|---|\n",
       "|   1 |   2 | \n",
       "|   3 |   3 | \n",
       "|   4 |   3 | \n",
       "|   6 |   5 | \n",
       "|   2 |   4 | \n",
       "| NaN |   4 | \n",
       "|   3 |   8 | \n",
       "|   5 |   1 | \n",
       "|   3 |   3 | \n",
       "|   7 | NaN | \n",
       "|   2 |   8 | \n",
       "|   9 |   5 | \n",
       "\n",
       "\n"
      ],
      "text/plain": [
       "      x   y  \n",
       " [1,]   1   2\n",
       " [2,]   3   3\n",
       " [3,]   4   3\n",
       " [4,]   6   5\n",
       " [5,]   2   4\n",
       " [6,] NaN   4\n",
       " [7,]   3   8\n",
       " [8,]   5   1\n",
       " [9,]   3   3\n",
       "[10,]   7 NaN\n",
       "[11,]   2   8\n",
       "[12,]   9   5"
      ]
     },
     "metadata": {},
     "output_type": "display_data"
    }
   ],
   "source": [
    "### Removing NaN\n",
    "x=c(1,3,4,6,2,NaN,3,5,3,7,2,9)\n",
    "y=c(2,3,3,5,4,4,8,1,3,NaN,8,5)\n",
    "data <- cbind(x,y)\n",
    "data"
   ]
  },
  {
   "cell_type": "code",
   "execution_count": 16,
   "metadata": {},
   "outputs": [
    {
     "data": {
      "text/html": [
       "<table>\n",
       "<thead><tr><th scope=col>x</th><th scope=col>y</th></tr></thead>\n",
       "<tbody>\n",
       "\t<tr><td>1</td><td>2</td></tr>\n",
       "\t<tr><td>3</td><td>3</td></tr>\n",
       "\t<tr><td>4</td><td>3</td></tr>\n",
       "\t<tr><td>6</td><td>5</td></tr>\n",
       "\t<tr><td>2</td><td>4</td></tr>\n",
       "\t<tr><td>3</td><td>8</td></tr>\n",
       "\t<tr><td>5</td><td>1</td></tr>\n",
       "\t<tr><td>3</td><td>3</td></tr>\n",
       "\t<tr><td>2</td><td>8</td></tr>\n",
       "\t<tr><td>9</td><td>5</td></tr>\n",
       "</tbody>\n",
       "</table>\n"
      ],
      "text/latex": [
       "\\begin{tabular}{ll}\n",
       " x & y\\\\\n",
       "\\hline\n",
       "\t 1 & 2\\\\\n",
       "\t 3 & 3\\\\\n",
       "\t 4 & 3\\\\\n",
       "\t 6 & 5\\\\\n",
       "\t 2 & 4\\\\\n",
       "\t 3 & 8\\\\\n",
       "\t 5 & 1\\\\\n",
       "\t 3 & 3\\\\\n",
       "\t 2 & 8\\\\\n",
       "\t 9 & 5\\\\\n",
       "\\end{tabular}\n"
      ],
      "text/markdown": [
       "\n",
       "x | y | \n",
       "|---|---|---|---|---|---|---|---|---|---|\n",
       "| 1 | 2 | \n",
       "| 3 | 3 | \n",
       "| 4 | 3 | \n",
       "| 6 | 5 | \n",
       "| 2 | 4 | \n",
       "| 3 | 8 | \n",
       "| 5 | 1 | \n",
       "| 3 | 3 | \n",
       "| 2 | 8 | \n",
       "| 9 | 5 | \n",
       "\n",
       "\n"
      ],
      "text/plain": [
       "      x y\n",
       " [1,] 1 2\n",
       " [2,] 3 3\n",
       " [3,] 4 3\n",
       " [4,] 6 5\n",
       " [5,] 2 4\n",
       " [6,] 3 8\n",
       " [7,] 5 1\n",
       " [8,] 3 3\n",
       " [9,] 2 8\n",
       "[10,] 9 5"
      ]
     },
     "metadata": {},
     "output_type": "display_data"
    }
   ],
   "source": [
    "data[complete.cases(data),]"
   ]
  },
  {
   "cell_type": "code",
   "execution_count": 17,
   "metadata": {},
   "outputs": [
    {
     "data": {
      "text/html": [
       "<dl class=dl-horizontal>\n",
       "\t<dt>x</dt>\n",
       "\t\t<dd>4.09090909090909</dd>\n",
       "\t<dt>y</dt>\n",
       "\t\t<dd>4.18181818181818</dd>\n",
       "</dl>\n"
      ],
      "text/latex": [
       "\\begin{description*}\n",
       "\\item[x] 4.09090909090909\n",
       "\\item[y] 4.18181818181818\n",
       "\\end{description*}\n"
      ],
      "text/markdown": [
       "x\n",
       ":   4.09090909090909y\n",
       ":   4.18181818181818\n",
       "\n"
      ],
      "text/plain": [
       "       x        y \n",
       "4.090909 4.181818 "
      ]
     },
     "metadata": {},
     "output_type": "display_data"
    }
   ],
   "source": [
    "### Replacing NaN with mean\n",
    "x=c(1,3,4,6,2,NaN,3,5,3,7,2,9)\n",
    "y=c(2,3,3,5,4,4,8,1,3,NaN,8,5)\n",
    "data <- cbind(x,y)\n",
    "means <- colMeans(data, na.rm=TRUE) \n",
    "means"
   ]
  },
  {
   "cell_type": "code",
   "execution_count": 22,
   "metadata": {},
   "outputs": [
    {
     "data": {
      "text/html": [
       "<table>\n",
       "<thead><tr><th scope=col>x</th><th scope=col>y</th></tr></thead>\n",
       "<tbody>\n",
       "\t<tr><td>1.000000</td><td>2.000000</td></tr>\n",
       "\t<tr><td>3.000000</td><td>3.000000</td></tr>\n",
       "\t<tr><td>4.000000</td><td>3.000000</td></tr>\n",
       "\t<tr><td>6.000000</td><td>5.000000</td></tr>\n",
       "\t<tr><td>2.000000</td><td>4.000000</td></tr>\n",
       "\t<tr><td>4.090909</td><td>4.000000</td></tr>\n",
       "\t<tr><td>3.000000</td><td>8.000000</td></tr>\n",
       "\t<tr><td>5.000000</td><td>1.000000</td></tr>\n",
       "\t<tr><td>3.000000</td><td>3.000000</td></tr>\n",
       "\t<tr><td>7.000000</td><td>4.181818</td></tr>\n",
       "\t<tr><td>2.000000</td><td>8.000000</td></tr>\n",
       "\t<tr><td>9.000000</td><td>5.000000</td></tr>\n",
       "</tbody>\n",
       "</table>\n"
      ],
      "text/latex": [
       "\\begin{tabular}{ll}\n",
       " x & y\\\\\n",
       "\\hline\n",
       "\t 1.000000 & 2.000000\\\\\n",
       "\t 3.000000 & 3.000000\\\\\n",
       "\t 4.000000 & 3.000000\\\\\n",
       "\t 6.000000 & 5.000000\\\\\n",
       "\t 2.000000 & 4.000000\\\\\n",
       "\t 4.090909 & 4.000000\\\\\n",
       "\t 3.000000 & 8.000000\\\\\n",
       "\t 5.000000 & 1.000000\\\\\n",
       "\t 3.000000 & 3.000000\\\\\n",
       "\t 7.000000 & 4.181818\\\\\n",
       "\t 2.000000 & 8.000000\\\\\n",
       "\t 9.000000 & 5.000000\\\\\n",
       "\\end{tabular}\n"
      ],
      "text/markdown": [
       "\n",
       "x | y | \n",
       "|---|---|---|---|---|---|---|---|---|---|---|---|\n",
       "| 1.000000 | 2.000000 | \n",
       "| 3.000000 | 3.000000 | \n",
       "| 4.000000 | 3.000000 | \n",
       "| 6.000000 | 5.000000 | \n",
       "| 2.000000 | 4.000000 | \n",
       "| 4.090909 | 4.000000 | \n",
       "| 3.000000 | 8.000000 | \n",
       "| 5.000000 | 1.000000 | \n",
       "| 3.000000 | 3.000000 | \n",
       "| 7.000000 | 4.181818 | \n",
       "| 2.000000 | 8.000000 | \n",
       "| 9.000000 | 5.000000 | \n",
       "\n",
       "\n"
      ],
      "text/plain": [
       "      x        y       \n",
       " [1,] 1.000000 2.000000\n",
       " [2,] 3.000000 3.000000\n",
       " [3,] 4.000000 3.000000\n",
       " [4,] 6.000000 5.000000\n",
       " [5,] 2.000000 4.000000\n",
       " [6,] 4.090909 4.000000\n",
       " [7,] 3.000000 8.000000\n",
       " [8,] 5.000000 1.000000\n",
       " [9,] 3.000000 3.000000\n",
       "[10,] 7.000000 4.181818\n",
       "[11,] 2.000000 8.000000\n",
       "[12,] 9.000000 5.000000"
      ]
     },
     "metadata": {},
     "output_type": "display_data"
    }
   ],
   "source": [
    "for (i in 1:ncol(data)){ \n",
    "       data[is.na(data[, i]), i] <- means[i] \n",
    "  } \n",
    "data"
   ]
  },
  {
   "cell_type": "code",
   "execution_count": 23,
   "metadata": {},
   "outputs": [
    {
     "name": "stderr",
     "output_type": "stream",
     "text": [
      "also installing the dependencies ‘praise’, ‘rgl’, ‘mlbench’, ‘testthat’\n",
      "\n",
      "Warning message in install.packages(\"clusterSim\", dependencies = TRUE):\n",
      "“installation of package ‘rgl’ had non-zero exit status”Warning message in install.packages(\"clusterSim\", dependencies = TRUE):\n",
      "“installation of package ‘clusterSim’ had non-zero exit status”Updating HTML index of packages in '.Library'\n",
      "Making 'packages.html' ... done\n"
     ]
    },
    {
     "ename": "ERROR",
     "evalue": "Error in library(clusterSim): there is no package called ‘clusterSim’\n",
     "output_type": "error",
     "traceback": [
      "Error in library(clusterSim): there is no package called ‘clusterSim’\nTraceback:\n",
      "1. library(clusterSim)",
      "2. stop(txt, domain = NA)"
     ]
    }
   ],
   "source": [
    "### z-score Normalizing\n",
    "install.packages(\"clusterSim\",dependencies =TRUE)\n",
    "library(clusterSim)"
   ]
  },
  {
   "cell_type": "code",
   "execution_count": 20,
   "metadata": {},
   "outputs": [
    {
     "ename": "ERROR",
     "evalue": "Error in eval(expr, envir, enclos): could not find function \"data.Normalization\"\n",
     "output_type": "error",
     "traceback": [
      "Error in eval(expr, envir, enclos): could not find function \"data.Normalization\"\nTraceback:\n"
     ]
    }
   ],
   "source": [
    "data.Normalization (data,type=\"n1\",normalization=\"column\")"
   ]
  },
  {
   "cell_type": "code",
   "execution_count": 21,
   "metadata": {},
   "outputs": [
    {
     "ename": "ERROR",
     "evalue": "Error in eval(expr, envir, enclos): could not find function \"data.Normalization\"\n",
     "output_type": "error",
     "traceback": [
      "Error in eval(expr, envir, enclos): could not find function \"data.Normalization\"\nTraceback:\n"
     ]
    }
   ],
   "source": [
    "### Min-Max Normalizing\n",
    "data.Normalization (data,type=\"n4\",normalization=\"column\")"
   ]
  }
 ],
 "metadata": {
  "kernelspec": {
   "display_name": "R",
   "language": "R",
   "name": "ir"
  },
  "language_info": {
   "codemirror_mode": "r",
   "file_extension": ".r",
   "mimetype": "text/x-r-source",
   "name": "R",
   "pygments_lexer": "r",
   "version": "3.3.2"
  }
 },
 "nbformat": 4,
 "nbformat_minor": 2
}
