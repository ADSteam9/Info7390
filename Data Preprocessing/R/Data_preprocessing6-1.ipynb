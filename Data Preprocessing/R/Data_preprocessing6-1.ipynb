{
 "cells": [
  {
   "cell_type": "code",
   "execution_count": 1,
   "metadata": {},
   "outputs": [
    {
     "data": {
      "text/html": [
       "<table>\n",
       "<thead><tr><th scope=col>x</th><th scope=col>y</th></tr></thead>\n",
       "<tbody>\n",
       "\t<tr><td>1</td><td>2</td></tr>\n",
       "\t<tr><td>3</td><td>4</td></tr>\n",
       "\t<tr><td>2</td><td>2</td></tr>\n",
       "\t<tr><td>4</td><td>7</td></tr>\n",
       "\t<tr><td>5</td><td>4</td></tr>\n",
       "\t<tr><td>6</td><td>3</td></tr>\n",
       "\t<tr><td>4</td><td>2</td></tr>\n",
       "\t<tr><td>2</td><td>1</td></tr>\n",
       "\t<tr><td>5</td><td>8</td></tr>\n",
       "</tbody>\n",
       "</table>\n"
      ],
      "text/latex": [
       "\\begin{tabular}{r|ll}\n",
       " x & y\\\\\n",
       "\\hline\n",
       "\t 1 & 2\\\\\n",
       "\t 3 & 4\\\\\n",
       "\t 2 & 2\\\\\n",
       "\t 4 & 7\\\\\n",
       "\t 5 & 4\\\\\n",
       "\t 6 & 3\\\\\n",
       "\t 4 & 2\\\\\n",
       "\t 2 & 1\\\\\n",
       "\t 5 & 8\\\\\n",
       "\\end{tabular}\n"
      ],
      "text/markdown": [
       "\n",
       "x | y | \n",
       "|---|---|---|---|---|---|---|---|---|\n",
       "| 1 | 2 | \n",
       "| 3 | 4 | \n",
       "| 2 | 2 | \n",
       "| 4 | 7 | \n",
       "| 5 | 4 | \n",
       "| 6 | 3 | \n",
       "| 4 | 2 | \n",
       "| 2 | 1 | \n",
       "| 5 | 8 | \n",
       "\n",
       "\n"
      ],
      "text/plain": [
       "  x y\n",
       "1 1 2\n",
       "2 3 4\n",
       "3 2 2\n",
       "4 4 7\n",
       "5 5 4\n",
       "6 6 3\n",
       "7 4 2\n",
       "8 2 1\n",
       "9 5 8"
      ]
     },
     "metadata": {},
     "output_type": "display_data"
    }
   ],
   "source": [
    "data=data.frame(x=c(1,3,2,4,5,6,4,2,5),y=c(2,4,2,7,4,3,2,1,8))\n",
    "data"
   ]
  },
  {
   "cell_type": "code",
   "execution_count": 2,
   "metadata": {
    "collapsed": true
   },
   "outputs": [],
   "source": [
    "set.seed(1)"
   ]
  },
  {
   "cell_type": "code",
   "execution_count": 3,
   "metadata": {},
   "outputs": [
    {
     "data": {
      "text/html": [
       "<table>\n",
       "<thead><tr><th></th><th scope=col>x</th><th scope=col>y</th></tr></thead>\n",
       "<tbody>\n",
       "\t<tr><th scope=row>3</th><td>2</td><td>2</td></tr>\n",
       "\t<tr><th scope=row>9</th><td>5</td><td>8</td></tr>\n",
       "\t<tr><th scope=row>5</th><td>5</td><td>4</td></tr>\n",
       "\t<tr><th scope=row>6</th><td>6</td><td>3</td></tr>\n",
       "</tbody>\n",
       "</table>\n"
      ],
      "text/latex": [
       "\\begin{tabular}{r|ll}\n",
       "  & x & y\\\\\n",
       "\\hline\n",
       "\t3 & 2 & 2\\\\\n",
       "\t9 & 5 & 8\\\\\n",
       "\t5 & 5 & 4\\\\\n",
       "\t6 & 6 & 3\\\\\n",
       "\\end{tabular}\n"
      ],
      "text/markdown": [
       "\n",
       "| <!--/--> | x | y | \n",
       "|---|---|---|---|\n",
       "| 3 | 2 | 2 | \n",
       "| 9 | 5 | 8 | \n",
       "| 5 | 5 | 4 | \n",
       "| 6 | 6 | 3 | \n",
       "\n",
       "\n"
      ],
      "text/plain": [
       "  x y\n",
       "3 2 2\n",
       "9 5 8\n",
       "5 5 4\n",
       "6 6 3"
      ]
     },
     "metadata": {},
     "output_type": "display_data"
    }
   ],
   "source": [
    "#### Half of rows as sample\n",
    "data_sample=sample(1: nrow(data), 0.5*nrow(data)) \n",
    "data[data_sample,]"
   ]
  }
 ],
 "metadata": {
  "kernelspec": {
   "display_name": "R",
   "language": "R",
   "name": "ir"
  },
  "language_info": {
   "codemirror_mode": "r",
   "file_extension": ".r",
   "mimetype": "text/x-r-source",
   "name": "R",
   "pygments_lexer": "r",
   "version": "3.3.2"
  }
 },
 "nbformat": 4,
 "nbformat_minor": 2
}
