{
 "cells": [
  {
   "cell_type": "code",
   "execution_count": 1,
   "metadata": {},
   "outputs": [
    {
     "data": {
      "text/html": [
       "<ol class=list-inline>\n",
       "\t<li>(0.989,3.75]</li>\n",
       "\t<li>(0.989,3.75]</li>\n",
       "\t<li>(0.989,3.75]</li>\n",
       "\t<li>(3.75,6.5]</li>\n",
       "\t<li>(0.989,3.75]</li>\n",
       "\t<li>(3.75,6.5]</li>\n",
       "\t<li>(6.5,9.25]</li>\n",
       "\t<li>(6.5,9.25]</li>\n",
       "\t<li>(9.25,12]</li>\n",
       "\t<li>(3.75,6.5]</li>\n",
       "\t<li>(3.75,6.5]</li>\n",
       "\t<li>(6.5,9.25]</li>\n",
       "</ol>\n"
      ],
      "text/latex": [
       "\\begin{enumerate*}\n",
       "\\item (0.989,3.75{]}\n",
       "\\item (0.989,3.75{]}\n",
       "\\item (0.989,3.75{]}\n",
       "\\item (3.75,6.5{]}\n",
       "\\item (0.989,3.75{]}\n",
       "\\item (3.75,6.5{]}\n",
       "\\item (6.5,9.25{]}\n",
       "\\item (6.5,9.25{]}\n",
       "\\item (9.25,12{]}\n",
       "\\item (3.75,6.5{]}\n",
       "\\item (3.75,6.5{]}\n",
       "\\item (6.5,9.25{]}\n",
       "\\end{enumerate*}\n"
      ],
      "text/markdown": [
       "1. (0.989,3.75]\n",
       "2. (0.989,3.75]\n",
       "3. (0.989,3.75]\n",
       "4. (3.75,6.5]\n",
       "5. (0.989,3.75]\n",
       "6. (3.75,6.5]\n",
       "7. (6.5,9.25]\n",
       "8. (6.5,9.25]\n",
       "9. (9.25,12]\n",
       "10. (3.75,6.5]\n",
       "11. (3.75,6.5]\n",
       "12. (6.5,9.25]\n",
       "\n",
       "\n"
      ],
      "text/plain": [
       " [1] (0.989,3.75] (0.989,3.75] (0.989,3.75] (3.75,6.5]   (0.989,3.75]\n",
       " [6] (3.75,6.5]   (6.5,9.25]   (6.5,9.25]   (9.25,12]    (3.75,6.5]  \n",
       "[11] (3.75,6.5]   (6.5,9.25]  \n",
       "Levels: (0.989,3.75] (3.75,6.5] (6.5,9.25] (9.25,12]"
      ]
     },
     "metadata": {},
     "output_type": "display_data"
    }
   ],
   "source": [
    "### Binning (equal length bins)\n",
    "x=c(1,2,3,4,2,4,7,8,12,5,6,8)\n",
    "y=cut(x,4)\n",
    "y"
   ]
  },
  {
   "cell_type": "code",
   "execution_count": 2,
   "metadata": {},
   "outputs": [
    {
     "data": {
      "text/html": [
       "<dl>\n",
       "\t<dt>$`(0.989,3.75]`</dt>\n",
       "\t\t<dd><ol class=list-inline>\n",
       "\t<li>1</li>\n",
       "\t<li>2</li>\n",
       "\t<li>3</li>\n",
       "\t<li>2</li>\n",
       "</ol>\n",
       "</dd>\n",
       "\t<dt>$`(3.75,6.5]`</dt>\n",
       "\t\t<dd><ol class=list-inline>\n",
       "\t<li>4</li>\n",
       "\t<li>4</li>\n",
       "\t<li>5</li>\n",
       "\t<li>6</li>\n",
       "</ol>\n",
       "</dd>\n",
       "\t<dt>$`(6.5,9.25]`</dt>\n",
       "\t\t<dd><ol class=list-inline>\n",
       "\t<li>7</li>\n",
       "\t<li>8</li>\n",
       "\t<li>8</li>\n",
       "</ol>\n",
       "</dd>\n",
       "\t<dt>$`(9.25,12]`</dt>\n",
       "\t\t<dd>12</dd>\n",
       "</dl>\n"
      ],
      "text/latex": [
       "\\begin{description}\n",
       "\\item[\\$`(0.989,3.75{]}`] \\begin{enumerate*}\n",
       "\\item 1\n",
       "\\item 2\n",
       "\\item 3\n",
       "\\item 2\n",
       "\\end{enumerate*}\n",
       "\n",
       "\\item[\\$`(3.75,6.5{]}`] \\begin{enumerate*}\n",
       "\\item 4\n",
       "\\item 4\n",
       "\\item 5\n",
       "\\item 6\n",
       "\\end{enumerate*}\n",
       "\n",
       "\\item[\\$`(6.5,9.25{]}`] \\begin{enumerate*}\n",
       "\\item 7\n",
       "\\item 8\n",
       "\\item 8\n",
       "\\end{enumerate*}\n",
       "\n",
       "\\item[\\$`(9.25,12{]}`] 12\n",
       "\\end{description}\n"
      ],
      "text/markdown": [
       "$`(0.989,3.75]`\n",
       ":   1. 1\n",
       "2. 2\n",
       "3. 3\n",
       "4. 2\n",
       "\n",
       "\n",
       "\n",
       "$`(3.75,6.5]`\n",
       ":   1. 4\n",
       "2. 4\n",
       "3. 5\n",
       "4. 6\n",
       "\n",
       "\n",
       "\n",
       "$`(6.5,9.25]`\n",
       ":   1. 7\n",
       "2. 8\n",
       "3. 8\n",
       "\n",
       "\n",
       "\n",
       "$`(9.25,12]`\n",
       ":   12\n",
       "\n",
       "\n"
      ],
      "text/plain": [
       "$`(0.989,3.75]`\n",
       "[1] 1 2 3 2\n",
       "\n",
       "$`(3.75,6.5]`\n",
       "[1] 4 4 5 6\n",
       "\n",
       "$`(6.5,9.25]`\n",
       "[1] 7 8 8\n",
       "\n",
       "$`(9.25,12]`\n",
       "[1] 12\n"
      ]
     },
     "metadata": {},
     "output_type": "display_data"
    }
   ],
   "source": [
    "k=split(x,y)\n",
    "k"
   ]
  },
  {
   "cell_type": "code",
   "execution_count": 3,
   "metadata": {},
   "outputs": [
    {
     "data": {
      "text/html": [
       "<table>\n",
       "<thead><tr><th scope=col>Group.1</th><th scope=col>x</th></tr></thead>\n",
       "<tbody>\n",
       "\t<tr><td>(0.989,3.75]</td><td> 2.000000   </td></tr>\n",
       "\t<tr><td>(3.75,6.5]  </td><td> 4.750000   </td></tr>\n",
       "\t<tr><td>(6.5,9.25]  </td><td> 7.666667   </td></tr>\n",
       "\t<tr><td>(9.25,12]   </td><td>12.000000   </td></tr>\n",
       "</tbody>\n",
       "</table>\n"
      ],
      "text/latex": [
       "\\begin{tabular}{r|ll}\n",
       " Group.1 & x\\\\\n",
       "\\hline\n",
       "\t (0.989,3.75{]} &  2.000000     \\\\\n",
       "\t (3.75,6.5{]}   &  4.750000     \\\\\n",
       "\t (6.5,9.25{]}   &  7.666667     \\\\\n",
       "\t (9.25,12{]}    & 12.000000     \\\\\n",
       "\\end{tabular}\n"
      ],
      "text/markdown": [
       "\n",
       "Group.1 | x | \n",
       "|---|---|---|---|\n",
       "| (0.989,3.75] |  2.000000    | \n",
       "| (3.75,6.5]   |  4.750000    | \n",
       "| (6.5,9.25]   |  7.666667    | \n",
       "| (9.25,12]    | 12.000000    | \n",
       "\n",
       "\n"
      ],
      "text/plain": [
       "  Group.1      x        \n",
       "1 (0.989,3.75]  2.000000\n",
       "2 (3.75,6.5]    4.750000\n",
       "3 (6.5,9.25]    7.666667\n",
       "4 (9.25,12]    12.000000"
      ]
     },
     "metadata": {},
     "output_type": "display_data"
    }
   ],
   "source": [
    "y=factor(y)\n",
    "aggregate(x,by=list(y),FUN='mean')"
   ]
  },
  {
   "cell_type": "code",
   "execution_count": 4,
   "metadata": {},
   "outputs": [
    {
     "data": {
      "text/html": [
       "<table>\n",
       "<thead><tr><th scope=col>Group.1</th><th scope=col>x</th></tr></thead>\n",
       "<tbody>\n",
       "\t<tr><td>(0.989,3.75]</td><td>0.8164966   </td></tr>\n",
       "\t<tr><td>(3.75,6.5]  </td><td>0.9574271   </td></tr>\n",
       "\t<tr><td>(6.5,9.25]  </td><td>0.5773503   </td></tr>\n",
       "\t<tr><td>(9.25,12]   </td><td>       NA   </td></tr>\n",
       "</tbody>\n",
       "</table>\n"
      ],
      "text/latex": [
       "\\begin{tabular}{r|ll}\n",
       " Group.1 & x\\\\\n",
       "\\hline\n",
       "\t (0.989,3.75{]} & 0.8164966     \\\\\n",
       "\t (3.75,6.5{]}   & 0.9574271     \\\\\n",
       "\t (6.5,9.25{]}   & 0.5773503     \\\\\n",
       "\t (9.25,12{]}    &        NA     \\\\\n",
       "\\end{tabular}\n"
      ],
      "text/markdown": [
       "\n",
       "Group.1 | x | \n",
       "|---|---|---|---|\n",
       "| (0.989,3.75] | 0.8164966    | \n",
       "| (3.75,6.5]   | 0.9574271    | \n",
       "| (6.5,9.25]   | 0.5773503    | \n",
       "| (9.25,12]    |        NA    | \n",
       "\n",
       "\n"
      ],
      "text/plain": [
       "  Group.1      x        \n",
       "1 (0.989,3.75] 0.8164966\n",
       "2 (3.75,6.5]   0.9574271\n",
       "3 (6.5,9.25]   0.5773503\n",
       "4 (9.25,12]           NA"
      ]
     },
     "metadata": {},
     "output_type": "display_data"
    }
   ],
   "source": [
    "aggregate(x,by=list(y),FUN='sd')"
   ]
  },
  {
   "cell_type": "code",
   "execution_count": 5,
   "metadata": {},
   "outputs": [
    {
     "data": {
      "text/html": [
       "<dl class=dl-horizontal>\n",
       "\t<dt>0%</dt>\n",
       "\t\t<dd>1</dd>\n",
       "\t<dt>25%</dt>\n",
       "\t\t<dd>2.75</dd>\n",
       "\t<dt>50%</dt>\n",
       "\t\t<dd>4.5</dd>\n",
       "\t<dt>75%</dt>\n",
       "\t\t<dd>7.25</dd>\n",
       "\t<dt>100%</dt>\n",
       "\t\t<dd>12</dd>\n",
       "</dl>\n"
      ],
      "text/latex": [
       "\\begin{description*}\n",
       "\\item[0\\textbackslash{}\\%] 1\n",
       "\\item[25\\textbackslash{}\\%] 2.75\n",
       "\\item[50\\textbackslash{}\\%] 4.5\n",
       "\\item[75\\textbackslash{}\\%] 7.25\n",
       "\\item[100\\textbackslash{}\\%] 12\n",
       "\\end{description*}\n"
      ],
      "text/markdown": [
       "0%\n",
       ":   125%\n",
       ":   2.7550%\n",
       ":   4.575%\n",
       ":   7.25100%\n",
       ":   12\n",
       "\n"
      ],
      "text/plain": [
       "   0%   25%   50%   75%  100% \n",
       " 1.00  2.75  4.50  7.25 12.00 "
      ]
     },
     "metadata": {},
     "output_type": "display_data"
    }
   ],
   "source": [
    "### Binning (equal number of datapoints in each interval)\n",
    "breaks=quantile(x,probs=c(0,.25,.5,.75,1))\n",
    "breaks"
   ]
  },
  {
   "cell_type": "code",
   "execution_count": 6,
   "metadata": {},
   "outputs": [
    {
     "data": {
      "text/html": [
       "<ol class=list-inline>\n",
       "\t<li>[1,2.75]</li>\n",
       "\t<li>[1,2.75]</li>\n",
       "\t<li>(2.75,4.5]</li>\n",
       "\t<li>(2.75,4.5]</li>\n",
       "\t<li>[1,2.75]</li>\n",
       "\t<li>(2.75,4.5]</li>\n",
       "\t<li>(4.5,7.25]</li>\n",
       "\t<li>(7.25,12]</li>\n",
       "\t<li>(7.25,12]</li>\n",
       "\t<li>(4.5,7.25]</li>\n",
       "\t<li>(4.5,7.25]</li>\n",
       "\t<li>(7.25,12]</li>\n",
       "</ol>\n"
      ],
      "text/latex": [
       "\\begin{enumerate*}\n",
       "\\item {[}1,2.75{]}\n",
       "\\item {[}1,2.75{]}\n",
       "\\item (2.75,4.5{]}\n",
       "\\item (2.75,4.5{]}\n",
       "\\item {[}1,2.75{]}\n",
       "\\item (2.75,4.5{]}\n",
       "\\item (4.5,7.25{]}\n",
       "\\item (7.25,12{]}\n",
       "\\item (7.25,12{]}\n",
       "\\item (4.5,7.25{]}\n",
       "\\item (4.5,7.25{]}\n",
       "\\item (7.25,12{]}\n",
       "\\end{enumerate*}\n"
      ],
      "text/markdown": [
       "1. [1,2.75]\n",
       "2. [1,2.75]\n",
       "3. (2.75,4.5]\n",
       "4. (2.75,4.5]\n",
       "5. [1,2.75]\n",
       "6. (2.75,4.5]\n",
       "7. (4.5,7.25]\n",
       "8. (7.25,12]\n",
       "9. (7.25,12]\n",
       "10. (4.5,7.25]\n",
       "11. (4.5,7.25]\n",
       "12. (7.25,12]\n",
       "\n",
       "\n"
      ],
      "text/plain": [
       " [1] [1,2.75]   [1,2.75]   (2.75,4.5] (2.75,4.5] [1,2.75]   (2.75,4.5]\n",
       " [7] (4.5,7.25] (7.25,12]  (7.25,12]  (4.5,7.25] (4.5,7.25] (7.25,12] \n",
       "Levels: [1,2.75] (2.75,4.5] (4.5,7.25] (7.25,12]"
      ]
     },
     "metadata": {},
     "output_type": "display_data"
    }
   ],
   "source": [
    "z=cut(x,breaks,include.lowest=TRUE)\n",
    "z"
   ]
  }
 ],
 "metadata": {
  "kernelspec": {
   "display_name": "R",
   "language": "R",
   "name": "ir"
  },
  "language_info": {
   "codemirror_mode": "r",
   "file_extension": ".r",
   "mimetype": "text/x-r-source",
   "name": "R",
   "pygments_lexer": "r",
   "version": "3.3.2"
  }
 },
 "nbformat": 4,
 "nbformat_minor": 2
}
