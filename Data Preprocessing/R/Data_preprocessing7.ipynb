{
 "cells": [
  {
   "cell_type": "code",
   "execution_count": 2,
   "metadata": {},
   "outputs": [
    {
     "data": {
      "text/html": [
       "<ol class=list-inline>\n",
       "\t<li>Youth</li>\n",
       "\t<li>Youth</li>\n",
       "\t<li>Youth</li>\n",
       "\t<li>YoungAdult</li>\n",
       "\t<li>Youth</li>\n",
       "\t<li>Youth</li>\n",
       "\t<li>MiddleAged</li>\n",
       "\t<li>YoungAdult</li>\n",
       "\t<li>Senior</li>\n",
       "\t<li>MiddleAged</li>\n",
       "\t<li>MiddleAged</li>\n",
       "\t<li>YoungAdult</li>\n",
       "</ol>\n"
      ],
      "text/latex": [
       "\\begin{enumerate*}\n",
       "\\item Youth\n",
       "\\item Youth\n",
       "\\item Youth\n",
       "\\item YoungAdult\n",
       "\\item Youth\n",
       "\\item Youth\n",
       "\\item MiddleAged\n",
       "\\item YoungAdult\n",
       "\\item Senior\n",
       "\\item MiddleAged\n",
       "\\item MiddleAged\n",
       "\\item YoungAdult\n",
       "\\end{enumerate*}\n"
      ],
      "text/markdown": [
       "1. Youth\n",
       "2. Youth\n",
       "3. Youth\n",
       "4. YoungAdult\n",
       "5. Youth\n",
       "6. Youth\n",
       "7. MiddleAged\n",
       "8. YoungAdult\n",
       "9. Senior\n",
       "10. MiddleAged\n",
       "11. MiddleAged\n",
       "12. YoungAdult\n",
       "\n",
       "\n"
      ],
      "text/plain": [
       " [1] Youth      Youth      Youth      YoungAdult Youth      Youth     \n",
       " [7] MiddleAged YoungAdult Senior     MiddleAged MiddleAged YoungAdult\n",
       "Levels: Tenager Youth YoungAdult MiddleAged Senior"
      ]
     },
     "metadata": {},
     "output_type": "display_data"
    }
   ],
   "source": [
    "ages=c(20,22,25,27,21,23,37,31,61,45,41,32)\n",
    "breaks=c(0,18,25,35,60,100)\n",
    "labels=c('Tenager','Youth','YoungAdult','MiddleAged','Senior')\n",
    "cat_ages=cut(ages,breaks,labels)\n",
    "cat_ages"
   ]
  },
  {
   "cell_type": "code",
   "execution_count": 3,
   "metadata": {},
   "outputs": [
    {
     "data": {
      "text/html": [
       "<ol class=list-inline>\n",
       "\t<li>20</li>\n",
       "\t<li>22</li>\n",
       "\t<li>25</li>\n",
       "\t<li>27</li>\n",
       "\t<li>21</li>\n",
       "\t<li>23</li>\n",
       "\t<li>37</li>\n",
       "\t<li>31</li>\n",
       "\t<li>61</li>\n",
       "\t<li>45</li>\n",
       "\t<li>41</li>\n",
       "\t<li>32</li>\n",
       "</ol>\n"
      ],
      "text/latex": [
       "\\begin{enumerate*}\n",
       "\\item 20\n",
       "\\item 22\n",
       "\\item 25\n",
       "\\item 27\n",
       "\\item 21\n",
       "\\item 23\n",
       "\\item 37\n",
       "\\item 31\n",
       "\\item 61\n",
       "\\item 45\n",
       "\\item 41\n",
       "\\item 32\n",
       "\\end{enumerate*}\n"
      ],
      "text/markdown": [
       "1. 20\n",
       "2. 22\n",
       "3. 25\n",
       "4. 27\n",
       "5. 21\n",
       "6. 23\n",
       "7. 37\n",
       "8. 31\n",
       "9. 61\n",
       "10. 45\n",
       "11. 41\n",
       "12. 32\n",
       "\n",
       "\n"
      ],
      "text/plain": [
       " [1] 20 22 25 27 21 23 37 31 61 45 41 32"
      ]
     },
     "metadata": {},
     "output_type": "display_data"
    }
   ],
   "source": [
    "ages"
   ]
  },
  {
   "cell_type": "code",
   "execution_count": 4,
   "metadata": {},
   "outputs": [
    {
     "data": {
      "text/plain": [
       "cat_ages\n",
       "   Tenager      Youth YoungAdult MiddleAged     Senior \n",
       "         0          5          3          3          1 "
      ]
     },
     "metadata": {},
     "output_type": "display_data"
    }
   ],
   "source": [
    "table(cat_ages)"
   ]
  }
 ],
 "metadata": {
  "kernelspec": {
   "display_name": "R",
   "language": "R",
   "name": "ir"
  },
  "language_info": {
   "codemirror_mode": "r",
   "file_extension": ".r",
   "mimetype": "text/x-r-source",
   "name": "R",
   "pygments_lexer": "r",
   "version": "3.3.2"
  }
 },
 "nbformat": 4,
 "nbformat_minor": 2
}
