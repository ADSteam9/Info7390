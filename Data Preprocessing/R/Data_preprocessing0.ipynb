{
 "cells": [
  {
   "cell_type": "code",
   "execution_count": 1,
   "metadata": {},
   "outputs": [],
   "source": [
    "Titanic=data.frame(Titanic)"
   ]
  },
  {
   "cell_type": "code",
   "execution_count": 2,
   "metadata": {
    "collapsed": true
   },
   "outputs": [],
   "source": [
    "attach(Titanic)"
   ]
  },
  {
   "cell_type": "code",
   "execution_count": 3,
   "metadata": {},
   "outputs": [
    {
     "data": {
      "text/html": [
       "<table>\n",
       "<thead><tr><th scope=col>Class</th><th scope=col>Sex</th><th scope=col>Age</th><th scope=col>Survived</th><th scope=col>Freq</th></tr></thead>\n",
       "<tbody>\n",
       "\t<tr><td>1st   </td><td>Male  </td><td>Child </td><td>No    </td><td> 0    </td></tr>\n",
       "\t<tr><td>2nd   </td><td>Male  </td><td>Child </td><td>No    </td><td> 0    </td></tr>\n",
       "\t<tr><td>3rd   </td><td>Male  </td><td>Child </td><td>No    </td><td>35    </td></tr>\n",
       "\t<tr><td>Crew  </td><td>Male  </td><td>Child </td><td>No    </td><td> 0    </td></tr>\n",
       "\t<tr><td>1st   </td><td>Female</td><td>Child </td><td>No    </td><td> 0    </td></tr>\n",
       "\t<tr><td>2nd   </td><td>Female</td><td>Child </td><td>No    </td><td> 0    </td></tr>\n",
       "</tbody>\n",
       "</table>\n"
      ],
      "text/latex": [
       "\\begin{tabular}{r|lllll}\n",
       " Class & Sex & Age & Survived & Freq\\\\\n",
       "\\hline\n",
       "\t 1st    & Male   & Child  & No     &  0    \\\\\n",
       "\t 2nd    & Male   & Child  & No     &  0    \\\\\n",
       "\t 3rd    & Male   & Child  & No     & 35    \\\\\n",
       "\t Crew   & Male   & Child  & No     &  0    \\\\\n",
       "\t 1st    & Female & Child  & No     &  0    \\\\\n",
       "\t 2nd    & Female & Child  & No     &  0    \\\\\n",
       "\\end{tabular}\n"
      ],
      "text/markdown": [
       "\n",
       "Class | Sex | Age | Survived | Freq | \n",
       "|---|---|---|---|---|---|\n",
       "| 1st    | Male   | Child  | No     |  0     | \n",
       "| 2nd    | Male   | Child  | No     |  0     | \n",
       "| 3rd    | Male   | Child  | No     | 35     | \n",
       "| Crew   | Male   | Child  | No     |  0     | \n",
       "| 1st    | Female | Child  | No     |  0     | \n",
       "| 2nd    | Female | Child  | No     |  0     | \n",
       "\n",
       "\n"
      ],
      "text/plain": [
       "  Class Sex    Age   Survived Freq\n",
       "1 1st   Male   Child No        0  \n",
       "2 2nd   Male   Child No        0  \n",
       "3 3rd   Male   Child No       35  \n",
       "4 Crew  Male   Child No        0  \n",
       "5 1st   Female Child No        0  \n",
       "6 2nd   Female Child No        0  "
      ]
     },
     "metadata": {},
     "output_type": "display_data"
    }
   ],
   "source": [
    "head(Titanic)"
   ]
  },
  {
   "cell_type": "code",
   "execution_count": 4,
   "metadata": {},
   "outputs": [
    {
     "data": {
      "text/plain": [
       "\n",
       "  Male Female \n",
       "    16     16 "
      ]
     },
     "metadata": {},
     "output_type": "display_data"
    }
   ],
   "source": [
    "table(Titanic$Sex)"
   ]
  },
  {
   "cell_type": "code",
   "execution_count": 5,
   "metadata": {},
   "outputs": [
    {
     "data": {
      "text/plain": [
       "        \n",
       "         Child Adult\n",
       "  Male       8     8\n",
       "  Female     8     8"
      ]
     },
     "metadata": {},
     "output_type": "display_data"
    }
   ],
   "source": [
    "table(Titanic$Sex,Titanic$Age)"
   ]
  },
  {
   "cell_type": "code",
   "execution_count": 6,
   "metadata": {},
   "outputs": [
    {
     "data": {
      "text/plain": [
       "       \n",
       "        No Yes\n",
       "  Child  8   8\n",
       "  Adult  8   8"
      ]
     },
     "metadata": {},
     "output_type": "display_data"
    }
   ],
   "source": [
    "table(Titanic$Age,Titanic$Survived)"
   ]
  },
  {
   "cell_type": "code",
   "execution_count": 7,
   "metadata": {},
   "outputs": [
    {
     "data": {
      "text/plain": [
       "       \n",
       "        1st 2nd 3rd Crew\n",
       "  Child   4   4   4    4\n",
       "  Adult   4   4   4    4"
      ]
     },
     "metadata": {},
     "output_type": "display_data"
    }
   ],
   "source": [
    "table(Titanic$Age,Titanic$Class)"
   ]
  }
 ],
 "metadata": {
  "kernelspec": {
   "display_name": "R",
   "language": "R",
   "name": "ir"
  },
  "language_info": {
   "codemirror_mode": "r",
   "file_extension": ".r",
   "mimetype": "text/x-r-source",
   "name": "R",
   "pygments_lexer": "r",
   "version": "3.3.2"
  }
 },
 "nbformat": 4,
 "nbformat_minor": 2
}
