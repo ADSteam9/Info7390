{
 "cells": [
  {
   "cell_type": "code",
   "execution_count": 1,
   "metadata": {},
   "outputs": [
    {
     "data": {
      "text/html": [
       "<table>\n",
       "<thead><tr><th scope=col>x</th><th scope=col>y</th></tr></thead>\n",
       "<tbody>\n",
       "\t<tr><td>  0.1</td><td> 2.0 </td></tr>\n",
       "\t<tr><td>  0.2</td><td> NaN </td></tr>\n",
       "\t<tr><td>  NaN</td><td> 0.5 </td></tr>\n",
       "\t<tr><td>-20.0</td><td>20.0 </td></tr>\n",
       "\t<tr><td>  0.8</td><td> 1.0 </td></tr>\n",
       "\t<tr><td>  0.9</td><td> 0.3 </td></tr>\n",
       "\t<tr><td>  0.5</td><td> 0.1 </td></tr>\n",
       "\t<tr><td>  0.1</td><td> 0.8 </td></tr>\n",
       "\t<tr><td>  1.0</td><td> 0.9 </td></tr>\n",
       "</tbody>\n",
       "</table>\n"
      ],
      "text/latex": [
       "\\begin{tabular}{r|ll}\n",
       " x & y\\\\\n",
       "\\hline\n",
       "\t   0.1 &  2.0 \\\\\n",
       "\t   0.2 &  NaN \\\\\n",
       "\t   NaN &  0.5 \\\\\n",
       "\t -20.0 & 20.0 \\\\\n",
       "\t   0.8 &  1.0 \\\\\n",
       "\t   0.9 &  0.3 \\\\\n",
       "\t   0.5 &  0.1 \\\\\n",
       "\t   0.1 &  0.8 \\\\\n",
       "\t   1.0 &  0.9 \\\\\n",
       "\\end{tabular}\n"
      ],
      "text/markdown": [
       "\n",
       "x | y | \n",
       "|---|---|---|---|---|---|---|---|---|\n",
       "|   0.1 |  2.0  | \n",
       "|   0.2 |  NaN  | \n",
       "|   NaN |  0.5  | \n",
       "| -20.0 | 20.0  | \n",
       "|   0.8 |  1.0  | \n",
       "|   0.9 |  0.3  | \n",
       "|   0.5 |  0.1  | \n",
       "|   0.1 |  0.8  | \n",
       "|   1.0 |  0.9  | \n",
       "\n",
       "\n"
      ],
      "text/plain": [
       "  x     y   \n",
       "1   0.1  2.0\n",
       "2   0.2  NaN\n",
       "3   NaN  0.5\n",
       "4 -20.0 20.0\n",
       "5   0.8  1.0\n",
       "6   0.9  0.3\n",
       "7   0.5  0.1\n",
       "8   0.1  0.8\n",
       "9   1.0  0.9"
      ]
     },
     "metadata": {},
     "output_type": "display_data"
    }
   ],
   "source": [
    "### Detecting outliers\n",
    "### First replace missing values with zero\n",
    "data <- data.frame(x=c(.1,.2,NaN,-20,.8,.9,.5,.1,1),y=c(2,NaN,.5,20,1,.3,.1,.8,.9))\n",
    "data"
   ]
  },
  {
   "cell_type": "code",
   "execution_count": 2,
   "metadata": {},
   "outputs": [
    {
     "data": {
      "text/html": [
       "<table>\n",
       "<thead><tr><th scope=col>x</th><th scope=col>y</th></tr></thead>\n",
       "<tbody>\n",
       "\t<tr><td>  0.1</td><td> 2.0 </td></tr>\n",
       "\t<tr><td>  0.2</td><td> 0.0 </td></tr>\n",
       "\t<tr><td>  0.0</td><td> 0.5 </td></tr>\n",
       "\t<tr><td>-20.0</td><td>20.0 </td></tr>\n",
       "\t<tr><td>  0.8</td><td> 1.0 </td></tr>\n",
       "\t<tr><td>  0.9</td><td> 0.3 </td></tr>\n",
       "\t<tr><td>  0.5</td><td> 0.1 </td></tr>\n",
       "\t<tr><td>  0.1</td><td> 0.8 </td></tr>\n",
       "\t<tr><td>  1.0</td><td> 0.9 </td></tr>\n",
       "</tbody>\n",
       "</table>\n"
      ],
      "text/latex": [
       "\\begin{tabular}{r|ll}\n",
       " x & y\\\\\n",
       "\\hline\n",
       "\t   0.1 &  2.0 \\\\\n",
       "\t   0.2 &  0.0 \\\\\n",
       "\t   0.0 &  0.5 \\\\\n",
       "\t -20.0 & 20.0 \\\\\n",
       "\t   0.8 &  1.0 \\\\\n",
       "\t   0.9 &  0.3 \\\\\n",
       "\t   0.5 &  0.1 \\\\\n",
       "\t   0.1 &  0.8 \\\\\n",
       "\t   1.0 &  0.9 \\\\\n",
       "\\end{tabular}\n"
      ],
      "text/markdown": [
       "\n",
       "x | y | \n",
       "|---|---|---|---|---|---|---|---|---|\n",
       "|   0.1 |  2.0  | \n",
       "|   0.2 |  0.0  | \n",
       "|   0.0 |  0.5  | \n",
       "| -20.0 | 20.0  | \n",
       "|   0.8 |  1.0  | \n",
       "|   0.9 |  0.3  | \n",
       "|   0.5 |  0.1  | \n",
       "|   0.1 |  0.8  | \n",
       "|   1.0 |  0.9  | \n",
       "\n",
       "\n"
      ],
      "text/plain": [
       "  x     y   \n",
       "1   0.1  2.0\n",
       "2   0.2  0.0\n",
       "3   0.0  0.5\n",
       "4 -20.0 20.0\n",
       "5   0.8  1.0\n",
       "6   0.9  0.3\n",
       "7   0.5  0.1\n",
       "8   0.1  0.8\n",
       "9   1.0  0.9"
      ]
     },
     "metadata": {},
     "output_type": "display_data"
    }
   ],
   "source": [
    "for(i in 1:ncol(data)){\n",
    "  data[is.na(data[,i]), i] <- 0\n",
    "}\n",
    "data"
   ]
  },
  {
   "cell_type": "code",
   "execution_count": 3,
   "metadata": {},
   "outputs": [
    {
     "data": {
      "text/html": [
       "<table>\n",
       "<thead><tr><th scope=col>x</th><th scope=col>y</th></tr></thead>\n",
       "<tbody>\n",
       "\t<tr><td> 0.100000</td><td>2.000000 </td></tr>\n",
       "\t<tr><td> 0.200000</td><td>0.000000 </td></tr>\n",
       "\t<tr><td> 0.000000</td><td>0.500000 </td></tr>\n",
       "\t<tr><td>-1.822222</td><td>2.844444 </td></tr>\n",
       "\t<tr><td> 0.800000</td><td>1.000000 </td></tr>\n",
       "\t<tr><td> 0.900000</td><td>0.300000 </td></tr>\n",
       "\t<tr><td> 0.500000</td><td>0.100000 </td></tr>\n",
       "\t<tr><td> 0.100000</td><td>0.800000 </td></tr>\n",
       "\t<tr><td> 1.000000</td><td>0.900000 </td></tr>\n",
       "</tbody>\n",
       "</table>\n"
      ],
      "text/latex": [
       "\\begin{tabular}{r|ll}\n",
       " x & y\\\\\n",
       "\\hline\n",
       "\t  0.100000 & 2.000000 \\\\\n",
       "\t  0.200000 & 0.000000 \\\\\n",
       "\t  0.000000 & 0.500000 \\\\\n",
       "\t -1.822222 & 2.844444 \\\\\n",
       "\t  0.800000 & 1.000000 \\\\\n",
       "\t  0.900000 & 0.300000 \\\\\n",
       "\t  0.500000 & 0.100000 \\\\\n",
       "\t  0.100000 & 0.800000 \\\\\n",
       "\t  1.000000 & 0.900000 \\\\\n",
       "\\end{tabular}\n"
      ],
      "text/markdown": [
       "\n",
       "x | y | \n",
       "|---|---|---|---|---|---|---|---|---|\n",
       "|  0.100000 | 2.000000  | \n",
       "|  0.200000 | 0.000000  | \n",
       "|  0.000000 | 0.500000  | \n",
       "| -1.822222 | 2.844444  | \n",
       "|  0.800000 | 1.000000  | \n",
       "|  0.900000 | 0.300000  | \n",
       "|  0.500000 | 0.100000  | \n",
       "|  0.100000 | 0.800000  | \n",
       "|  1.000000 | 0.900000  | \n",
       "\n",
       "\n"
      ],
      "text/plain": [
       "  x         y       \n",
       "1  0.100000 2.000000\n",
       "2  0.200000 0.000000\n",
       "3  0.000000 0.500000\n",
       "4 -1.822222 2.844444\n",
       "5  0.800000 1.000000\n",
       "6  0.900000 0.300000\n",
       "7  0.500000 0.100000\n",
       "8  0.100000 0.800000\n",
       "9  1.000000 0.900000"
      ]
     },
     "metadata": {},
     "output_type": "display_data"
    }
   ],
   "source": [
    "### Detecting, filtering outliers and replacing with mean of column\n",
    "for(j in 1:ncol(data)){\n",
    "  for (i in 1:nrow(data)){\n",
    "    if ((data[i,j] < (mean(data[[j]])-(1.5)*sd(data[[j]]))|\n",
    "       (data[i,j] > (mean(data[[j]])+1.5*sd(data[[j]]))))) \n",
    "    {data[i,j]<-mean(data[[j]])}\n",
    "  }\n",
    "}\n",
    "data"
   ]
  }
 ],
 "metadata": {
  "kernelspec": {
   "display_name": "R",
   "language": "R",
   "name": "ir"
  },
  "language_info": {
   "codemirror_mode": "r",
   "file_extension": ".r",
   "mimetype": "text/x-r-source",
   "name": "R",
   "pygments_lexer": "r",
   "version": "3.3.2"
  }
 },
 "nbformat": 4,
 "nbformat_minor": 2
}
