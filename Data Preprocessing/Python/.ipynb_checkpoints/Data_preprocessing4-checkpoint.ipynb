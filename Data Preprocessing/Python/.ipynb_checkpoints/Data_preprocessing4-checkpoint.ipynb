{
 "cells": [
  {
   "cell_type": "code",
   "execution_count": 1,
   "metadata": {
    "collapsed": false
   },
   "outputs": [
    {
     "name": "stdout",
     "output_type": "stream",
     "text": [
      "[ 0.65386192  0.76411789  0.58235248  0.454989    0.18519111  0.59893896\n",
      "  0.61479351  0.46722256  0.22701956  0.58795377  0.40619497  0.04264005\n",
      "  0.82010177  0.9241      0.01137552  0.67130356  0.8542408   0.16279306\n",
      "  0.81808704  0.98819974]\n"
     ]
    }
   ],
   "source": [
    "import numpy as np\n",
    "from numpy.random import randn\n",
    "import pandas as pd\n",
    "data = np.random.rand(20)\n",
    "print (data)"
   ]
  },
  {
   "cell_type": "code",
   "execution_count": 2,
   "metadata": {
    "collapsed": false
   },
   "outputs": [
    {
     "data": {
      "text/plain": [
       "[(0.5, 0.74], (0.74, 0.99], (0.5, 0.74], (0.26, 0.5], (0.01, 0.26], ..., (0.5, 0.74], (0.74, 0.99], (0.01, 0.26], (0.74, 0.99], (0.74, 0.99]]\n",
       "Length: 20\n",
       "Categories (4, object): [(0.01, 0.26] < (0.26, 0.5] < (0.5, 0.74] < (0.74, 0.99]]"
      ]
     },
     "execution_count": 2,
     "metadata": {},
     "output_type": "execute_result"
    }
   ],
   "source": [
    "pd.cut(data, 4, precision=2) ### equal length bins"
   ]
  },
  {
   "cell_type": "code",
   "execution_count": 3,
   "metadata": {
    "collapsed": false
   },
   "outputs": [
    {
     "name": "stdout",
     "output_type": "stream",
     "text": [
      "(0.778, 0.988]     5\n",
      "(0.593, 0.778]     5\n",
      "(0.361, 0.593]     5\n",
      "[0.0114, 0.361]    5\n",
      "dtype: int64\n"
     ]
    }
   ],
   "source": [
    "intervals=pd.qcut(data, 4) ### equal number of datapoints in each interval\n",
    "print (pd.value_counts(intervals))"
   ]
  },
  {
   "cell_type": "code",
   "execution_count": 4,
   "metadata": {
    "collapsed": false
   },
   "outputs": [
    {
     "data": {
      "text/html": [
       "<div>\n",
       "<table border=\"1\" class=\"dataframe\">\n",
       "  <thead>\n",
       "    <tr style=\"text-align: right;\">\n",
       "      <th></th>\n",
       "      <th>count</th>\n",
       "      <th>max</th>\n",
       "      <th>mean</th>\n",
       "      <th>min</th>\n",
       "    </tr>\n",
       "    <tr>\n",
       "      <th>data1</th>\n",
       "      <th></th>\n",
       "      <th></th>\n",
       "      <th></th>\n",
       "      <th></th>\n",
       "    </tr>\n",
       "  </thead>\n",
       "  <tbody>\n",
       "    <tr>\n",
       "      <th>(-3.326, -1.654]</th>\n",
       "      <td>47.0</td>\n",
       "      <td>-1.657131</td>\n",
       "      <td>-2.064964</td>\n",
       "      <td>-3.319741</td>\n",
       "    </tr>\n",
       "    <tr>\n",
       "      <th>(-1.654, 0.012]</th>\n",
       "      <td>463.0</td>\n",
       "      <td>0.008969</td>\n",
       "      <td>-0.655624</td>\n",
       "      <td>-1.652795</td>\n",
       "    </tr>\n",
       "    <tr>\n",
       "      <th>(0.012, 1.678]</th>\n",
       "      <td>449.0</td>\n",
       "      <td>1.670779</td>\n",
       "      <td>0.662313</td>\n",
       "      <td>0.014198</td>\n",
       "    </tr>\n",
       "    <tr>\n",
       "      <th>(1.678, 3.344]</th>\n",
       "      <td>41.0</td>\n",
       "      <td>3.343693</td>\n",
       "      <td>2.162053</td>\n",
       "      <td>1.681461</td>\n",
       "    </tr>\n",
       "  </tbody>\n",
       "</table>\n",
       "</div>"
      ],
      "text/plain": [
       "                  count       max      mean       min\n",
       "data1                                                \n",
       "(-3.326, -1.654]   47.0 -1.657131 -2.064964 -3.319741\n",
       "(-1.654, 0.012]   463.0  0.008969 -0.655624 -1.652795\n",
       "(0.012, 1.678]    449.0  1.670779  0.662313  0.014198\n",
       "(1.678, 3.344]     41.0  3.343693  2.162053  1.681461"
      ]
     },
     "execution_count": 4,
     "metadata": {},
     "output_type": "execute_result"
    }
   ],
   "source": [
    "import pandas as pd\n",
    "from pandas import *\n",
    "frame = DataFrame({'data1': np.random.randn(1000),'data2': np.random.randn(1000)})\n",
    "factor = pd.cut(frame.data1, 4)\n",
    "def get_stats(group):\n",
    "    return {'min': group.min(), 'max': group.max(),'count': group.count(), 'mean': group.mean()}\n",
    "grouped = frame.data1.groupby(factor)\n",
    "grouped.apply(get_stats).unstack()"
   ]
  }
 ],
 "metadata": {
  "kernelspec": {
   "display_name": "Python 3",
   "language": "python",
   "name": "python3"
  },
  "language_info": {
   "codemirror_mode": {
    "name": "ipython",
    "version": 3
   },
   "file_extension": ".py",
   "mimetype": "text/x-python",
   "name": "python",
   "nbconvert_exporter": "python",
   "pygments_lexer": "ipython3",
   "version": "3.5.4"
  }
 },
 "nbformat": 4,
 "nbformat_minor": 0
}
