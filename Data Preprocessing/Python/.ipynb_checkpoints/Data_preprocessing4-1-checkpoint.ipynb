{
 "cells": [
  {
   "cell_type": "code",
   "execution_count": 1,
   "metadata": {
    "collapsed": false
   },
   "outputs": [
    {
     "name": "stdout",
     "output_type": "stream",
     "text": [
      "      data1     data2 key1 key2\n",
      "0  1.548427  0.466145    a  one\n",
      "1 -1.140321  1.492988    a  two\n",
      "2  1.223326  0.204999    b  one\n",
      "3  0.946937  0.789780    b  two\n",
      "4 -0.319801 -0.219792    a  one\n"
     ]
    }
   ],
   "source": [
    "import pandas\n",
    "from pandas import *\n",
    "df = DataFrame({'key1' : ['a', 'a', 'b', 'b', 'a'], 'key2' : ['one', 'two', 'one', 'two', 'one'],\n",
    "                'data1' : np.random.randn(5), 'data2' : np.random.randn(5)})\n",
    "print (df)"
   ]
  },
  {
   "cell_type": "code",
   "execution_count": 2,
   "metadata": {
    "collapsed": false
   },
   "outputs": [
    {
     "name": "stdout",
     "output_type": "stream",
     "text": [
      "key1\n",
      "a    0.029435\n",
      "b    1.085131\n",
      "Name: data1, dtype: float64\n"
     ]
    }
   ],
   "source": [
    "### Means of data1 for sub-groups of key1\n",
    "means = df['data1'].groupby([df['key1']]).mean()\n",
    "print (means)"
   ]
  },
  {
   "cell_type": "code",
   "execution_count": 3,
   "metadata": {
    "collapsed": false
   },
   "outputs": [
    {
     "name": "stdout",
     "output_type": "stream",
     "text": [
      "key1  key2\n",
      "a     one     0.614313\n",
      "      two    -1.140321\n",
      "b     one     1.223326\n",
      "      two     0.946937\n",
      "Name: data1, dtype: float64\n"
     ]
    }
   ],
   "source": [
    "### Means of data1 for sub-groups of key1 and key2\n",
    "means = df['data1'].groupby([df['key1'], df['key2']]).mean()\n",
    "print(means)"
   ]
  },
  {
   "cell_type": "code",
   "execution_count": 4,
   "metadata": {
    "collapsed": false
   },
   "outputs": [
    {
     "name": "stdout",
     "output_type": "stream",
     "text": [
      "         data1    data2\n",
      "key1                   \n",
      "a     0.029435  0.57978\n",
      "b     1.085131  0.49739\n"
     ]
    }
   ],
   "source": [
    "### Means of data1 and data2 for sub-groups of key1\n",
    "means=df.groupby('key1').mean()\n",
    "print(means)"
   ]
  },
  {
   "cell_type": "code",
   "execution_count": 5,
   "metadata": {
    "collapsed": false
   },
   "outputs": [
    {
     "name": "stdout",
     "output_type": "stream",
     "text": [
      "      quantile_data1  quantile_data2\n",
      "key1                                \n",
      "a           1.174781        1.287620\n",
      "b           1.195687        0.731302\n"
     ]
    }
   ],
   "source": [
    "### Quantile of data1 and data2 for sub-groups of key1\n",
    "quantile=df.groupby('key1').quantile(0.9).add_prefix('quantile_')\n",
    "print(quantile)"
   ]
  },
  {
   "cell_type": "code",
   "execution_count": 7,
   "metadata": {
    "collapsed": false
   },
   "outputs": [
    {
     "name": "stdout",
     "output_type": "stream",
     "text": [
      "           mean_data1  mean_data2\n",
      "key1 key2                        \n",
      "a    one     0.614313    0.123176\n",
      "     two    -1.140321    1.492988\n",
      "b    one     1.223326    0.204999\n",
      "     two     0.946937    0.789780\n"
     ]
    }
   ],
   "source": [
    "### Mean of data1 and data2 sub-groups of key1 and key2\n",
    "means=df.groupby(['key1', 'key2']).mean().add_prefix('mean_')\n",
    "print (means)"
   ]
  },
  {
   "cell_type": "code",
   "execution_count": 8,
   "metadata": {
    "collapsed": false
   },
   "outputs": [
    {
     "name": "stdout",
     "output_type": "stream",
     "text": [
      "               data1     data2\n",
      "key1                          \n",
      "a    count  3.000000  3.000000\n",
      "     mean   0.029435  0.579780\n",
      "     std    1.377975  0.862026\n",
      "     min   -1.140321 -0.219792\n",
      "     25%   -0.730061  0.123176\n",
      "     50%   -0.319801  0.466145\n",
      "     75%    0.614313  0.979567\n",
      "     max    1.548427  1.492988\n",
      "b    count  2.000000  2.000000\n",
      "     mean   1.085131  0.497390\n",
      "     std    0.195437  0.413502\n",
      "     min    0.946937  0.204999\n",
      "     25%    1.016034  0.351195\n",
      "     50%    1.085131  0.497390\n",
      "     75%    1.154229  0.643585\n",
      "     max    1.223326  0.789780\n"
     ]
    }
   ],
   "source": [
    "### Summary of data1 and data2 for sub-groups of key1 and key2\n",
    "summary=df.groupby('key1').describe()\n",
    "print (summary)"
   ]
  },
  {
   "cell_type": "code",
   "execution_count": 11,
   "metadata": {
    "collapsed": false
   },
   "outputs": [
    {
     "name": "stdout",
     "output_type": "stream",
     "text": [
      "key1  key2\n",
      "a     one     2\n",
      "      two     1\n",
      "b     one     1\n",
      "      two     1\n",
      "dtype: int64\n"
     ]
    }
   ],
   "source": [
    "### Number of data1 and data2 pairs for sub-groups of key1 and key2\n",
    "size=df.groupby(['key1', 'key2']).size()\n",
    "print (size)"
   ]
  },
  {
   "cell_type": "code",
   "execution_count": 9,
   "metadata": {
    "collapsed": false
   },
   "outputs": [
    {
     "name": "stdout",
     "output_type": "stream",
     "text": [
      "a\n",
      "      data1     data2 key1 key2\n",
      "0  1.548427  0.466145    a  one\n",
      "1 -1.140321  1.492988    a  two\n",
      "4 -0.319801 -0.219792    a  one\n",
      "b\n",
      "      data1     data2 key1 key2\n",
      "2  1.223326  0.204999    b  one\n",
      "3  0.946937  0.789780    b  two\n"
     ]
    }
   ],
   "source": [
    "### Spliting data for sub-groups of key1\n",
    "for name, group in df.groupby('key1'):\n",
    "    print (name)\n",
    "    print (group)"
   ]
  },
  {
   "cell_type": "code",
   "execution_count": 10,
   "metadata": {
    "collapsed": false
   },
   "outputs": [
    {
     "name": "stdout",
     "output_type": "stream",
     "text": [
      "a one\n",
      "      data1     data2 key1 key2\n",
      "0  1.548427  0.466145    a  one\n",
      "4 -0.319801 -0.219792    a  one\n",
      "a two\n",
      "      data1     data2 key1 key2\n",
      "1 -1.140321  1.492988    a  two\n",
      "b one\n",
      "      data1     data2 key1 key2\n",
      "2  1.223326  0.204999    b  one\n",
      "b two\n",
      "      data1    data2 key1 key2\n",
      "3  0.946937  0.78978    b  two\n"
     ]
    }
   ],
   "source": [
    "### Spliting data for sub-groups of both key1 and key2\n",
    "for (k1, k2), group in df.groupby(['key1', 'key2']):\n",
    "    print (k1, k2)\n",
    "    print (group)"
   ]
  }
 ],
 "metadata": {
  "kernelspec": {
   "display_name": "Python 3",
   "language": "python",
   "name": "python3"
  },
  "language_info": {
   "codemirror_mode": {
    "name": "ipython",
    "version": 3
   },
   "file_extension": ".py",
   "mimetype": "text/x-python",
   "name": "python",
   "nbconvert_exporter": "python",
   "pygments_lexer": "ipython3",
   "version": "3.5.4"
  }
 },
 "nbformat": 4,
 "nbformat_minor": 0
}
