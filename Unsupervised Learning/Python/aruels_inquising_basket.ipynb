{
 "cells": [
  {
   "cell_type": "code",
   "execution_count": 6,
   "metadata": {
    "collapsed": false
   },
   "outputs": [],
   "source": [
    "import Orange  # Needed package\n",
    "import Orange.data\n",
    "from orangecontrib.associate.fpgrowth import *  "
   ]
  },
  {
   "cell_type": "code",
   "execution_count": 136,
   "metadata": {
    "collapsed": false
   },
   "outputs": [],
   "source": [
    "data = Orange.data.Table(\"market-basket\") # Orange data object for association rules"
   ]
  },
  {
   "cell_type": "code",
   "execution_count": 155,
   "metadata": {
    "collapsed": false
   },
   "outputs": [
    {
     "data": {
      "text/plain": [
       "[[1, 1, ?, ?, ?, ...],\n",
       " [1, ?, 1, 1, 1, ...],\n",
       " [?, 1, 1, 1, ?, ...],\n",
       " [1, 1, 1, 1, ?, ...],\n",
       " [1, 1, 1, ?, ?, ...]\n",
       "]"
      ]
     },
     "execution_count": 155,
     "metadata": {},
     "output_type": "execute_result"
    }
   ],
   "source": [
    "data"
   ]
  },
  {
   "cell_type": "code",
   "execution_count": 156,
   "metadata": {
    "collapsed": true
   },
   "outputs": [],
   "source": [
    "X, mapping = OneHot.encode(data, include_class=True)"
   ]
  },
  {
   "cell_type": "code",
   "execution_count": 157,
   "metadata": {
    "collapsed": false
   },
   "outputs": [
    {
     "data": {
      "text/plain": [
       "array([[ True,  True, False, False, False, False],\n",
       "       [ True, False,  True,  True,  True, False],\n",
       "       [False,  True,  True,  True, False,  True],\n",
       "       [ True,  True,  True,  True, False, False],\n",
       "       [ True,  True,  True, False, False,  True]], dtype=bool)"
      ]
     },
     "execution_count": 157,
     "metadata": {},
     "output_type": "execute_result"
    }
   ],
   "source": [
    "X"
   ]
  },
  {
   "cell_type": "code",
   "execution_count": 161,
   "metadata": {
    "collapsed": false
   },
   "outputs": [
    {
     "data": {
      "text/plain": [
       "[(0, (0, 0)), (1, (1, 0)), (2, (2, 0)), (3, (3, 0)), (4, (4, 0)), (5, (5, 0))]"
      ]
     },
     "execution_count": 161,
     "metadata": {},
     "output_type": "execute_result"
    }
   ],
   "source": [
    "sorted(mapping.items())"
   ]
  },
  {
   "cell_type": "code",
   "execution_count": 164,
   "metadata": {
    "collapsed": false
   },
   "outputs": [
    {
     "name": "stdout",
     "output_type": "stream",
     "text": [
      "Help on function decode in module orangecontrib.associate.fpgrowth:\n",
      "\n",
      "decode(itemset, table, mapping)\n",
      "    Yield sorted (item, variable, value) tuples (one for each item)\n",
      "\n"
     ]
    }
   ],
   "source": [
    "help(OneHot.decode)"
   ]
  },
  {
   "cell_type": "code",
   "execution_count": 177,
   "metadata": {
    "collapsed": false
   },
   "outputs": [],
   "source": [
    "names = {item: '{}'.format(var)\n",
    "         for item, var, _ in OneHot.decode(mapping, data, mapping)}"
   ]
  },
  {
   "cell_type": "code",
   "execution_count": 191,
   "metadata": {
    "collapsed": false
   },
   "outputs": [
    {
     "data": {
      "text/plain": [
       "{0: 'Bread', 1: 'Milk', 2: 'Diapers', 3: 'Beer', 4: 'Eggs', 5: 'Cola'}"
      ]
     },
     "execution_count": 191,
     "metadata": {},
     "output_type": "execute_result"
    }
   ],
   "source": [
    "names"
   ]
  },
  {
   "cell_type": "code",
   "execution_count": 167,
   "metadata": {
    "collapsed": false
   },
   "outputs": [
    {
     "data": {
      "text/plain": [
       "[0, 1, 2, 3, 4, 5]"
      ]
     },
     "execution_count": 167,
     "metadata": {},
     "output_type": "execute_result"
    }
   ],
   "source": [
    "class_items = {item\n",
    "               for item, var, _ in OneHot.decode(mapping, data, mapping)}\n",
    "sorted(class_items)"
   ]
  },
  {
   "cell_type": "code",
   "execution_count": 168,
   "metadata": {
    "collapsed": false
   },
   "outputs": [],
   "source": [
    "itemsets = dict(frequent_itemsets(X, .3)) # Find all itemsets with at least 30% support"
   ]
  },
  {
   "cell_type": "code",
   "execution_count": 169,
   "metadata": {
    "collapsed": false
   },
   "outputs": [],
   "source": [
    "rules = association_rules(itemsets, .8) #Generate association rules from these itemsets with minimum 80% confidence"
   ]
  },
  {
   "cell_type": "code",
   "execution_count": 170,
   "metadata": {
    "collapsed": false
   },
   "outputs": [],
   "source": [
    "rules_list = list(rules)"
   ]
  },
  {
   "cell_type": "code",
   "execution_count": 171,
   "metadata": {
    "collapsed": false
   },
   "outputs": [
    {
     "data": {
      "text/plain": [
       "[(frozenset({0, 3}), frozenset({2}), 2, 1.0),\n",
       " (frozenset({2, 5}), frozenset({1}), 2, 1.0),\n",
       " (frozenset({1, 5}), frozenset({2}), 2, 1.0),\n",
       " (frozenset({5}), frozenset({1, 2}), 2, 1.0),\n",
       " (frozenset({1, 3}), frozenset({2}), 2, 1.0),\n",
       " (frozenset({5}), frozenset({1}), 2, 1.0),\n",
       " (frozenset({3}), frozenset({2}), 3, 1.0),\n",
       " (frozenset({5}), frozenset({2}), 2, 1.0)]"
      ]
     },
     "execution_count": 171,
     "metadata": {},
     "output_type": "execute_result"
    }
   ],
   "source": [
    "rules_list"
   ]
  },
  {
   "cell_type": "markdown",
   "metadata": {},
   "source": [
    "__Using mapping to transform the rules’ items back into table domain values:__"
   ]
  },
  {
   "cell_type": "code",
   "execution_count": 193,
   "metadata": {
    "collapsed": false
   },
   "outputs": [
    {
     "name": "stdout",
     "output_type": "stream",
     "text": [
      "(supp: 0.4, conf: 1.0)    Bread, Beer --> Diapers\n",
      "(supp: 0.4, conf: 1.0)    Diapers, Cola --> Milk\n",
      "(supp: 0.4, conf: 1.0)    Milk, Cola --> Diapers\n",
      "(supp: 0.4, conf: 1.0)    Cola --> Milk\n",
      "(supp: 0.4, conf: 1.0)    Milk, Beer --> Diapers\n",
      "(supp: 0.4, conf: 1.0)    Cola --> Milk\n",
      "(supp: 0.6, conf: 1.0)    Beer --> Diapers\n",
      "(supp: 0.4, conf: 1.0)    Cola --> Diapers\n"
     ]
    }
   ],
   "source": [
    "# ante-> antecedent ; cons-> consequent ; supp -> support ; conf -> confidence\n",
    "for ante, cons, supp, conf in rules_list:\n",
    "    print('(supp: {}, conf: {})'.format(supp/len(X), conf),'  ',', '.join(names[i] for i in ante),'-->',names[next(iter(cons))])"
   ]
  },
  {
   "cell_type": "code",
   "execution_count": 199,
   "metadata": {
    "collapsed": true
   },
   "outputs": [],
   "source": [
    "itemsets_1 = dict(frequent_itemsets(X, .5)) # Find all itemsets with at least 50% support"
   ]
  },
  {
   "cell_type": "code",
   "execution_count": 200,
   "metadata": {
    "collapsed": true
   },
   "outputs": [],
   "source": [
    "rules_1 = association_rules(itemsets_1, .8) #Generate association rules from these itemsets with minimum 80% confidence"
   ]
  },
  {
   "cell_type": "code",
   "execution_count": 201,
   "metadata": {
    "collapsed": true
   },
   "outputs": [],
   "source": [
    "rules_list_1 = list(rules_1)"
   ]
  },
  {
   "cell_type": "code",
   "execution_count": 202,
   "metadata": {
    "collapsed": false
   },
   "outputs": [
    {
     "data": {
      "text/plain": [
       "[(frozenset({3}), frozenset({2}), 3, 1.0)]"
      ]
     },
     "execution_count": 202,
     "metadata": {},
     "output_type": "execute_result"
    }
   ],
   "source": [
    "rules_list_1"
   ]
  },
  {
   "cell_type": "markdown",
   "metadata": {},
   "source": [
    "__Using mapping to transform the rules’ items back into table domain values:__"
   ]
  },
  {
   "cell_type": "code",
   "execution_count": 203,
   "metadata": {
    "collapsed": false
   },
   "outputs": [
    {
     "name": "stdout",
     "output_type": "stream",
     "text": [
      "(supp: 0.6, conf: 1.0)    Beer --> Diapers\n"
     ]
    }
   ],
   "source": [
    "for ante, cons, supp, conf in rules_list_1:\n",
    "    print('(supp: {}, conf: {})'.format(supp/len(X), conf),'  ',', '.join(names[i] for i in ante),'-->',names[next(iter(cons))])"
   ]
  }
 ],
 "metadata": {
  "kernelspec": {
   "display_name": "Python 3",
   "language": "python",
   "name": "python3"
  },
  "language_info": {
   "codemirror_mode": {
    "name": "ipython",
    "version": 3
   },
   "file_extension": ".py",
   "mimetype": "text/x-python",
   "name": "python",
   "nbconvert_exporter": "python",
   "pygments_lexer": "ipython3",
   "version": "3.5.4"
  }
 },
 "nbformat": 4,
 "nbformat_minor": 0
}
