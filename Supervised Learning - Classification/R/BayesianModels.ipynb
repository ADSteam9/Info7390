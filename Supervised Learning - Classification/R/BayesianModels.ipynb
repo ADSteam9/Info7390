{
 "cells": [
  {
   "cell_type": "code",
   "execution_count": 12,
   "metadata": {},
   "outputs": [],
   "source": [
    "data(Affairs, package=\"AER\")"
   ]
  },
  {
   "cell_type": "code",
   "execution_count": 13,
   "metadata": {},
   "outputs": [],
   "source": [
    "# Transform affairs into a dichotomous factor\n",
    "Affairs$ynaffair[Affairs$affairs > 0] <- 1\n",
    "Affairs$ynaffair[Affairs$affairs == 0] <- 0\n",
    "Affairs$ynaffair <- factor(Affairs$ynaffair,\n",
    "                           levels=c(0,1),\n",
    "                           labels=c(\"No\",\"Yes\"))\n",
    "\n",
    "# Split the data into training and test\n",
    "smp_size = floor(0.7 * nrow(Affairs))\n",
    "set.seed(123)\n",
    "train_ind = sample(seq_len(nrow(Affairs)), size = smp_size)\n",
    "train = Affairs[train_ind, ]\n",
    "test = Affairs[-train_ind, ]"
   ]
  },
  {
   "cell_type": "code",
   "execution_count": 15,
   "metadata": {},
   "outputs": [
    {
     "ename": "ERROR",
     "evalue": "Error in library(\"brms\"): there is no package called ‘brms’\n",
     "output_type": "error",
     "traceback": [
      "Error in library(\"brms\"): there is no package called ‘brms’\nTraceback:\n",
      "1. library(\"brms\")",
      "2. stop(txt, domain = NA)"
     ]
    }
   ],
   "source": [
    "# Bayesian logistic regression model using brms \n",
    "library ('brms')\n",
    "fit1 <- brm(ynaffair ~ age + yearsmarried + religiousness + rating,\n",
    "            data=train, family=\"bernoulli\")\n",
    "summary(fit1)"
   ]
  },
  {
   "cell_type": "code",
   "execution_count": null,
   "metadata": {},
   "outputs": [],
   "source": [
    "# Make predcitions on test data\n",
    "predictions = predict(fit1, test)\n",
    "pred = rep(\"No\",length(predictions[,'Estimate']))\n",
    "# Set the cutoff value =0.5\n",
    "pred[predictions[,'Estimate']>=0.5] = \"Yes\""
   ]
  },
  {
   "cell_type": "code",
   "execution_count": null,
   "metadata": {},
   "outputs": [],
   "source": [
    "# Classification matrix\n",
    "library(caret)\n",
    "confusionMatrix(test$ynaffair, pred)"
   ]
  },
  {
   "cell_type": "code",
   "execution_count": null,
   "metadata": {},
   "outputs": [],
   "source": [
    "# Make predcitions on test data\n",
    "predictions = predict(fit1, test)\n",
    "pred = rep(\"No\",length(predictions[,'Estimate']))\n",
    "# Set the cutoff value =0.5\n",
    "pred[predictions[,'Estimate']>=0.5] = \"Yes\"\n",
    "# Classification matrix\n",
    "library(caret)\n",
    "confusionMatrix(test$ynaffair, pred)"
   ]
  },
  {
   "cell_type": "code",
   "execution_count": null,
   "metadata": {},
   "outputs": [],
   "source": [
    "# Bayesian logistic regression model using rstanarm\n",
    "library(rstanarm)\n",
    "fit2 <- stan_glm(ynaffair ~ age + yearsmarried + religiousness + rating,\n",
    "                 data=Affairs, family=binomial(link = \"logit\"))\n",
    "summary(fit2)\n",
    "\n"
   ]
  }
 ],
 "metadata": {
  "kernelspec": {
   "display_name": "R",
   "language": "R",
   "name": "ir"
  },
  "language_info": {
   "codemirror_mode": "r",
   "file_extension": ".r",
   "mimetype": "text/x-r-source",
   "name": "R",
   "pygments_lexer": "r",
   "version": "3.3.2"
  }
 },
 "nbformat": 4,
 "nbformat_minor": 2
}
