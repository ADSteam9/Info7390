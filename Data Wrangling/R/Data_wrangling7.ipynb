{
 "cells": [
  {
   "cell_type": "code",
   "execution_count": 1,
   "metadata": {},
   "outputs": [
    {
     "data": {
      "text/html": [
       "<table>\n",
       "<thead><tr><th scope=col>fy</th><th scope=col>company</th><th scope=col>revenue</th><th scope=col>profit</th><th scope=col>margin</th></tr></thead>\n",
       "<tbody>\n",
       "\t<tr><td>2010     </td><td>Apple    </td><td> 65225   </td><td>14013    </td><td>21.5     </td></tr>\n",
       "\t<tr><td>2011     </td><td>Apple    </td><td>108249   </td><td>25922    </td><td>23.9     </td></tr>\n",
       "\t<tr><td>2012     </td><td>Apple    </td><td>156508   </td><td>41733    </td><td>26.7     </td></tr>\n",
       "\t<tr><td>2010     </td><td>Google   </td><td> 29321   </td><td> 8505    </td><td>29.0     </td></tr>\n",
       "\t<tr><td>2011     </td><td>Google   </td><td> 37905   </td><td> 9737    </td><td>25.7     </td></tr>\n",
       "\t<tr><td>2012     </td><td>Google   </td><td> 50175   </td><td>10737    </td><td>21.4     </td></tr>\n",
       "\t<tr><td>2010     </td><td>Microsoft</td><td> 62484   </td><td>18760    </td><td>30.0     </td></tr>\n",
       "\t<tr><td>2011     </td><td>Microsoft</td><td> 69943   </td><td>23150    </td><td>33.1     </td></tr>\n",
       "\t<tr><td>2012     </td><td>Microsoft</td><td> 73723   </td><td>16978    </td><td>23.0     </td></tr>\n",
       "</tbody>\n",
       "</table>\n"
      ],
      "text/latex": [
       "\\begin{tabular}{r|lllll}\n",
       " fy & company & revenue & profit & margin\\\\\n",
       "\\hline\n",
       "\t 2010      & Apple     &  65225    & 14013     & 21.5     \\\\\n",
       "\t 2011      & Apple     & 108249    & 25922     & 23.9     \\\\\n",
       "\t 2012      & Apple     & 156508    & 41733     & 26.7     \\\\\n",
       "\t 2010      & Google    &  29321    &  8505     & 29.0     \\\\\n",
       "\t 2011      & Google    &  37905    &  9737     & 25.7     \\\\\n",
       "\t 2012      & Google    &  50175    & 10737     & 21.4     \\\\\n",
       "\t 2010      & Microsoft &  62484    & 18760     & 30.0     \\\\\n",
       "\t 2011      & Microsoft &  69943    & 23150     & 33.1     \\\\\n",
       "\t 2012      & Microsoft &  73723    & 16978     & 23.0     \\\\\n",
       "\\end{tabular}\n"
      ],
      "text/markdown": [
       "\n",
       "fy | company | revenue | profit | margin | \n",
       "|---|---|---|---|---|---|---|---|---|\n",
       "| 2010      | Apple     |  65225    | 14013     | 21.5      | \n",
       "| 2011      | Apple     | 108249    | 25922     | 23.9      | \n",
       "| 2012      | Apple     | 156508    | 41733     | 26.7      | \n",
       "| 2010      | Google    |  29321    |  8505     | 29.0      | \n",
       "| 2011      | Google    |  37905    |  9737     | 25.7      | \n",
       "| 2012      | Google    |  50175    | 10737     | 21.4      | \n",
       "| 2010      | Microsoft |  62484    | 18760     | 30.0      | \n",
       "| 2011      | Microsoft |  69943    | 23150     | 33.1      | \n",
       "| 2012      | Microsoft |  73723    | 16978     | 23.0      | \n",
       "\n",
       "\n"
      ],
      "text/plain": [
       "  fy   company   revenue profit margin\n",
       "1 2010 Apple      65225  14013  21.5  \n",
       "2 2011 Apple     108249  25922  23.9  \n",
       "3 2012 Apple     156508  41733  26.7  \n",
       "4 2010 Google     29321   8505  29.0  \n",
       "5 2011 Google     37905   9737  25.7  \n",
       "6 2012 Google     50175  10737  21.4  \n",
       "7 2010 Microsoft  62484  18760  30.0  \n",
       "8 2011 Microsoft  69943  23150  33.1  \n",
       "9 2012 Microsoft  73723  16978  23.0  "
      ]
     },
     "metadata": {},
     "output_type": "display_data"
    }
   ],
   "source": [
    "### Adding new column\n",
    "### By equation\n",
    "fy <- c(2010,2011,2012,2010,2011,2012,2010,2011,2012) \n",
    "company <- c(\"Apple\",\"Apple\",\"Apple\",\"Google\",\"Google\",\n",
    "             \"Google\",\"Microsoft\",\"Microsoft\",\"Microsoft\") \n",
    "revenue <- c(65225,108249,156508,29321,37905,50175,62484,69943,73723) \n",
    "profit <- c(14013,25922,41733,8505,9737,10737,18760,23150,16978) \n",
    "companiesData <- data.frame(fy, company, revenue, profit)\n",
    "companiesData$margin <- (companiesData$profit / companiesData$revenue) * 100\n",
    "companiesData$margin <- round(companiesData$margin, 1)\n",
    "companiesData"
   ]
  },
  {
   "cell_type": "code",
   "execution_count": 2,
   "metadata": {},
   "outputs": [
    {
     "data": {
      "text/html": [
       "<table>\n",
       "<thead><tr><th scope=col>fy</th><th scope=col>company</th><th scope=col>revenue</th><th scope=col>profit</th><th scope=col>margin</th></tr></thead>\n",
       "<tbody>\n",
       "\t<tr><td>2010     </td><td>Apple    </td><td> 65225   </td><td>14013    </td><td>21.5     </td></tr>\n",
       "\t<tr><td>2011     </td><td>Apple    </td><td>108249   </td><td>25922    </td><td>23.9     </td></tr>\n",
       "\t<tr><td>2012     </td><td>Apple    </td><td>156508   </td><td>41733    </td><td>26.7     </td></tr>\n",
       "\t<tr><td>2010     </td><td>Google   </td><td> 29321   </td><td> 8505    </td><td>29.0     </td></tr>\n",
       "\t<tr><td>2011     </td><td>Google   </td><td> 37905   </td><td> 9737    </td><td>25.7     </td></tr>\n",
       "\t<tr><td>2012     </td><td>Google   </td><td> 50175   </td><td>10737    </td><td>21.4     </td></tr>\n",
       "\t<tr><td>2010     </td><td>Microsoft</td><td> 62484   </td><td>18760    </td><td>30.0     </td></tr>\n",
       "\t<tr><td>2011     </td><td>Microsoft</td><td> 69943   </td><td>23150    </td><td>33.1     </td></tr>\n",
       "\t<tr><td>2012     </td><td>Microsoft</td><td> 73723   </td><td>16978    </td><td>23.0     </td></tr>\n",
       "</tbody>\n",
       "</table>\n"
      ],
      "text/latex": [
       "\\begin{tabular}{r|lllll}\n",
       " fy & company & revenue & profit & margin\\\\\n",
       "\\hline\n",
       "\t 2010      & Apple     &  65225    & 14013     & 21.5     \\\\\n",
       "\t 2011      & Apple     & 108249    & 25922     & 23.9     \\\\\n",
       "\t 2012      & Apple     & 156508    & 41733     & 26.7     \\\\\n",
       "\t 2010      & Google    &  29321    &  8505     & 29.0     \\\\\n",
       "\t 2011      & Google    &  37905    &  9737     & 25.7     \\\\\n",
       "\t 2012      & Google    &  50175    & 10737     & 21.4     \\\\\n",
       "\t 2010      & Microsoft &  62484    & 18760     & 30.0     \\\\\n",
       "\t 2011      & Microsoft &  69943    & 23150     & 33.1     \\\\\n",
       "\t 2012      & Microsoft &  73723    & 16978     & 23.0     \\\\\n",
       "\\end{tabular}\n"
      ],
      "text/markdown": [
       "\n",
       "fy | company | revenue | profit | margin | \n",
       "|---|---|---|---|---|---|---|---|---|\n",
       "| 2010      | Apple     |  65225    | 14013     | 21.5      | \n",
       "| 2011      | Apple     | 108249    | 25922     | 23.9      | \n",
       "| 2012      | Apple     | 156508    | 41733     | 26.7      | \n",
       "| 2010      | Google    |  29321    |  8505     | 29.0      | \n",
       "| 2011      | Google    |  37905    |  9737     | 25.7      | \n",
       "| 2012      | Google    |  50175    | 10737     | 21.4      | \n",
       "| 2010      | Microsoft |  62484    | 18760     | 30.0      | \n",
       "| 2011      | Microsoft |  69943    | 23150     | 33.1      | \n",
       "| 2012      | Microsoft |  73723    | 16978     | 23.0      | \n",
       "\n",
       "\n"
      ],
      "text/plain": [
       "  fy   company   revenue profit margin\n",
       "1 2010 Apple      65225  14013  21.5  \n",
       "2 2011 Apple     108249  25922  23.9  \n",
       "3 2012 Apple     156508  41733  26.7  \n",
       "4 2010 Google     29321   8505  29.0  \n",
       "5 2011 Google     37905   9737  25.7  \n",
       "6 2012 Google     50175  10737  21.4  \n",
       "7 2010 Microsoft  62484  18760  30.0  \n",
       "8 2011 Microsoft  69943  23150  33.1  \n",
       "9 2012 Microsoft  73723  16978  23.0  "
      ]
     },
     "metadata": {},
     "output_type": "display_data"
    }
   ],
   "source": [
    "### By R's transform\n",
    "companiesData <- transform(companiesData, \n",
    "                           margin = round((profit/revenue) * 100, 1))\n",
    "companiesData"
   ]
  },
  {
   "cell_type": "code",
   "execution_count": 3,
   "metadata": {},
   "outputs": [
    {
     "data": {
      "text/html": [
       "<table>\n",
       "<thead><tr><th scope=col>fy</th><th scope=col>company</th><th scope=col>revenue</th><th scope=col>profit</th><th scope=col>margin</th></tr></thead>\n",
       "<tbody>\n",
       "\t<tr><td>2010     </td><td>Apple    </td><td> 65225   </td><td>14013    </td><td>21.48409 </td></tr>\n",
       "\t<tr><td>2011     </td><td>Apple    </td><td>108249   </td><td>25922    </td><td>23.94664 </td></tr>\n",
       "\t<tr><td>2012     </td><td>Apple    </td><td>156508   </td><td>41733    </td><td>26.66509 </td></tr>\n",
       "\t<tr><td>2010     </td><td>Google   </td><td> 29321   </td><td> 8505    </td><td>29.00651 </td></tr>\n",
       "\t<tr><td>2011     </td><td>Google   </td><td> 37905   </td><td> 9737    </td><td>25.68790 </td></tr>\n",
       "\t<tr><td>2012     </td><td>Google   </td><td> 50175   </td><td>10737    </td><td>21.39910 </td></tr>\n",
       "\t<tr><td>2010     </td><td>Microsoft</td><td> 62484   </td><td>18760    </td><td>30.02369 </td></tr>\n",
       "\t<tr><td>2011     </td><td>Microsoft</td><td> 69943   </td><td>23150    </td><td>33.09838 </td></tr>\n",
       "\t<tr><td>2012     </td><td>Microsoft</td><td> 73723   </td><td>16978    </td><td>23.02945 </td></tr>\n",
       "</tbody>\n",
       "</table>\n"
      ],
      "text/latex": [
       "\\begin{tabular}{r|lllll}\n",
       " fy & company & revenue & profit & margin\\\\\n",
       "\\hline\n",
       "\t 2010      & Apple     &  65225    & 14013     & 21.48409 \\\\\n",
       "\t 2011      & Apple     & 108249    & 25922     & 23.94664 \\\\\n",
       "\t 2012      & Apple     & 156508    & 41733     & 26.66509 \\\\\n",
       "\t 2010      & Google    &  29321    &  8505     & 29.00651 \\\\\n",
       "\t 2011      & Google    &  37905    &  9737     & 25.68790 \\\\\n",
       "\t 2012      & Google    &  50175    & 10737     & 21.39910 \\\\\n",
       "\t 2010      & Microsoft &  62484    & 18760     & 30.02369 \\\\\n",
       "\t 2011      & Microsoft &  69943    & 23150     & 33.09838 \\\\\n",
       "\t 2012      & Microsoft &  73723    & 16978     & 23.02945 \\\\\n",
       "\\end{tabular}\n"
      ],
      "text/markdown": [
       "\n",
       "fy | company | revenue | profit | margin | \n",
       "|---|---|---|---|---|---|---|---|---|\n",
       "| 2010      | Apple     |  65225    | 14013     | 21.48409  | \n",
       "| 2011      | Apple     | 108249    | 25922     | 23.94664  | \n",
       "| 2012      | Apple     | 156508    | 41733     | 26.66509  | \n",
       "| 2010      | Google    |  29321    |  8505     | 29.00651  | \n",
       "| 2011      | Google    |  37905    |  9737     | 25.68790  | \n",
       "| 2012      | Google    |  50175    | 10737     | 21.39910  | \n",
       "| 2010      | Microsoft |  62484    | 18760     | 30.02369  | \n",
       "| 2011      | Microsoft |  69943    | 23150     | 33.09838  | \n",
       "| 2012      | Microsoft |  73723    | 16978     | 23.02945  | \n",
       "\n",
       "\n"
      ],
      "text/plain": [
       "  fy   company   revenue profit margin  \n",
       "1 2010 Apple      65225  14013  21.48409\n",
       "2 2011 Apple     108249  25922  23.94664\n",
       "3 2012 Apple     156508  41733  26.66509\n",
       "4 2010 Google     29321   8505  29.00651\n",
       "5 2011 Google     37905   9737  25.68790\n",
       "6 2012 Google     50175  10737  21.39910\n",
       "7 2010 Microsoft  62484  18760  30.02369\n",
       "8 2011 Microsoft  69943  23150  33.09838\n",
       "9 2012 Microsoft  73723  16978  23.02945"
      ]
     },
     "metadata": {},
     "output_type": "display_data"
    }
   ],
   "source": [
    "### By apply() function\n",
    "companiesData$margin <- apply(companiesData[,c('revenue', 'profit')], 1, \n",
    "                              function(x) { (x[2]/x[1]) * 100 } )\n",
    "companiesData"
   ]
  },
  {
   "cell_type": "code",
   "execution_count": 4,
   "metadata": {},
   "outputs": [
    {
     "data": {
      "text/html": [
       "<table>\n",
       "<thead><tr><th scope=col>fy</th><th scope=col>company</th><th scope=col>revenue</th><th scope=col>profit</th><th scope=col>margin</th></tr></thead>\n",
       "<tbody>\n",
       "\t<tr><td>2010     </td><td>Apple    </td><td> 65225   </td><td>14013    </td><td>21.5     </td></tr>\n",
       "\t<tr><td>2011     </td><td>Apple    </td><td>108249   </td><td>25922    </td><td>23.9     </td></tr>\n",
       "\t<tr><td>2012     </td><td>Apple    </td><td>156508   </td><td>41733    </td><td>26.7     </td></tr>\n",
       "\t<tr><td>2010     </td><td>Google   </td><td> 29321   </td><td> 8505    </td><td>29.0     </td></tr>\n",
       "\t<tr><td>2011     </td><td>Google   </td><td> 37905   </td><td> 9737    </td><td>25.7     </td></tr>\n",
       "\t<tr><td>2012     </td><td>Google   </td><td> 50175   </td><td>10737    </td><td>21.4     </td></tr>\n",
       "\t<tr><td>2010     </td><td>Microsoft</td><td> 62484   </td><td>18760    </td><td>30.0     </td></tr>\n",
       "\t<tr><td>2011     </td><td>Microsoft</td><td> 69943   </td><td>23150    </td><td>33.1     </td></tr>\n",
       "\t<tr><td>2012     </td><td>Microsoft</td><td> 73723   </td><td>16978    </td><td>23.0     </td></tr>\n",
       "</tbody>\n",
       "</table>\n"
      ],
      "text/latex": [
       "\\begin{tabular}{r|lllll}\n",
       " fy & company & revenue & profit & margin\\\\\n",
       "\\hline\n",
       "\t 2010      & Apple     &  65225    & 14013     & 21.5     \\\\\n",
       "\t 2011      & Apple     & 108249    & 25922     & 23.9     \\\\\n",
       "\t 2012      & Apple     & 156508    & 41733     & 26.7     \\\\\n",
       "\t 2010      & Google    &  29321    &  8505     & 29.0     \\\\\n",
       "\t 2011      & Google    &  37905    &  9737     & 25.7     \\\\\n",
       "\t 2012      & Google    &  50175    & 10737     & 21.4     \\\\\n",
       "\t 2010      & Microsoft &  62484    & 18760     & 30.0     \\\\\n",
       "\t 2011      & Microsoft &  69943    & 23150     & 33.1     \\\\\n",
       "\t 2012      & Microsoft &  73723    & 16978     & 23.0     \\\\\n",
       "\\end{tabular}\n"
      ],
      "text/markdown": [
       "\n",
       "fy | company | revenue | profit | margin | \n",
       "|---|---|---|---|---|---|---|---|---|\n",
       "| 2010      | Apple     |  65225    | 14013     | 21.5      | \n",
       "| 2011      | Apple     | 108249    | 25922     | 23.9      | \n",
       "| 2012      | Apple     | 156508    | 41733     | 26.7      | \n",
       "| 2010      | Google    |  29321    |  8505     | 29.0      | \n",
       "| 2011      | Google    |  37905    |  9737     | 25.7      | \n",
       "| 2012      | Google    |  50175    | 10737     | 21.4      | \n",
       "| 2010      | Microsoft |  62484    | 18760     | 30.0      | \n",
       "| 2011      | Microsoft |  69943    | 23150     | 33.1      | \n",
       "| 2012      | Microsoft |  73723    | 16978     | 23.0      | \n",
       "\n",
       "\n"
      ],
      "text/plain": [
       "  fy   company   revenue profit margin\n",
       "1 2010 Apple      65225  14013  21.5  \n",
       "2 2011 Apple     108249  25922  23.9  \n",
       "3 2012 Apple     156508  41733  26.7  \n",
       "4 2010 Google     29321   8505  29.0  \n",
       "5 2011 Google     37905   9737  25.7  \n",
       "6 2012 Google     50175  10737  21.4  \n",
       "7 2010 Microsoft  62484  18760  30.0  \n",
       "8 2011 Microsoft  69943  23150  33.1  \n",
       "9 2012 Microsoft  73723  16978  23.0  "
      ]
     },
     "metadata": {},
     "output_type": "display_data"
    }
   ],
   "source": [
    "### By mapply() function\n",
    "companiesData$margin <- mapply(function(x, y) round((x/y) * 100, 1), \n",
    "                               companiesData$profit, companiesData$revenue)\n",
    "companiesData"
   ]
  },
  {
   "cell_type": "code",
   "execution_count": 5,
   "metadata": {},
   "outputs": [
    {
     "name": "stderr",
     "output_type": "stream",
     "text": [
      "\n",
      "Attaching package: ‘dplyr’\n",
      "\n",
      "The following objects are masked from ‘package:stats’:\n",
      "\n",
      "    filter, lag\n",
      "\n",
      "The following objects are masked from ‘package:base’:\n",
      "\n",
      "    intersect, setdiff, setequal, union\n",
      "\n"
     ]
    },
    {
     "data": {
      "text/html": [
       "<table>\n",
       "<thead><tr><th scope=col>fy</th><th scope=col>company</th><th scope=col>revenue</th><th scope=col>profit</th><th scope=col>margin</th></tr></thead>\n",
       "<tbody>\n",
       "\t<tr><td>2010     </td><td>Apple    </td><td> 65225   </td><td>14013    </td><td>21.5     </td></tr>\n",
       "\t<tr><td>2011     </td><td>Apple    </td><td>108249   </td><td>25922    </td><td>23.9     </td></tr>\n",
       "\t<tr><td>2012     </td><td>Apple    </td><td>156508   </td><td>41733    </td><td>26.7     </td></tr>\n",
       "\t<tr><td>2010     </td><td>Google   </td><td> 29321   </td><td> 8505    </td><td>29.0     </td></tr>\n",
       "\t<tr><td>2011     </td><td>Google   </td><td> 37905   </td><td> 9737    </td><td>25.7     </td></tr>\n",
       "\t<tr><td>2012     </td><td>Google   </td><td> 50175   </td><td>10737    </td><td>21.4     </td></tr>\n",
       "\t<tr><td>2010     </td><td>Microsoft</td><td> 62484   </td><td>18760    </td><td>30.0     </td></tr>\n",
       "\t<tr><td>2011     </td><td>Microsoft</td><td> 69943   </td><td>23150    </td><td>33.1     </td></tr>\n",
       "\t<tr><td>2012     </td><td>Microsoft</td><td> 73723   </td><td>16978    </td><td>23.0     </td></tr>\n",
       "</tbody>\n",
       "</table>\n"
      ],
      "text/latex": [
       "\\begin{tabular}{r|lllll}\n",
       " fy & company & revenue & profit & margin\\\\\n",
       "\\hline\n",
       "\t 2010      & Apple     &  65225    & 14013     & 21.5     \\\\\n",
       "\t 2011      & Apple     & 108249    & 25922     & 23.9     \\\\\n",
       "\t 2012      & Apple     & 156508    & 41733     & 26.7     \\\\\n",
       "\t 2010      & Google    &  29321    &  8505     & 29.0     \\\\\n",
       "\t 2011      & Google    &  37905    &  9737     & 25.7     \\\\\n",
       "\t 2012      & Google    &  50175    & 10737     & 21.4     \\\\\n",
       "\t 2010      & Microsoft &  62484    & 18760     & 30.0     \\\\\n",
       "\t 2011      & Microsoft &  69943    & 23150     & 33.1     \\\\\n",
       "\t 2012      & Microsoft &  73723    & 16978     & 23.0     \\\\\n",
       "\\end{tabular}\n"
      ],
      "text/markdown": [
       "\n",
       "fy | company | revenue | profit | margin | \n",
       "|---|---|---|---|---|---|---|---|---|\n",
       "| 2010      | Apple     |  65225    | 14013     | 21.5      | \n",
       "| 2011      | Apple     | 108249    | 25922     | 23.9      | \n",
       "| 2012      | Apple     | 156508    | 41733     | 26.7      | \n",
       "| 2010      | Google    |  29321    |  8505     | 29.0      | \n",
       "| 2011      | Google    |  37905    |  9737     | 25.7      | \n",
       "| 2012      | Google    |  50175    | 10737     | 21.4      | \n",
       "| 2010      | Microsoft |  62484    | 18760     | 30.0      | \n",
       "| 2011      | Microsoft |  69943    | 23150     | 33.1      | \n",
       "| 2012      | Microsoft |  73723    | 16978     | 23.0      | \n",
       "\n",
       "\n"
      ],
      "text/plain": [
       "  fy   company   revenue profit margin\n",
       "1 2010 Apple      65225  14013  21.5  \n",
       "2 2011 Apple     108249  25922  23.9  \n",
       "3 2012 Apple     156508  41733  26.7  \n",
       "4 2010 Google     29321   8505  29.0  \n",
       "5 2011 Google     37905   9737  25.7  \n",
       "6 2012 Google     50175  10737  21.4  \n",
       "7 2010 Microsoft  62484  18760  30.0  \n",
       "8 2011 Microsoft  69943  23150  33.1  \n",
       "9 2012 Microsoft  73723  16978  23.0  "
      ]
     },
     "metadata": {},
     "output_type": "display_data"
    }
   ],
   "source": [
    "### Using 'dplyr' package\n",
    "library(dplyr)\n",
    "companiesData <- mutate(companiesData, margin = round((profit/revenue) * 100, 1))\n",
    "companiesData \n"
   ]
  }
 ],
 "metadata": {
  "kernelspec": {
   "display_name": "R",
   "language": "R",
   "name": "ir"
  },
  "language_info": {
   "codemirror_mode": "r",
   "file_extension": ".r",
   "mimetype": "text/x-r-source",
   "name": "R",
   "pygments_lexer": "r",
   "version": "3.3.2"
  }
 },
 "nbformat": 4,
 "nbformat_minor": 2
}
