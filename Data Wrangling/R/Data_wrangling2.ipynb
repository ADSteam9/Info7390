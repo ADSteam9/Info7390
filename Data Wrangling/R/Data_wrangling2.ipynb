{
 "cells": [
  {
   "cell_type": "code",
   "execution_count": 1,
   "metadata": {},
   "outputs": [
    {
     "name": "stderr",
     "output_type": "stream",
     "text": [
      "also installing the dependencies ‘gsubfn’, ‘proto’, ‘chron’\n",
      "\n",
      "Updating HTML index of packages in '.Library'\n",
      "Making 'packages.html' ... done\n",
      "Loading required package: gsubfn\n",
      "Loading required package: proto\n",
      "Warning message:\n",
      "“no DISPLAY variable so Tk is not available”Loading required package: RSQLite\n"
     ]
    }
   ],
   "source": [
    "install.packages(\"sqldf\")\n",
    "library(sqldf)"
   ]
  },
  {
   "cell_type": "code",
   "execution_count": 2,
   "metadata": {},
   "outputs": [
    {
     "data": {
      "text/html": [
       "<table>\n",
       "<thead><tr><th scope=col>x</th><th scope=col>y1</th></tr></thead>\n",
       "<tbody>\n",
       "\t<tr><td> 7        </td><td>-0.6264538</td></tr>\n",
       "\t<tr><td> 8        </td><td> 0.1836433</td></tr>\n",
       "\t<tr><td> 9        </td><td>-0.8356286</td></tr>\n",
       "\t<tr><td>10        </td><td> 1.5952808</td></tr>\n",
       "\t<tr><td>11        </td><td> 0.3295078</td></tr>\n",
       "\t<tr><td>12        </td><td>-0.8204684</td></tr>\n",
       "</tbody>\n",
       "</table>\n"
      ],
      "text/latex": [
       "\\begin{tabular}{r|ll}\n",
       " x & y1\\\\\n",
       "\\hline\n",
       "\t  7         & -0.6264538\\\\\n",
       "\t  8         &  0.1836433\\\\\n",
       "\t  9         & -0.8356286\\\\\n",
       "\t 10         &  1.5952808\\\\\n",
       "\t 11         &  0.3295078\\\\\n",
       "\t 12         & -0.8204684\\\\\n",
       "\\end{tabular}\n"
      ],
      "text/markdown": [
       "\n",
       "x | y1 | \n",
       "|---|---|---|---|---|---|\n",
       "|  7         | -0.6264538 | \n",
       "|  8         |  0.1836433 | \n",
       "|  9         | -0.8356286 | \n",
       "| 10         |  1.5952808 | \n",
       "| 11         |  0.3295078 | \n",
       "| 12         | -0.8204684 | \n",
       "\n",
       "\n"
      ],
      "text/plain": [
       "  x  y1        \n",
       "1  7 -0.6264538\n",
       "2  8  0.1836433\n",
       "3  9 -0.8356286\n",
       "4 10  1.5952808\n",
       "5 11  0.3295078\n",
       "6 12 -0.8204684"
      ]
     },
     "metadata": {},
     "output_type": "display_data"
    }
   ],
   "source": [
    "set.seed(1)\n",
    "d1 <- data.frame(x=7:12, y1=rnorm(6))\n",
    "d2 <- data.frame(x=4:9, y2=rnorm(6))\n",
    "d1"
   ]
  },
  {
   "cell_type": "code",
   "execution_count": 3,
   "metadata": {},
   "outputs": [
    {
     "data": {
      "text/html": [
       "<table>\n",
       "<thead><tr><th scope=col>x</th><th scope=col>y2</th></tr></thead>\n",
       "<tbody>\n",
       "\t<tr><td>4         </td><td> 0.4874291</td></tr>\n",
       "\t<tr><td>5         </td><td> 0.7383247</td></tr>\n",
       "\t<tr><td>6         </td><td> 0.5757814</td></tr>\n",
       "\t<tr><td>7         </td><td>-0.3053884</td></tr>\n",
       "\t<tr><td>8         </td><td> 1.5117812</td></tr>\n",
       "\t<tr><td>9         </td><td> 0.3898432</td></tr>\n",
       "</tbody>\n",
       "</table>\n"
      ],
      "text/latex": [
       "\\begin{tabular}{r|ll}\n",
       " x & y2\\\\\n",
       "\\hline\n",
       "\t 4          &  0.4874291\\\\\n",
       "\t 5          &  0.7383247\\\\\n",
       "\t 6          &  0.5757814\\\\\n",
       "\t 7          & -0.3053884\\\\\n",
       "\t 8          &  1.5117812\\\\\n",
       "\t 9          &  0.3898432\\\\\n",
       "\\end{tabular}\n"
      ],
      "text/markdown": [
       "\n",
       "x | y2 | \n",
       "|---|---|---|---|---|---|\n",
       "| 4          |  0.4874291 | \n",
       "| 5          |  0.7383247 | \n",
       "| 6          |  0.5757814 | \n",
       "| 7          | -0.3053884 | \n",
       "| 8          |  1.5117812 | \n",
       "| 9          |  0.3898432 | \n",
       "\n",
       "\n"
      ],
      "text/plain": [
       "  x y2        \n",
       "1 4  0.4874291\n",
       "2 5  0.7383247\n",
       "3 6  0.5757814\n",
       "4 7 -0.3053884\n",
       "5 8  1.5117812\n",
       "6 9  0.3898432"
      ]
     },
     "metadata": {},
     "output_type": "display_data"
    }
   ],
   "source": [
    "d2"
   ]
  },
  {
   "cell_type": "code",
   "execution_count": 4,
   "metadata": {},
   "outputs": [
    {
     "data": {
      "text/plain": [
       "<SQLiteConnection>\n",
       "  Path: :memory:\n",
       "  Extensions: TRUE"
      ]
     },
     "metadata": {},
     "output_type": "display_data"
    }
   ],
   "source": [
    "sqldf()"
   ]
  },
  {
   "cell_type": "code",
   "execution_count": 5,
   "metadata": {},
   "outputs": [
    {
     "data": {
      "text/plain": [
       "NULL"
      ]
     },
     "metadata": {},
     "output_type": "display_data"
    },
    {
     "data": {
      "text/html": [
       "<table>\n",
       "<thead><tr><th scope=col>x</th><th scope=col>y1</th><th scope=col>x</th><th scope=col>y2</th></tr></thead>\n",
       "<tbody>\n",
       "\t<tr><td>7         </td><td>-0.6264538</td><td>7         </td><td>-0.3053884</td></tr>\n",
       "\t<tr><td>8         </td><td> 0.1836433</td><td>8         </td><td> 1.5117812</td></tr>\n",
       "\t<tr><td>9         </td><td>-0.8356286</td><td>9         </td><td> 0.3898432</td></tr>\n",
       "</tbody>\n",
       "</table>\n"
      ],
      "text/latex": [
       "\\begin{tabular}{r|llll}\n",
       " x & y1 & x & y2\\\\\n",
       "\\hline\n",
       "\t 7          & -0.6264538 & 7          & -0.3053884\\\\\n",
       "\t 8          &  0.1836433 & 8          &  1.5117812\\\\\n",
       "\t 9          & -0.8356286 & 9          &  0.3898432\\\\\n",
       "\\end{tabular}\n"
      ],
      "text/markdown": [
       "\n",
       "x | y1 | x | y2 | \n",
       "|---|---|---|\n",
       "| 7          | -0.6264538 | 7          | -0.3053884 | \n",
       "| 8          |  0.1836433 | 8          |  1.5117812 | \n",
       "| 9          | -0.8356286 | 9          |  0.3898432 | \n",
       "\n",
       "\n"
      ],
      "text/plain": [
       "  x y1         x y2        \n",
       "1 7 -0.6264538 7 -0.3053884\n",
       "2 8  0.1836433 8  1.5117812\n",
       "3 9 -0.8356286 9  0.3898432"
      ]
     },
     "metadata": {},
     "output_type": "display_data"
    }
   ],
   "source": [
    "d <- sqldf(\"select * from d1 inner join d2 on d1.x=d2.x\")\n",
    "sqldf()\n",
    "d"
   ]
  }
 ],
 "metadata": {
  "kernelspec": {
   "display_name": "R",
   "language": "R",
   "name": "ir"
  },
  "language_info": {
   "codemirror_mode": "r",
   "file_extension": ".r",
   "mimetype": "text/x-r-source",
   "name": "R",
   "pygments_lexer": "r",
   "version": "3.3.2"
  }
 },
 "nbformat": 4,
 "nbformat_minor": 2
}
