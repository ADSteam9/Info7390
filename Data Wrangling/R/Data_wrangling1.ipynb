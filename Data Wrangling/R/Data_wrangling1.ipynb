{
 "cells": [
  {
   "cell_type": "code",
   "execution_count": 1,
   "metadata": {},
   "outputs": [
    {
     "data": {
      "text/html": [
       "<table>\n",
       "<thead><tr><th scope=col>k1</th><th scope=col>k2</th><th scope=col>k3</th></tr></thead>\n",
       "<tbody>\n",
       "\t<tr><td> 1</td><td> 1</td><td> 8</td></tr>\n",
       "\t<tr><td>NA</td><td>NA</td><td> 9</td></tr>\n",
       "\t<tr><td> 3</td><td>NA</td><td>10</td></tr>\n",
       "\t<tr><td> 4</td><td> 4</td><td>11</td></tr>\n",
       "\t<tr><td> 5</td><td> 5</td><td>12</td></tr>\n",
       "</tbody>\n",
       "</table>\n"
      ],
      "text/latex": [
       "\\begin{tabular}{r|lll}\n",
       " k1 & k2 & k3\\\\\n",
       "\\hline\n",
       "\t  1 &  1 &  8\\\\\n",
       "\t NA & NA &  9\\\\\n",
       "\t  3 & NA & 10\\\\\n",
       "\t  4 &  4 & 11\\\\\n",
       "\t  5 &  5 & 12\\\\\n",
       "\\end{tabular}\n"
      ],
      "text/markdown": [
       "\n",
       "k1 | k2 | k3 | \n",
       "|---|---|---|---|---|\n",
       "|  1 |  1 |  8 | \n",
       "| NA | NA |  9 | \n",
       "|  3 | NA | 10 | \n",
       "|  4 |  4 | 11 | \n",
       "|  5 |  5 | 12 | \n",
       "\n",
       "\n"
      ],
      "text/plain": [
       "  k1 k2 k3\n",
       "1  1  1  8\n",
       "2 NA NA  9\n",
       "3  3 NA 10\n",
       "4  4  4 11\n",
       "5  5  5 12"
      ]
     },
     "metadata": {},
     "output_type": "display_data"
    }
   ],
   "source": [
    "x <- data.frame(k1 = c(1,NA,3,4,5), k2 = c(1,NA,NA,4,5), k3 = 8:12)\n",
    "y <- data.frame(k1 = c(NA,2,NA,4,5), k2 = c(NA,NA,3,4,5), k3 = 14:18)\n",
    "x"
   ]
  },
  {
   "cell_type": "code",
   "execution_count": 2,
   "metadata": {},
   "outputs": [
    {
     "data": {
      "text/html": [
       "<table>\n",
       "<thead><tr><th scope=col>k1</th><th scope=col>k2</th><th scope=col>k3</th></tr></thead>\n",
       "<tbody>\n",
       "\t<tr><td>NA</td><td>NA</td><td>14</td></tr>\n",
       "\t<tr><td> 2</td><td>NA</td><td>15</td></tr>\n",
       "\t<tr><td>NA</td><td> 3</td><td>16</td></tr>\n",
       "\t<tr><td> 4</td><td> 4</td><td>17</td></tr>\n",
       "\t<tr><td> 5</td><td> 5</td><td>18</td></tr>\n",
       "</tbody>\n",
       "</table>\n"
      ],
      "text/latex": [
       "\\begin{tabular}{r|lll}\n",
       " k1 & k2 & k3\\\\\n",
       "\\hline\n",
       "\t NA & NA & 14\\\\\n",
       "\t  2 & NA & 15\\\\\n",
       "\t NA &  3 & 16\\\\\n",
       "\t  4 &  4 & 17\\\\\n",
       "\t  5 &  5 & 18\\\\\n",
       "\\end{tabular}\n"
      ],
      "text/markdown": [
       "\n",
       "k1 | k2 | k3 | \n",
       "|---|---|---|---|---|\n",
       "| NA | NA | 14 | \n",
       "|  2 | NA | 15 | \n",
       "| NA |  3 | 16 | \n",
       "|  4 |  4 | 17 | \n",
       "|  5 |  5 | 18 | \n",
       "\n",
       "\n"
      ],
      "text/plain": [
       "  k1 k2 k3\n",
       "1 NA NA 14\n",
       "2  2 NA 15\n",
       "3 NA  3 16\n",
       "4  4  4 17\n",
       "5  5  5 18"
      ]
     },
     "metadata": {},
     "output_type": "display_data"
    }
   ],
   "source": [
    "y"
   ]
  },
  {
   "cell_type": "code",
   "execution_count": 3,
   "metadata": {},
   "outputs": [
    {
     "data": {
      "text/html": [
       "<table>\n",
       "<thead><tr><th scope=col>k1</th><th scope=col>k2</th><th scope=col>k3</th></tr></thead>\n",
       "<tbody>\n",
       "</tbody>\n",
       "</table>\n"
      ],
      "text/latex": [
       "\\begin{tabular}{r|lll}\n",
       " k1 & k2 & k3\\\\\n",
       "\\hline\n",
       "\\end{tabular}\n"
      ],
      "text/markdown": [
       "\n",
       "k1 | k2 | k3 | \n",
       "||\n",
       "\n",
       "\n"
      ],
      "text/plain": [
       "     k1 k2 k3"
      ]
     },
     "metadata": {},
     "output_type": "display_data"
    }
   ],
   "source": [
    "merge(x,y,all=FALSE) ### Inner join"
   ]
  },
  {
   "cell_type": "code",
   "execution_count": 4,
   "metadata": {},
   "outputs": [
    {
     "data": {
      "text/html": [
       "<table>\n",
       "<thead><tr><th scope=col>k1</th><th scope=col>k2</th><th scope=col>k3</th></tr></thead>\n",
       "<tbody>\n",
       "\t<tr><td> 1</td><td> 1</td><td> 8</td></tr>\n",
       "\t<tr><td> 3</td><td>NA</td><td>10</td></tr>\n",
       "\t<tr><td> 4</td><td> 4</td><td>11</td></tr>\n",
       "\t<tr><td> 5</td><td> 5</td><td>12</td></tr>\n",
       "\t<tr><td>NA</td><td>NA</td><td> 9</td></tr>\n",
       "</tbody>\n",
       "</table>\n"
      ],
      "text/latex": [
       "\\begin{tabular}{r|lll}\n",
       " k1 & k2 & k3\\\\\n",
       "\\hline\n",
       "\t  1 &  1 &  8\\\\\n",
       "\t  3 & NA & 10\\\\\n",
       "\t  4 &  4 & 11\\\\\n",
       "\t  5 &  5 & 12\\\\\n",
       "\t NA & NA &  9\\\\\n",
       "\\end{tabular}\n"
      ],
      "text/markdown": [
       "\n",
       "k1 | k2 | k3 | \n",
       "|---|---|---|---|---|\n",
       "|  1 |  1 |  8 | \n",
       "|  3 | NA | 10 | \n",
       "|  4 |  4 | 11 | \n",
       "|  5 |  5 | 12 | \n",
       "| NA | NA |  9 | \n",
       "\n",
       "\n"
      ],
      "text/plain": [
       "  k1 k2 k3\n",
       "1  1  1  8\n",
       "2  3 NA 10\n",
       "3  4  4 11\n",
       "4  5  5 12\n",
       "5 NA NA  9"
      ]
     },
     "metadata": {},
     "output_type": "display_data"
    }
   ],
   "source": [
    "merge(x,y,all.x=TRUE) ### Left join"
   ]
  },
  {
   "cell_type": "code",
   "execution_count": 5,
   "metadata": {},
   "outputs": [
    {
     "data": {
      "text/html": [
       "<table>\n",
       "<thead><tr><th scope=col>k1</th><th scope=col>k2</th><th scope=col>k3</th></tr></thead>\n",
       "<tbody>\n",
       "\t<tr><td> 2</td><td>NA</td><td>15</td></tr>\n",
       "\t<tr><td> 4</td><td> 4</td><td>17</td></tr>\n",
       "\t<tr><td> 5</td><td> 5</td><td>18</td></tr>\n",
       "\t<tr><td>NA</td><td> 3</td><td>16</td></tr>\n",
       "\t<tr><td>NA</td><td>NA</td><td>14</td></tr>\n",
       "</tbody>\n",
       "</table>\n"
      ],
      "text/latex": [
       "\\begin{tabular}{r|lll}\n",
       " k1 & k2 & k3\\\\\n",
       "\\hline\n",
       "\t  2 & NA & 15\\\\\n",
       "\t  4 &  4 & 17\\\\\n",
       "\t  5 &  5 & 18\\\\\n",
       "\t NA &  3 & 16\\\\\n",
       "\t NA & NA & 14\\\\\n",
       "\\end{tabular}\n"
      ],
      "text/markdown": [
       "\n",
       "k1 | k2 | k3 | \n",
       "|---|---|---|---|---|\n",
       "|  2 | NA | 15 | \n",
       "|  4 |  4 | 17 | \n",
       "|  5 |  5 | 18 | \n",
       "| NA |  3 | 16 | \n",
       "| NA | NA | 14 | \n",
       "\n",
       "\n"
      ],
      "text/plain": [
       "  k1 k2 k3\n",
       "1  2 NA 15\n",
       "2  4  4 17\n",
       "3  5  5 18\n",
       "4 NA  3 16\n",
       "5 NA NA 14"
      ]
     },
     "metadata": {},
     "output_type": "display_data"
    }
   ],
   "source": [
    "merge(x,y,all.y=TRUE) ### Right join"
   ]
  },
  {
   "cell_type": "code",
   "execution_count": 6,
   "metadata": {},
   "outputs": [
    {
     "data": {
      "text/html": [
       "<table>\n",
       "<thead><tr><th scope=col>k1</th><th scope=col>k2</th><th scope=col>k3</th></tr></thead>\n",
       "<tbody>\n",
       "\t<tr><td> 1</td><td> 1</td><td> 8</td></tr>\n",
       "\t<tr><td> 2</td><td>NA</td><td>15</td></tr>\n",
       "\t<tr><td> 3</td><td>NA</td><td>10</td></tr>\n",
       "\t<tr><td> 4</td><td> 4</td><td>11</td></tr>\n",
       "\t<tr><td> 4</td><td> 4</td><td>17</td></tr>\n",
       "\t<tr><td> 5</td><td> 5</td><td>12</td></tr>\n",
       "\t<tr><td> 5</td><td> 5</td><td>18</td></tr>\n",
       "\t<tr><td>NA</td><td> 3</td><td>16</td></tr>\n",
       "\t<tr><td>NA</td><td>NA</td><td> 9</td></tr>\n",
       "\t<tr><td>NA</td><td>NA</td><td>14</td></tr>\n",
       "</tbody>\n",
       "</table>\n"
      ],
      "text/latex": [
       "\\begin{tabular}{r|lll}\n",
       " k1 & k2 & k3\\\\\n",
       "\\hline\n",
       "\t  1 &  1 &  8\\\\\n",
       "\t  2 & NA & 15\\\\\n",
       "\t  3 & NA & 10\\\\\n",
       "\t  4 &  4 & 11\\\\\n",
       "\t  4 &  4 & 17\\\\\n",
       "\t  5 &  5 & 12\\\\\n",
       "\t  5 &  5 & 18\\\\\n",
       "\t NA &  3 & 16\\\\\n",
       "\t NA & NA &  9\\\\\n",
       "\t NA & NA & 14\\\\\n",
       "\\end{tabular}\n"
      ],
      "text/markdown": [
       "\n",
       "k1 | k2 | k3 | \n",
       "|---|---|---|---|---|---|---|---|---|---|\n",
       "|  1 |  1 |  8 | \n",
       "|  2 | NA | 15 | \n",
       "|  3 | NA | 10 | \n",
       "|  4 |  4 | 11 | \n",
       "|  4 |  4 | 17 | \n",
       "|  5 |  5 | 12 | \n",
       "|  5 |  5 | 18 | \n",
       "| NA |  3 | 16 | \n",
       "| NA | NA |  9 | \n",
       "| NA | NA | 14 | \n",
       "\n",
       "\n"
      ],
      "text/plain": [
       "   k1 k2 k3\n",
       "1   1  1  8\n",
       "2   2 NA 15\n",
       "3   3 NA 10\n",
       "4   4  4 11\n",
       "5   4  4 17\n",
       "6   5  5 12\n",
       "7   5  5 18\n",
       "8  NA  3 16\n",
       "9  NA NA  9\n",
       "10 NA NA 14"
      ]
     },
     "metadata": {},
     "output_type": "display_data"
    }
   ],
   "source": [
    "merge(x,y,all=TRUE) ### Outer join"
   ]
  }
 ],
 "metadata": {
  "kernelspec": {
   "display_name": "R",
   "language": "R",
   "name": "ir"
  },
  "language_info": {
   "codemirror_mode": "r",
   "file_extension": ".r",
   "mimetype": "text/x-r-source",
   "name": "R",
   "pygments_lexer": "r",
   "version": "3.3.2"
  }
 },
 "nbformat": 4,
 "nbformat_minor": 2
}
