{
 "cells": [
  {
   "cell_type": "code",
   "execution_count": 1,
   "metadata": {},
   "outputs": [
    {
     "name": "stderr",
     "output_type": "stream",
     "text": [
      "Updating HTML index of packages in '.Library'\n",
      "Making 'packages.html' ... done\n"
     ]
    }
   ],
   "source": [
    "### Reshaping and pivoting\n",
    "install.packages(\"reshape\")"
   ]
  },
  {
   "cell_type": "code",
   "execution_count": 4,
   "metadata": {
    "collapsed": true
   },
   "outputs": [],
   "source": [
    "library(reshape)"
   ]
  },
  {
   "cell_type": "code",
   "execution_count": 1,
   "metadata": {},
   "outputs": [
    {
     "data": {
      "text/html": [
       "<table>\n",
       "<thead><tr><th scope=col>id</th><th scope=col>x</th><th scope=col>y</th></tr></thead>\n",
       "<tbody>\n",
       "\t<tr><td>1         </td><td> 6        </td><td>-0.6264538</td></tr>\n",
       "\t<tr><td>2         </td><td> 7        </td><td> 0.1836433</td></tr>\n",
       "\t<tr><td>3         </td><td> 8        </td><td>-0.8356286</td></tr>\n",
       "\t<tr><td>1         </td><td> 9        </td><td> 1.5952808</td></tr>\n",
       "\t<tr><td>2         </td><td>10        </td><td> 0.3295078</td></tr>\n",
       "</tbody>\n",
       "</table>\n"
      ],
      "text/latex": [
       "\\begin{tabular}{r|lll}\n",
       " id & x & y\\\\\n",
       "\\hline\n",
       "\t 1          &  6         & -0.6264538\\\\\n",
       "\t 2          &  7         &  0.1836433\\\\\n",
       "\t 3          &  8         & -0.8356286\\\\\n",
       "\t 1          &  9         &  1.5952808\\\\\n",
       "\t 2          & 10         &  0.3295078\\\\\n",
       "\\end{tabular}\n"
      ],
      "text/markdown": [
       "\n",
       "id | x | y | \n",
       "|---|---|---|---|---|\n",
       "| 1          |  6         | -0.6264538 | \n",
       "| 2          |  7         |  0.1836433 | \n",
       "| 3          |  8         | -0.8356286 | \n",
       "| 1          |  9         |  1.5952808 | \n",
       "| 2          | 10         |  0.3295078 | \n",
       "\n",
       "\n"
      ],
      "text/plain": [
       "  id x  y         \n",
       "1 1   6 -0.6264538\n",
       "2 2   7  0.1836433\n",
       "3 3   8 -0.8356286\n",
       "4 1   9  1.5952808\n",
       "5 2  10  0.3295078"
      ]
     },
     "metadata": {},
     "output_type": "display_data"
    }
   ],
   "source": [
    "set.seed(1)\n",
    "d1 <- data.frame(id=c(1,2,3,1,2),x=6:10, y=rnorm(5))\n",
    "d1"
   ]
  },
  {
   "cell_type": "code",
   "execution_count": 2,
   "metadata": {},
   "outputs": [
    {
     "data": {
      "text/html": [
       "<table>\n",
       "<tbody>\n",
       "\t<tr><th scope=row>id</th><td> 1.0000000</td><td>2.0000000 </td><td> 3.0000000</td><td>1.000000  </td><td> 2.0000000</td></tr>\n",
       "\t<tr><th scope=row>x</th><td> 6.0000000</td><td>7.0000000 </td><td> 8.0000000</td><td>9.000000  </td><td>10.0000000</td></tr>\n",
       "\t<tr><th scope=row>y</th><td>-0.6264538</td><td>0.1836433 </td><td>-0.8356286</td><td>1.595281  </td><td> 0.3295078</td></tr>\n",
       "</tbody>\n",
       "</table>\n"
      ],
      "text/latex": [
       "\\begin{tabular}{r|lllll}\n",
       "\tid &  1.0000000 & 2.0000000  &  3.0000000 & 1.000000   &  2.0000000\\\\\n",
       "\tx &  6.0000000 & 7.0000000  &  8.0000000 & 9.000000   & 10.0000000\\\\\n",
       "\ty & -0.6264538 & 0.1836433  & -0.8356286 & 1.595281   &  0.3295078\\\\\n",
       "\\end{tabular}\n"
      ],
      "text/markdown": [
       "\n",
       "| id |  1.0000000 | 2.0000000  |  3.0000000 | 1.000000   |  2.0000000 | \n",
       "| x |  6.0000000 | 7.0000000  |  8.0000000 | 9.000000   | 10.0000000 | \n",
       "| y | -0.6264538 | 0.1836433  | -0.8356286 | 1.595281   |  0.3295078 | \n",
       "\n",
       "\n"
      ],
      "text/plain": [
       "   [,1]       [,2]      [,3]       [,4]     [,5]      \n",
       "id  1.0000000 2.0000000  3.0000000 1.000000  2.0000000\n",
       "x   6.0000000 7.0000000  8.0000000 9.000000 10.0000000\n",
       "y  -0.6264538 0.1836433 -0.8356286 1.595281  0.3295078"
      ]
     },
     "metadata": {},
     "output_type": "display_data"
    }
   ],
   "source": [
    "d2=t(d1) ### Matrix transpose\n",
    "d2"
   ]
  },
  {
   "cell_type": "code",
   "execution_count": 5,
   "metadata": {},
   "outputs": [
    {
     "data": {
      "text/html": [
       "<table>\n",
       "<thead><tr><th scope=col>id</th><th scope=col>variable</th><th scope=col>value</th></tr></thead>\n",
       "<tbody>\n",
       "\t<tr><td>1         </td><td>x         </td><td> 6.0000000</td></tr>\n",
       "\t<tr><td>2         </td><td>x         </td><td> 7.0000000</td></tr>\n",
       "\t<tr><td>3         </td><td>x         </td><td> 8.0000000</td></tr>\n",
       "\t<tr><td>1         </td><td>x         </td><td> 9.0000000</td></tr>\n",
       "\t<tr><td>2         </td><td>x         </td><td>10.0000000</td></tr>\n",
       "\t<tr><td>1         </td><td>y         </td><td>-0.6264538</td></tr>\n",
       "\t<tr><td>2         </td><td>y         </td><td> 0.1836433</td></tr>\n",
       "\t<tr><td>3         </td><td>y         </td><td>-0.8356286</td></tr>\n",
       "\t<tr><td>1         </td><td>y         </td><td> 1.5952808</td></tr>\n",
       "\t<tr><td>2         </td><td>y         </td><td> 0.3295078</td></tr>\n",
       "</tbody>\n",
       "</table>\n"
      ],
      "text/latex": [
       "\\begin{tabular}{r|lll}\n",
       " id & variable & value\\\\\n",
       "\\hline\n",
       "\t 1          & x          &  6.0000000\\\\\n",
       "\t 2          & x          &  7.0000000\\\\\n",
       "\t 3          & x          &  8.0000000\\\\\n",
       "\t 1          & x          &  9.0000000\\\\\n",
       "\t 2          & x          & 10.0000000\\\\\n",
       "\t 1          & y          & -0.6264538\\\\\n",
       "\t 2          & y          &  0.1836433\\\\\n",
       "\t 3          & y          & -0.8356286\\\\\n",
       "\t 1          & y          &  1.5952808\\\\\n",
       "\t 2          & y          &  0.3295078\\\\\n",
       "\\end{tabular}\n"
      ],
      "text/markdown": [
       "\n",
       "id | variable | value | \n",
       "|---|---|---|---|---|---|---|---|---|---|\n",
       "| 1          | x          |  6.0000000 | \n",
       "| 2          | x          |  7.0000000 | \n",
       "| 3          | x          |  8.0000000 | \n",
       "| 1          | x          |  9.0000000 | \n",
       "| 2          | x          | 10.0000000 | \n",
       "| 1          | y          | -0.6264538 | \n",
       "| 2          | y          |  0.1836433 | \n",
       "| 3          | y          | -0.8356286 | \n",
       "| 1          | y          |  1.5952808 | \n",
       "| 2          | y          |  0.3295078 | \n",
       "\n",
       "\n"
      ],
      "text/plain": [
       "   id variable value     \n",
       "1  1  x         6.0000000\n",
       "2  2  x         7.0000000\n",
       "3  3  x         8.0000000\n",
       "4  1  x         9.0000000\n",
       "5  2  x        10.0000000\n",
       "6  1  y        -0.6264538\n",
       "7  2  y         0.1836433\n",
       "8  3  y        -0.8356286\n",
       "9  1  y         1.5952808\n",
       "10 2  y         0.3295078"
      ]
     },
     "metadata": {},
     "output_type": "display_data"
    }
   ],
   "source": [
    "d3=melt(d1,id=\"id\") ### Reshaping\n",
    "d3"
   ]
  },
  {
   "cell_type": "code",
   "execution_count": 6,
   "metadata": {},
   "outputs": [
    {
     "data": {
      "text/html": [
       "<table>\n",
       "<thead><tr><th scope=col>id</th><th scope=col>x</th><th scope=col>y</th></tr></thead>\n",
       "<tbody>\n",
       "\t<tr><td>1         </td><td>7.5       </td><td> 0.4844135</td></tr>\n",
       "\t<tr><td>2         </td><td>8.5       </td><td> 0.2565755</td></tr>\n",
       "\t<tr><td>3         </td><td>8.0       </td><td>-0.8356286</td></tr>\n",
       "</tbody>\n",
       "</table>\n"
      ],
      "text/latex": [
       "\\begin{tabular}{r|lll}\n",
       " id & x & y\\\\\n",
       "\\hline\n",
       "\t 1          & 7.5        &  0.4844135\\\\\n",
       "\t 2          & 8.5        &  0.2565755\\\\\n",
       "\t 3          & 8.0        & -0.8356286\\\\\n",
       "\\end{tabular}\n"
      ],
      "text/markdown": [
       "\n",
       "id | x | y | \n",
       "|---|---|---|\n",
       "| 1          | 7.5        |  0.4844135 | \n",
       "| 2          | 8.5        |  0.2565755 | \n",
       "| 3          | 8.0        | -0.8356286 | \n",
       "\n",
       "\n"
      ],
      "text/plain": [
       "  id x   y         \n",
       "1 1  7.5  0.4844135\n",
       "2 2  8.5  0.2565755\n",
       "3 3  8.0 -0.8356286"
      ]
     },
     "metadata": {},
     "output_type": "display_data"
    }
   ],
   "source": [
    "id.means <- cast(d3, id~variable, mean) ### Mean function pivot for \"id\"\n",
    "id.means"
   ]
  },
  {
   "cell_type": "code",
   "execution_count": 7,
   "metadata": {},
   "outputs": [
    {
     "name": "stderr",
     "output_type": "stream",
     "text": [
      "Updating HTML index of packages in '.Library'\n",
      "Making 'packages.html' ... done\n",
      "\n",
      "Attaching package: ‘reshape2’\n",
      "\n",
      "The following objects are masked from ‘package:reshape’:\n",
      "\n",
      "    colsplit, melt, recast\n",
      "\n"
     ]
    }
   ],
   "source": [
    "### Converting long and wide format\n",
    "install.packages('reshape2')\n",
    "library('reshape2')"
   ]
  },
  {
   "cell_type": "code",
   "execution_count": 8,
   "metadata": {},
   "outputs": [
    {
     "data": {
      "text/html": [
       "<table>\n",
       "<thead><tr><th></th><th scope=col>Murder</th><th scope=col>Assault</th><th scope=col>UrbanPop</th><th scope=col>Rape</th></tr></thead>\n",
       "<tbody>\n",
       "\t<tr><th scope=row>Alabama</th><td>13.2</td><td>236 </td><td>58  </td><td>21.2</td></tr>\n",
       "\t<tr><th scope=row>Alaska</th><td>10.0</td><td>263 </td><td>48  </td><td>44.5</td></tr>\n",
       "\t<tr><th scope=row>Arizona</th><td> 8.1</td><td>294 </td><td>80  </td><td>31.0</td></tr>\n",
       "\t<tr><th scope=row>Arkansas</th><td> 8.8</td><td>190 </td><td>50  </td><td>19.5</td></tr>\n",
       "\t<tr><th scope=row>California</th><td> 9.0</td><td>276 </td><td>91  </td><td>40.6</td></tr>\n",
       "\t<tr><th scope=row>Colorado</th><td> 7.9</td><td>204 </td><td>78  </td><td>38.7</td></tr>\n",
       "</tbody>\n",
       "</table>\n"
      ],
      "text/latex": [
       "\\begin{tabular}{r|llll}\n",
       "  & Murder & Assault & UrbanPop & Rape\\\\\n",
       "\\hline\n",
       "\tAlabama & 13.2 & 236  & 58   & 21.2\\\\\n",
       "\tAlaska & 10.0 & 263  & 48   & 44.5\\\\\n",
       "\tArizona &  8.1 & 294  & 80   & 31.0\\\\\n",
       "\tArkansas &  8.8 & 190  & 50   & 19.5\\\\\n",
       "\tCalifornia &  9.0 & 276  & 91   & 40.6\\\\\n",
       "\tColorado &  7.9 & 204  & 78   & 38.7\\\\\n",
       "\\end{tabular}\n"
      ],
      "text/markdown": [
       "\n",
       "| <!--/--> | Murder | Assault | UrbanPop | Rape | \n",
       "|---|---|---|---|---|---|\n",
       "| Alabama | 13.2 | 236  | 58   | 21.2 | \n",
       "| Alaska | 10.0 | 263  | 48   | 44.5 | \n",
       "| Arizona |  8.1 | 294  | 80   | 31.0 | \n",
       "| Arkansas |  8.8 | 190  | 50   | 19.5 | \n",
       "| California |  9.0 | 276  | 91   | 40.6 | \n",
       "| Colorado |  7.9 | 204  | 78   | 38.7 | \n",
       "\n",
       "\n"
      ],
      "text/plain": [
       "           Murder Assault UrbanPop Rape\n",
       "Alabama    13.2   236     58       21.2\n",
       "Alaska     10.0   263     48       44.5\n",
       "Arizona     8.1   294     80       31.0\n",
       "Arkansas    8.8   190     50       19.5\n",
       "California  9.0   276     91       40.6\n",
       "Colorado    7.9   204     78       38.7"
      ]
     },
     "metadata": {},
     "output_type": "display_data"
    }
   ],
   "source": [
    "attach(USArrests)\n",
    "head(USArrests)"
   ]
  },
  {
   "cell_type": "code",
   "execution_count": 9,
   "metadata": {},
   "outputs": [
    {
     "name": "stderr",
     "output_type": "stream",
     "text": [
      "Using  as id variables\n"
     ]
    },
    {
     "data": {
      "text/html": [
       "<table>\n",
       "<thead><tr><th scope=col>variable</th><th scope=col>value</th></tr></thead>\n",
       "<tbody>\n",
       "\t<tr><td>Murder</td><td>13.2  </td></tr>\n",
       "\t<tr><td>Murder</td><td>10.0  </td></tr>\n",
       "\t<tr><td>Murder</td><td> 8.1  </td></tr>\n",
       "\t<tr><td>Murder</td><td> 8.8  </td></tr>\n",
       "\t<tr><td>Murder</td><td> 9.0  </td></tr>\n",
       "\t<tr><td>Murder</td><td> 7.9  </td></tr>\n",
       "</tbody>\n",
       "</table>\n"
      ],
      "text/latex": [
       "\\begin{tabular}{r|ll}\n",
       " variable & value\\\\\n",
       "\\hline\n",
       "\t Murder & 13.2  \\\\\n",
       "\t Murder & 10.0  \\\\\n",
       "\t Murder &  8.1  \\\\\n",
       "\t Murder &  8.8  \\\\\n",
       "\t Murder &  9.0  \\\\\n",
       "\t Murder &  7.9  \\\\\n",
       "\\end{tabular}\n"
      ],
      "text/markdown": [
       "\n",
       "variable | value | \n",
       "|---|---|---|---|---|---|\n",
       "| Murder | 13.2   | \n",
       "| Murder | 10.0   | \n",
       "| Murder |  8.1   | \n",
       "| Murder |  8.8   | \n",
       "| Murder |  9.0   | \n",
       "| Murder |  7.9   | \n",
       "\n",
       "\n"
      ],
      "text/plain": [
       "  variable value\n",
       "1 Murder   13.2 \n",
       "2 Murder   10.0 \n",
       "3 Murder    8.1 \n",
       "4 Murder    8.8 \n",
       "5 Murder    9.0 \n",
       "6 Murder    7.9 "
      ]
     },
     "metadata": {},
     "output_type": "display_data"
    }
   ],
   "source": [
    "head(melt(USArrests))"
   ]
  },
  {
   "cell_type": "code",
   "execution_count": 10,
   "metadata": {},
   "outputs": [
    {
     "name": "stderr",
     "output_type": "stream",
     "text": [
      "Using  as id variables\n"
     ]
    },
    {
     "data": {
      "text/html": [
       "<table>\n",
       "<thead><tr><th></th><th scope=col>variable</th><th scope=col>value</th></tr></thead>\n",
       "<tbody>\n",
       "\t<tr><th scope=row>195</th><td>Rape</td><td>11.2</td></tr>\n",
       "\t<tr><th scope=row>196</th><td>Rape</td><td>20.7</td></tr>\n",
       "\t<tr><th scope=row>197</th><td>Rape</td><td>26.2</td></tr>\n",
       "\t<tr><th scope=row>198</th><td>Rape</td><td> 9.3</td></tr>\n",
       "\t<tr><th scope=row>199</th><td>Rape</td><td>10.8</td></tr>\n",
       "\t<tr><th scope=row>200</th><td>Rape</td><td>15.6</td></tr>\n",
       "</tbody>\n",
       "</table>\n"
      ],
      "text/latex": [
       "\\begin{tabular}{r|ll}\n",
       "  & variable & value\\\\\n",
       "\\hline\n",
       "\t195 & Rape & 11.2\\\\\n",
       "\t196 & Rape & 20.7\\\\\n",
       "\t197 & Rape & 26.2\\\\\n",
       "\t198 & Rape &  9.3\\\\\n",
       "\t199 & Rape & 10.8\\\\\n",
       "\t200 & Rape & 15.6\\\\\n",
       "\\end{tabular}\n"
      ],
      "text/markdown": [
       "\n",
       "| <!--/--> | variable | value | \n",
       "|---|---|---|---|---|---|\n",
       "| 195 | Rape | 11.2 | \n",
       "| 196 | Rape | 20.7 | \n",
       "| 197 | Rape | 26.2 | \n",
       "| 198 | Rape |  9.3 | \n",
       "| 199 | Rape | 10.8 | \n",
       "| 200 | Rape | 15.6 | \n",
       "\n",
       "\n"
      ],
      "text/plain": [
       "    variable value\n",
       "195 Rape     11.2 \n",
       "196 Rape     20.7 \n",
       "197 Rape     26.2 \n",
       "198 Rape      9.3 \n",
       "199 Rape     10.8 \n",
       "200 Rape     15.6 "
      ]
     },
     "metadata": {},
     "output_type": "display_data"
    }
   ],
   "source": [
    "tail(melt(USArrests))"
   ]
  },
  {
   "cell_type": "code",
   "execution_count": 11,
   "metadata": {},
   "outputs": [
    {
     "data": {
      "text/html": [
       "<table>\n",
       "<thead><tr><th scope=col>Murder</th><th scope=col>Assault</th><th scope=col>variable</th><th scope=col>value</th></tr></thead>\n",
       "<tbody>\n",
       "\t<tr><td>13.2    </td><td>236     </td><td>UrbanPop</td><td>58      </td></tr>\n",
       "\t<tr><td>10.0    </td><td>263     </td><td>UrbanPop</td><td>48      </td></tr>\n",
       "\t<tr><td> 8.1    </td><td>294     </td><td>UrbanPop</td><td>80      </td></tr>\n",
       "\t<tr><td> 8.8    </td><td>190     </td><td>UrbanPop</td><td>50      </td></tr>\n",
       "\t<tr><td> 9.0    </td><td>276     </td><td>UrbanPop</td><td>91      </td></tr>\n",
       "\t<tr><td> 7.9    </td><td>204     </td><td>UrbanPop</td><td>78      </td></tr>\n",
       "</tbody>\n",
       "</table>\n"
      ],
      "text/latex": [
       "\\begin{tabular}{r|llll}\n",
       " Murder & Assault & variable & value\\\\\n",
       "\\hline\n",
       "\t 13.2     & 236      & UrbanPop & 58      \\\\\n",
       "\t 10.0     & 263      & UrbanPop & 48      \\\\\n",
       "\t  8.1     & 294      & UrbanPop & 80      \\\\\n",
       "\t  8.8     & 190      & UrbanPop & 50      \\\\\n",
       "\t  9.0     & 276      & UrbanPop & 91      \\\\\n",
       "\t  7.9     & 204      & UrbanPop & 78      \\\\\n",
       "\\end{tabular}\n"
      ],
      "text/markdown": [
       "\n",
       "Murder | Assault | variable | value | \n",
       "|---|---|---|---|---|---|\n",
       "| 13.2     | 236      | UrbanPop | 58       | \n",
       "| 10.0     | 263      | UrbanPop | 48       | \n",
       "|  8.1     | 294      | UrbanPop | 80       | \n",
       "|  8.8     | 190      | UrbanPop | 50       | \n",
       "|  9.0     | 276      | UrbanPop | 91       | \n",
       "|  7.9     | 204      | UrbanPop | 78       | \n",
       "\n",
       "\n"
      ],
      "text/plain": [
       "  Murder Assault variable value\n",
       "1 13.2   236     UrbanPop 58   \n",
       "2 10.0   263     UrbanPop 48   \n",
       "3  8.1   294     UrbanPop 80   \n",
       "4  8.8   190     UrbanPop 50   \n",
       "5  9.0   276     UrbanPop 91   \n",
       "6  7.9   204     UrbanPop 78   "
      ]
     },
     "metadata": {},
     "output_type": "display_data"
    }
   ],
   "source": [
    "melt_data<- melt(USArrests, id.vars = c(\"Murder\", \"Assault\"))\n",
    "head(melt_data)"
   ]
  },
  {
   "cell_type": "code",
   "execution_count": 12,
   "metadata": {},
   "outputs": [
    {
     "data": {
      "text/html": [
       "<table>\n",
       "<thead><tr><th></th><th scope=col>Murder</th><th scope=col>Assault</th><th scope=col>variable</th><th scope=col>value</th></tr></thead>\n",
       "<tbody>\n",
       "\t<tr><th scope=row>95</th><td>2.2 </td><td> 48 </td><td>Rape</td><td>11.2</td></tr>\n",
       "\t<tr><th scope=row>96</th><td>8.5 </td><td>156 </td><td>Rape</td><td>20.7</td></tr>\n",
       "\t<tr><th scope=row>97</th><td>4.0 </td><td>145 </td><td>Rape</td><td>26.2</td></tr>\n",
       "\t<tr><th scope=row>98</th><td>5.7 </td><td> 81 </td><td>Rape</td><td> 9.3</td></tr>\n",
       "\t<tr><th scope=row>99</th><td>2.6 </td><td> 53 </td><td>Rape</td><td>10.8</td></tr>\n",
       "\t<tr><th scope=row>100</th><td>6.8 </td><td>161 </td><td>Rape</td><td>15.6</td></tr>\n",
       "</tbody>\n",
       "</table>\n"
      ],
      "text/latex": [
       "\\begin{tabular}{r|llll}\n",
       "  & Murder & Assault & variable & value\\\\\n",
       "\\hline\n",
       "\t95 & 2.2  &  48  & Rape & 11.2\\\\\n",
       "\t96 & 8.5  & 156  & Rape & 20.7\\\\\n",
       "\t97 & 4.0  & 145  & Rape & 26.2\\\\\n",
       "\t98 & 5.7  &  81  & Rape &  9.3\\\\\n",
       "\t99 & 2.6  &  53  & Rape & 10.8\\\\\n",
       "\t100 & 6.8  & 161  & Rape & 15.6\\\\\n",
       "\\end{tabular}\n"
      ],
      "text/markdown": [
       "\n",
       "| <!--/--> | Murder | Assault | variable | value | \n",
       "|---|---|---|---|---|---|\n",
       "| 95 | 2.2  |  48  | Rape | 11.2 | \n",
       "| 96 | 8.5  | 156  | Rape | 20.7 | \n",
       "| 97 | 4.0  | 145  | Rape | 26.2 | \n",
       "| 98 | 5.7  |  81  | Rape |  9.3 | \n",
       "| 99 | 2.6  |  53  | Rape | 10.8 | \n",
       "| 100 | 6.8  | 161  | Rape | 15.6 | \n",
       "\n",
       "\n"
      ],
      "text/plain": [
       "    Murder Assault variable value\n",
       "95  2.2     48     Rape     11.2 \n",
       "96  8.5    156     Rape     20.7 \n",
       "97  4.0    145     Rape     26.2 \n",
       "98  5.7     81     Rape      9.3 \n",
       "99  2.6     53     Rape     10.8 \n",
       "100 6.8    161     Rape     15.6 "
      ]
     },
     "metadata": {},
     "output_type": "display_data"
    }
   ],
   "source": [
    "tail(melt_data)"
   ]
  },
  {
   "cell_type": "code",
   "execution_count": 13,
   "metadata": {},
   "outputs": [
    {
     "data": {
      "text/html": [
       "<table>\n",
       "<thead><tr><th scope=col>Murder</th><th scope=col>Assault</th><th scope=col>UrbanPop</th><th scope=col>Rape</th></tr></thead>\n",
       "<tbody>\n",
       "\t<tr><td>0.8 </td><td>45  </td><td>44  </td><td> 7.3</td></tr>\n",
       "\t<tr><td>2.1 </td><td>57  </td><td>56  </td><td> 9.5</td></tr>\n",
       "\t<tr><td>2.1 </td><td>83  </td><td>51  </td><td> 7.8</td></tr>\n",
       "\t<tr><td>2.2 </td><td>48  </td><td>32  </td><td>11.2</td></tr>\n",
       "\t<tr><td>2.2 </td><td>56  </td><td>57  </td><td>11.3</td></tr>\n",
       "\t<tr><td>2.6 </td><td>53  </td><td>66  </td><td>10.8</td></tr>\n",
       "</tbody>\n",
       "</table>\n"
      ],
      "text/latex": [
       "\\begin{tabular}{r|llll}\n",
       " Murder & Assault & UrbanPop & Rape\\\\\n",
       "\\hline\n",
       "\t 0.8  & 45   & 44   &  7.3\\\\\n",
       "\t 2.1  & 57   & 56   &  9.5\\\\\n",
       "\t 2.1  & 83   & 51   &  7.8\\\\\n",
       "\t 2.2  & 48   & 32   & 11.2\\\\\n",
       "\t 2.2  & 56   & 57   & 11.3\\\\\n",
       "\t 2.6  & 53   & 66   & 10.8\\\\\n",
       "\\end{tabular}\n"
      ],
      "text/markdown": [
       "\n",
       "Murder | Assault | UrbanPop | Rape | \n",
       "|---|---|---|---|---|---|\n",
       "| 0.8  | 45   | 44   |  7.3 | \n",
       "| 2.1  | 57   | 56   |  9.5 | \n",
       "| 2.1  | 83   | 51   |  7.8 | \n",
       "| 2.2  | 48   | 32   | 11.2 | \n",
       "| 2.2  | 56   | 57   | 11.3 | \n",
       "| 2.6  | 53   | 66   | 10.8 | \n",
       "\n",
       "\n"
      ],
      "text/plain": [
       "  Murder Assault UrbanPop Rape\n",
       "1 0.8    45      44        7.3\n",
       "2 2.1    57      56        9.5\n",
       "3 2.1    83      51        7.8\n",
       "4 2.2    48      32       11.2\n",
       "5 2.2    56      57       11.3\n",
       "6 2.6    53      66       10.8"
      ]
     },
     "metadata": {},
     "output_type": "display_data"
    }
   ],
   "source": [
    "head(dcast(melt_data, Murder + Assault ~ variable))"
   ]
  },
  {
   "cell_type": "code",
   "execution_count": 14,
   "metadata": {
    "collapsed": true
   },
   "outputs": [],
   "source": [
    "### Filtering\n",
    "attach(mtcars)"
   ]
  },
  {
   "cell_type": "code",
   "execution_count": 15,
   "metadata": {},
   "outputs": [
    {
     "data": {
      "text/html": [
       "<table>\n",
       "<thead><tr><th></th><th scope=col>cyl</th><th scope=col>hp</th></tr></thead>\n",
       "<tbody>\n",
       "\t<tr><th scope=row>Mazda RX4</th><td>6  </td><td>110</td></tr>\n",
       "\t<tr><th scope=row>Mazda RX4 Wag</th><td>6  </td><td>110</td></tr>\n",
       "\t<tr><th scope=row>Datsun 710</th><td>4  </td><td> 93</td></tr>\n",
       "\t<tr><th scope=row>Hornet 4 Drive</th><td>6  </td><td>110</td></tr>\n",
       "\t<tr><th scope=row>Hornet Sportabout</th><td>8  </td><td>175</td></tr>\n",
       "\t<tr><th scope=row>Valiant</th><td>6  </td><td>105</td></tr>\n",
       "</tbody>\n",
       "</table>\n"
      ],
      "text/latex": [
       "\\begin{tabular}{r|ll}\n",
       "  & cyl & hp\\\\\n",
       "\\hline\n",
       "\tMazda RX4 & 6   & 110\\\\\n",
       "\tMazda RX4 Wag & 6   & 110\\\\\n",
       "\tDatsun 710 & 4   &  93\\\\\n",
       "\tHornet 4 Drive & 6   & 110\\\\\n",
       "\tHornet Sportabout & 8   & 175\\\\\n",
       "\tValiant & 6   & 105\\\\\n",
       "\\end{tabular}\n"
      ],
      "text/markdown": [
       "\n",
       "| <!--/--> | cyl | hp | \n",
       "|---|---|---|---|---|---|\n",
       "| Mazda RX4 | 6   | 110 | \n",
       "| Mazda RX4 Wag | 6   | 110 | \n",
       "| Datsun 710 | 4   |  93 | \n",
       "| Hornet 4 Drive | 6   | 110 | \n",
       "| Hornet Sportabout | 8   | 175 | \n",
       "| Valiant | 6   | 105 | \n",
       "\n",
       "\n"
      ],
      "text/plain": [
       "                  cyl hp \n",
       "Mazda RX4         6   110\n",
       "Mazda RX4 Wag     6   110\n",
       "Datsun 710        4    93\n",
       "Hornet 4 Drive    6   110\n",
       "Hornet Sportabout 8   175\n",
       "Valiant           6   105"
      ]
     },
     "metadata": {},
     "output_type": "display_data"
    }
   ],
   "source": [
    "### Bracket notation\n",
    "head(mtcars[,c(2,4)]) ### Columns 2 and 4"
   ]
  },
  {
   "cell_type": "code",
   "execution_count": 16,
   "metadata": {},
   "outputs": [
    {
     "data": {
      "text/html": [
       "<table>\n",
       "<thead><tr><th></th><th scope=col>mpg</th><th scope=col>cyl</th><th scope=col>disp</th><th scope=col>hp</th><th scope=col>drat</th><th scope=col>wt</th><th scope=col>qsec</th><th scope=col>vs</th><th scope=col>am</th><th scope=col>gear</th><th scope=col>carb</th></tr></thead>\n",
       "<tbody>\n",
       "\t<tr><th scope=row>Mazda RX4</th><td>21.0 </td><td>6    </td><td>160.0</td><td>110  </td><td>3.90 </td><td>2.620</td><td>16.46</td><td>0    </td><td>1    </td><td>4    </td><td>4    </td></tr>\n",
       "\t<tr><th scope=row>Mazda RX4 Wag</th><td>21.0 </td><td>6    </td><td>160.0</td><td>110  </td><td>3.90 </td><td>2.875</td><td>17.02</td><td>0    </td><td>1    </td><td>4    </td><td>4    </td></tr>\n",
       "\t<tr><th scope=row>Datsun 710</th><td>22.8 </td><td>4    </td><td>108.0</td><td> 93  </td><td>3.85 </td><td>2.320</td><td>18.61</td><td>1    </td><td>1    </td><td>4    </td><td>1    </td></tr>\n",
       "\t<tr><th scope=row>Hornet 4 Drive</th><td>21.4 </td><td>6    </td><td>258.0</td><td>110  </td><td>3.08 </td><td>3.215</td><td>19.44</td><td>1    </td><td>0    </td><td>3    </td><td>1    </td></tr>\n",
       "\t<tr><th scope=row>Merc 240D</th><td>24.4 </td><td>4    </td><td>146.7</td><td> 62  </td><td>3.69 </td><td>3.190</td><td>20.00</td><td>1    </td><td>0    </td><td>4    </td><td>2    </td></tr>\n",
       "\t<tr><th scope=row>Merc 230</th><td>22.8 </td><td>4    </td><td>140.8</td><td> 95  </td><td>3.92 </td><td>3.150</td><td>22.90</td><td>1    </td><td>0    </td><td>4    </td><td>2    </td></tr>\n",
       "</tbody>\n",
       "</table>\n"
      ],
      "text/latex": [
       "\\begin{tabular}{r|lllllllllll}\n",
       "  & mpg & cyl & disp & hp & drat & wt & qsec & vs & am & gear & carb\\\\\n",
       "\\hline\n",
       "\tMazda RX4 & 21.0  & 6     & 160.0 & 110   & 3.90  & 2.620 & 16.46 & 0     & 1     & 4     & 4    \\\\\n",
       "\tMazda RX4 Wag & 21.0  & 6     & 160.0 & 110   & 3.90  & 2.875 & 17.02 & 0     & 1     & 4     & 4    \\\\\n",
       "\tDatsun 710 & 22.8  & 4     & 108.0 &  93   & 3.85  & 2.320 & 18.61 & 1     & 1     & 4     & 1    \\\\\n",
       "\tHornet 4 Drive & 21.4  & 6     & 258.0 & 110   & 3.08  & 3.215 & 19.44 & 1     & 0     & 3     & 1    \\\\\n",
       "\tMerc 240D & 24.4  & 4     & 146.7 &  62   & 3.69  & 3.190 & 20.00 & 1     & 0     & 4     & 2    \\\\\n",
       "\tMerc 230 & 22.8  & 4     & 140.8 &  95   & 3.92  & 3.150 & 22.90 & 1     & 0     & 4     & 2    \\\\\n",
       "\\end{tabular}\n"
      ],
      "text/markdown": [
       "\n",
       "| <!--/--> | mpg | cyl | disp | hp | drat | wt | qsec | vs | am | gear | carb | \n",
       "|---|---|---|---|---|---|\n",
       "| Mazda RX4 | 21.0  | 6     | 160.0 | 110   | 3.90  | 2.620 | 16.46 | 0     | 1     | 4     | 4     | \n",
       "| Mazda RX4 Wag | 21.0  | 6     | 160.0 | 110   | 3.90  | 2.875 | 17.02 | 0     | 1     | 4     | 4     | \n",
       "| Datsun 710 | 22.8  | 4     | 108.0 |  93   | 3.85  | 2.320 | 18.61 | 1     | 1     | 4     | 1     | \n",
       "| Hornet 4 Drive | 21.4  | 6     | 258.0 | 110   | 3.08  | 3.215 | 19.44 | 1     | 0     | 3     | 1     | \n",
       "| Merc 240D | 24.4  | 4     | 146.7 |  62   | 3.69  | 3.190 | 20.00 | 1     | 0     | 4     | 2     | \n",
       "| Merc 230 | 22.8  | 4     | 140.8 |  95   | 3.92  | 3.150 | 22.90 | 1     | 0     | 4     | 2     | \n",
       "\n",
       "\n"
      ],
      "text/plain": [
       "               mpg  cyl disp  hp  drat wt    qsec  vs am gear carb\n",
       "Mazda RX4      21.0 6   160.0 110 3.90 2.620 16.46 0  1  4    4   \n",
       "Mazda RX4 Wag  21.0 6   160.0 110 3.90 2.875 17.02 0  1  4    4   \n",
       "Datsun 710     22.8 4   108.0  93 3.85 2.320 18.61 1  1  4    1   \n",
       "Hornet 4 Drive 21.4 6   258.0 110 3.08 3.215 19.44 1  0  3    1   \n",
       "Merc 240D      24.4 4   146.7  62 3.69 3.190 20.00 1  0  4    2   \n",
       "Merc 230       22.8 4   140.8  95 3.92 3.150 22.90 1  0  4    2   "
      ]
     },
     "metadata": {},
     "output_type": "display_data"
    }
   ],
   "source": [
    "head(mtcars[mtcars$mpg>20,]) ### All columns with mpg > 20"
   ]
  },
  {
   "cell_type": "code",
   "execution_count": 17,
   "metadata": {},
   "outputs": [
    {
     "data": {
      "text/html": [
       "<table>\n",
       "<thead><tr><th></th><th scope=col>mpg</th><th scope=col>hp</th></tr></thead>\n",
       "<tbody>\n",
       "\t<tr><th scope=row>Mazda RX4</th><td>21.0</td><td>110 </td></tr>\n",
       "\t<tr><th scope=row>Mazda RX4 Wag</th><td>21.0</td><td>110 </td></tr>\n",
       "\t<tr><th scope=row>Datsun 710</th><td>22.8</td><td> 93 </td></tr>\n",
       "\t<tr><th scope=row>Hornet 4 Drive</th><td>21.4</td><td>110 </td></tr>\n",
       "\t<tr><th scope=row>Merc 240D</th><td>24.4</td><td> 62 </td></tr>\n",
       "\t<tr><th scope=row>Merc 230</th><td>22.8</td><td> 95 </td></tr>\n",
       "</tbody>\n",
       "</table>\n"
      ],
      "text/latex": [
       "\\begin{tabular}{r|ll}\n",
       "  & mpg & hp\\\\\n",
       "\\hline\n",
       "\tMazda RX4 & 21.0 & 110 \\\\\n",
       "\tMazda RX4 Wag & 21.0 & 110 \\\\\n",
       "\tDatsun 710 & 22.8 &  93 \\\\\n",
       "\tHornet 4 Drive & 21.4 & 110 \\\\\n",
       "\tMerc 240D & 24.4 &  62 \\\\\n",
       "\tMerc 230 & 22.8 &  95 \\\\\n",
       "\\end{tabular}\n"
      ],
      "text/markdown": [
       "\n",
       "| <!--/--> | mpg | hp | \n",
       "|---|---|---|---|---|---|\n",
       "| Mazda RX4 | 21.0 | 110  | \n",
       "| Mazda RX4 Wag | 21.0 | 110  | \n",
       "| Datsun 710 | 22.8 |  93  | \n",
       "| Hornet 4 Drive | 21.4 | 110  | \n",
       "| Merc 240D | 24.4 |  62  | \n",
       "| Merc 230 | 22.8 |  95  | \n",
       "\n",
       "\n"
      ],
      "text/plain": [
       "               mpg  hp \n",
       "Mazda RX4      21.0 110\n",
       "Mazda RX4 Wag  21.0 110\n",
       "Datsun 710     22.8  93\n",
       "Hornet 4 Drive 21.4 110\n",
       "Merc 240D      24.4  62\n",
       "Merc 230       22.8  95"
      ]
     },
     "metadata": {},
     "output_type": "display_data"
    }
   ],
   "source": [
    "head(mtcars[mtcars$mpg>20,c(\"mpg\",\"hp\")]) ### 'mpg' and 'hp' columns mpg > 20"
   ]
  },
  {
   "cell_type": "code",
   "execution_count": 18,
   "metadata": {
    "collapsed": true
   },
   "outputs": [],
   "source": [
    "detach()"
   ]
  },
  {
   "cell_type": "code",
   "execution_count": 19,
   "metadata": {},
   "outputs": [
    {
     "data": {
      "text/html": [
       "<table>\n",
       "<thead><tr><th></th><th scope=col>mpg</th><th scope=col>hp</th></tr></thead>\n",
       "<tbody>\n",
       "\t<tr><th scope=row>Mazda RX4</th><td>21.0</td><td>110 </td></tr>\n",
       "\t<tr><th scope=row>Mazda RX4 Wag</th><td>21.0</td><td>110 </td></tr>\n",
       "\t<tr><th scope=row>Datsun 710</th><td>22.8</td><td> 93 </td></tr>\n",
       "\t<tr><th scope=row>Hornet 4 Drive</th><td>21.4</td><td>110 </td></tr>\n",
       "\t<tr><th scope=row>Hornet Sportabout</th><td>18.7</td><td>175 </td></tr>\n",
       "\t<tr><th scope=row>Valiant</th><td>18.1</td><td>105 </td></tr>\n",
       "</tbody>\n",
       "</table>\n"
      ],
      "text/latex": [
       "\\begin{tabular}{r|ll}\n",
       "  & mpg & hp\\\\\n",
       "\\hline\n",
       "\tMazda RX4 & 21.0 & 110 \\\\\n",
       "\tMazda RX4 Wag & 21.0 & 110 \\\\\n",
       "\tDatsun 710 & 22.8 &  93 \\\\\n",
       "\tHornet 4 Drive & 21.4 & 110 \\\\\n",
       "\tHornet Sportabout & 18.7 & 175 \\\\\n",
       "\tValiant & 18.1 & 105 \\\\\n",
       "\\end{tabular}\n"
      ],
      "text/markdown": [
       "\n",
       "| <!--/--> | mpg | hp | \n",
       "|---|---|---|---|---|---|\n",
       "| Mazda RX4 | 21.0 | 110  | \n",
       "| Mazda RX4 Wag | 21.0 | 110  | \n",
       "| Datsun 710 | 22.8 |  93  | \n",
       "| Hornet 4 Drive | 21.4 | 110  | \n",
       "| Hornet Sportabout | 18.7 | 175  | \n",
       "| Valiant | 18.1 | 105  | \n",
       "\n",
       "\n"
      ],
      "text/plain": [
       "                  mpg  hp \n",
       "Mazda RX4         21.0 110\n",
       "Mazda RX4 Wag     21.0 110\n",
       "Datsun 710        22.8  93\n",
       "Hornet 4 Drive    21.4 110\n",
       "Hornet Sportabout 18.7 175\n",
       "Valiant           18.1 105"
      ]
     },
     "metadata": {},
     "output_type": "display_data"
    }
   ],
   "source": [
    "### Subset function\n",
    "head(subset(mtcars, , c(\"mpg\", \"hp\"))) ### All rows with 'mpg' and 'hp' columns"
   ]
  },
  {
   "cell_type": "code",
   "execution_count": 20,
   "metadata": {},
   "outputs": [
    {
     "name": "stderr",
     "output_type": "stream",
     "text": [
      "Updating HTML index of packages in '.Library'\n",
      "Making 'packages.html' ... done\n",
      "\n",
      "Attaching package: ‘dplyr’\n",
      "\n",
      "The following object is masked from ‘package:reshape’:\n",
      "\n",
      "    rename\n",
      "\n",
      "The following objects are masked from ‘package:stats’:\n",
      "\n",
      "    filter, lag\n",
      "\n",
      "The following objects are masked from ‘package:base’:\n",
      "\n",
      "    intersect, setdiff, setequal, union\n",
      "\n"
     ]
    },
    {
     "data": {
      "text/html": [
       "<table>\n",
       "<thead><tr><th scope=col>Sepal.Length</th><th scope=col>Sepal.Width</th><th scope=col>Petal.Length</th><th scope=col>Petal.Width</th><th scope=col>Species</th></tr></thead>\n",
       "<tbody>\n",
       "\t<tr><td>5.1   </td><td>3.5   </td><td>1.4   </td><td>0.2   </td><td>setosa</td></tr>\n",
       "\t<tr><td>4.9   </td><td>3.0   </td><td>1.4   </td><td>0.2   </td><td>setosa</td></tr>\n",
       "\t<tr><td>4.7   </td><td>3.2   </td><td>1.3   </td><td>0.2   </td><td>setosa</td></tr>\n",
       "\t<tr><td>4.6   </td><td>3.1   </td><td>1.5   </td><td>0.2   </td><td>setosa</td></tr>\n",
       "\t<tr><td>5.0   </td><td>3.6   </td><td>1.4   </td><td>0.2   </td><td>setosa</td></tr>\n",
       "\t<tr><td>5.4   </td><td>3.9   </td><td>1.7   </td><td>0.4   </td><td>setosa</td></tr>\n",
       "</tbody>\n",
       "</table>\n"
      ],
      "text/latex": [
       "\\begin{tabular}{r|lllll}\n",
       " Sepal.Length & Sepal.Width & Petal.Length & Petal.Width & Species\\\\\n",
       "\\hline\n",
       "\t 5.1    & 3.5    & 1.4    & 0.2    & setosa\\\\\n",
       "\t 4.9    & 3.0    & 1.4    & 0.2    & setosa\\\\\n",
       "\t 4.7    & 3.2    & 1.3    & 0.2    & setosa\\\\\n",
       "\t 4.6    & 3.1    & 1.5    & 0.2    & setosa\\\\\n",
       "\t 5.0    & 3.6    & 1.4    & 0.2    & setosa\\\\\n",
       "\t 5.4    & 3.9    & 1.7    & 0.4    & setosa\\\\\n",
       "\\end{tabular}\n"
      ],
      "text/markdown": [
       "\n",
       "Sepal.Length | Sepal.Width | Petal.Length | Petal.Width | Species | \n",
       "|---|---|---|---|---|---|\n",
       "| 5.1    | 3.5    | 1.4    | 0.2    | setosa | \n",
       "| 4.9    | 3.0    | 1.4    | 0.2    | setosa | \n",
       "| 4.7    | 3.2    | 1.3    | 0.2    | setosa | \n",
       "| 4.6    | 3.1    | 1.5    | 0.2    | setosa | \n",
       "| 5.0    | 3.6    | 1.4    | 0.2    | setosa | \n",
       "| 5.4    | 3.9    | 1.7    | 0.4    | setosa | \n",
       "\n",
       "\n"
      ],
      "text/plain": [
       "  Sepal.Length Sepal.Width Petal.Length Petal.Width Species\n",
       "1 5.1          3.5         1.4          0.2         setosa \n",
       "2 4.9          3.0         1.4          0.2         setosa \n",
       "3 4.7          3.2         1.3          0.2         setosa \n",
       "4 4.6          3.1         1.5          0.2         setosa \n",
       "5 5.0          3.6         1.4          0.2         setosa \n",
       "6 5.4          3.9         1.7          0.4         setosa "
      ]
     },
     "metadata": {},
     "output_type": "display_data"
    }
   ],
   "source": [
    "### Filter and select functions\n",
    "install.packages(\"dplyr\")\n",
    "library(dplyr)\n",
    "attach(iris)\n",
    "head(iris)"
   ]
  },
  {
   "cell_type": "code",
   "execution_count": 21,
   "metadata": {},
   "outputs": [
    {
     "data": {
      "text/html": [
       "<table>\n",
       "<thead><tr><th scope=col>Sepal.Length</th><th scope=col>Sepal.Width</th><th scope=col>Petal.Length</th><th scope=col>Petal.Width</th><th scope=col>Species</th></tr></thead>\n",
       "<tbody>\n",
       "\t<tr><td>5.1   </td><td>3.5   </td><td>1.4   </td><td>0.2   </td><td>setosa</td></tr>\n",
       "\t<tr><td>4.9   </td><td>3.0   </td><td>1.4   </td><td>0.2   </td><td>setosa</td></tr>\n",
       "\t<tr><td>4.7   </td><td>3.2   </td><td>1.3   </td><td>0.2   </td><td>setosa</td></tr>\n",
       "\t<tr><td>4.6   </td><td>3.1   </td><td>1.5   </td><td>0.2   </td><td>setosa</td></tr>\n",
       "\t<tr><td>5.0   </td><td>3.6   </td><td>1.4   </td><td>0.2   </td><td>setosa</td></tr>\n",
       "\t<tr><td>5.4   </td><td>3.9   </td><td>1.7   </td><td>0.4   </td><td>setosa</td></tr>\n",
       "</tbody>\n",
       "</table>\n"
      ],
      "text/latex": [
       "\\begin{tabular}{r|lllll}\n",
       " Sepal.Length & Sepal.Width & Petal.Length & Petal.Width & Species\\\\\n",
       "\\hline\n",
       "\t 5.1    & 3.5    & 1.4    & 0.2    & setosa\\\\\n",
       "\t 4.9    & 3.0    & 1.4    & 0.2    & setosa\\\\\n",
       "\t 4.7    & 3.2    & 1.3    & 0.2    & setosa\\\\\n",
       "\t 4.6    & 3.1    & 1.5    & 0.2    & setosa\\\\\n",
       "\t 5.0    & 3.6    & 1.4    & 0.2    & setosa\\\\\n",
       "\t 5.4    & 3.9    & 1.7    & 0.4    & setosa\\\\\n",
       "\\end{tabular}\n"
      ],
      "text/markdown": [
       "\n",
       "Sepal.Length | Sepal.Width | Petal.Length | Petal.Width | Species | \n",
       "|---|---|---|---|---|---|\n",
       "| 5.1    | 3.5    | 1.4    | 0.2    | setosa | \n",
       "| 4.9    | 3.0    | 1.4    | 0.2    | setosa | \n",
       "| 4.7    | 3.2    | 1.3    | 0.2    | setosa | \n",
       "| 4.6    | 3.1    | 1.5    | 0.2    | setosa | \n",
       "| 5.0    | 3.6    | 1.4    | 0.2    | setosa | \n",
       "| 5.4    | 3.9    | 1.7    | 0.4    | setosa | \n",
       "\n",
       "\n"
      ],
      "text/plain": [
       "  Sepal.Length Sepal.Width Petal.Length Petal.Width Species\n",
       "1 5.1          3.5         1.4          0.2         setosa \n",
       "2 4.9          3.0         1.4          0.2         setosa \n",
       "3 4.7          3.2         1.3          0.2         setosa \n",
       "4 4.6          3.1         1.5          0.2         setosa \n",
       "5 5.0          3.6         1.4          0.2         setosa \n",
       "6 5.4          3.9         1.7          0.4         setosa "
      ]
     },
     "metadata": {},
     "output_type": "display_data"
    }
   ],
   "source": [
    "head(filter(iris,Sepal.Length>4.5))"
   ]
  },
  {
   "cell_type": "code",
   "execution_count": 22,
   "metadata": {},
   "outputs": [
    {
     "data": {
      "text/html": [
       "<table>\n",
       "<thead><tr><th scope=col>Petal.Width</th><th scope=col>Species</th></tr></thead>\n",
       "<tbody>\n",
       "\t<tr><td>0.2   </td><td>setosa</td></tr>\n",
       "\t<tr><td>0.2   </td><td>setosa</td></tr>\n",
       "\t<tr><td>0.2   </td><td>setosa</td></tr>\n",
       "\t<tr><td>0.2   </td><td>setosa</td></tr>\n",
       "\t<tr><td>0.2   </td><td>setosa</td></tr>\n",
       "\t<tr><td>0.4   </td><td>setosa</td></tr>\n",
       "</tbody>\n",
       "</table>\n"
      ],
      "text/latex": [
       "\\begin{tabular}{r|ll}\n",
       " Petal.Width & Species\\\\\n",
       "\\hline\n",
       "\t 0.2    & setosa\\\\\n",
       "\t 0.2    & setosa\\\\\n",
       "\t 0.2    & setosa\\\\\n",
       "\t 0.2    & setosa\\\\\n",
       "\t 0.2    & setosa\\\\\n",
       "\t 0.4    & setosa\\\\\n",
       "\\end{tabular}\n"
      ],
      "text/markdown": [
       "\n",
       "Petal.Width | Species | \n",
       "|---|---|---|---|---|---|\n",
       "| 0.2    | setosa | \n",
       "| 0.2    | setosa | \n",
       "| 0.2    | setosa | \n",
       "| 0.2    | setosa | \n",
       "| 0.2    | setosa | \n",
       "| 0.4    | setosa | \n",
       "\n",
       "\n"
      ],
      "text/plain": [
       "  Petal.Width Species\n",
       "1 0.2         setosa \n",
       "2 0.2         setosa \n",
       "3 0.2         setosa \n",
       "4 0.2         setosa \n",
       "5 0.2         setosa \n",
       "6 0.4         setosa "
      ]
     },
     "metadata": {},
     "output_type": "display_data"
    }
   ],
   "source": [
    "head(select(iris, Petal.Width, Species))"
   ]
  },
  {
   "cell_type": "code",
   "execution_count": 23,
   "metadata": {},
   "outputs": [
    {
     "data": {
      "text/html": [
       "<table>\n",
       "<thead><tr><th scope=col>Petal.Width</th><th scope=col>Species</th></tr></thead>\n",
       "<tbody>\n",
       "\t<tr><td>0.2   </td><td>setosa</td></tr>\n",
       "\t<tr><td>0.2   </td><td>setosa</td></tr>\n",
       "\t<tr><td>0.2   </td><td>setosa</td></tr>\n",
       "\t<tr><td>0.2   </td><td>setosa</td></tr>\n",
       "\t<tr><td>0.2   </td><td>setosa</td></tr>\n",
       "\t<tr><td>0.4   </td><td>setosa</td></tr>\n",
       "</tbody>\n",
       "</table>\n"
      ],
      "text/latex": [
       "\\begin{tabular}{r|ll}\n",
       " Petal.Width & Species\\\\\n",
       "\\hline\n",
       "\t 0.2    & setosa\\\\\n",
       "\t 0.2    & setosa\\\\\n",
       "\t 0.2    & setosa\\\\\n",
       "\t 0.2    & setosa\\\\\n",
       "\t 0.2    & setosa\\\\\n",
       "\t 0.4    & setosa\\\\\n",
       "\\end{tabular}\n"
      ],
      "text/markdown": [
       "\n",
       "Petal.Width | Species | \n",
       "|---|---|---|---|---|---|\n",
       "| 0.2    | setosa | \n",
       "| 0.2    | setosa | \n",
       "| 0.2    | setosa | \n",
       "| 0.2    | setosa | \n",
       "| 0.2    | setosa | \n",
       "| 0.4    | setosa | \n",
       "\n",
       "\n"
      ],
      "text/plain": [
       "  Petal.Width Species\n",
       "1 0.2         setosa \n",
       "2 0.2         setosa \n",
       "3 0.2         setosa \n",
       "4 0.2         setosa \n",
       "5 0.2         setosa \n",
       "6 0.4         setosa "
      ]
     },
     "metadata": {},
     "output_type": "display_data"
    }
   ],
   "source": [
    "### Chaining operation\n",
    "head(iris %>% filter(Sepal.Length>4.5) %>% select(Petal.Width, Species))"
   ]
  }
 ],
 "metadata": {
  "kernelspec": {
   "display_name": "R",
   "language": "R",
   "name": "ir"
  },
  "language_info": {
   "codemirror_mode": "r",
   "file_extension": ".r",
   "mimetype": "text/x-r-source",
   "name": "R",
   "pygments_lexer": "r",
   "version": "3.3.2"
  }
 },
 "nbformat": 4,
 "nbformat_minor": 2
}
