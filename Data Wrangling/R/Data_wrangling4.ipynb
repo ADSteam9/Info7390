{
 "cells": [
  {
   "cell_type": "code",
   "execution_count": 1,
   "metadata": {},
   "outputs": [
    {
     "data": {
      "text/html": [
       "<table>\n",
       "<thead><tr><th scope=col>x1</th></tr></thead>\n",
       "<tbody>\n",
       "\t<tr><td>NaN</td></tr>\n",
       "\t<tr><td>2.5</td></tr>\n",
       "\t<tr><td>NaN</td></tr>\n",
       "\t<tr><td>3.5</td></tr>\n",
       "\t<tr><td>4.5</td></tr>\n",
       "\t<tr><td>NaN</td></tr>\n",
       "</tbody>\n",
       "</table>\n"
      ],
      "text/latex": [
       "\\begin{tabular}{r|l}\n",
       " x1\\\\\n",
       "\\hline\n",
       "\t NaN\\\\\n",
       "\t 2.5\\\\\n",
       "\t NaN\\\\\n",
       "\t 3.5\\\\\n",
       "\t 4.5\\\\\n",
       "\t NaN\\\\\n",
       "\\end{tabular}\n"
      ],
      "text/markdown": [
       "\n",
       "x1 | \n",
       "|---|---|---|---|---|---|\n",
       "| NaN | \n",
       "| 2.5 | \n",
       "| NaN | \n",
       "| 3.5 | \n",
       "| 4.5 | \n",
       "| NaN | \n",
       "\n",
       "\n"
      ],
      "text/plain": [
       "  x1 \n",
       "1 NaN\n",
       "2 2.5\n",
       "3 NaN\n",
       "4 3.5\n",
       "5 4.5\n",
       "6 NaN"
      ]
     },
     "metadata": {},
     "output_type": "display_data"
    }
   ],
   "source": [
    "### Mapping missing values of data frame with values of another data frame\n",
    "### having same index\n",
    "x <- data.frame(x1=c(NaN,2.5,NaN,3.5,4.5,NaN))\n",
    "y <- data.frame(y1=c(1,2,3,4,5,6))\n",
    "x"
   ]
  },
  {
   "cell_type": "code",
   "execution_count": 2,
   "metadata": {},
   "outputs": [
    {
     "data": {
      "text/html": [
       "<table>\n",
       "<thead><tr><th scope=col>y1</th></tr></thead>\n",
       "<tbody>\n",
       "\t<tr><td>1</td></tr>\n",
       "\t<tr><td>2</td></tr>\n",
       "\t<tr><td>3</td></tr>\n",
       "\t<tr><td>4</td></tr>\n",
       "\t<tr><td>5</td></tr>\n",
       "\t<tr><td>6</td></tr>\n",
       "</tbody>\n",
       "</table>\n"
      ],
      "text/latex": [
       "\\begin{tabular}{r|l}\n",
       " y1\\\\\n",
       "\\hline\n",
       "\t 1\\\\\n",
       "\t 2\\\\\n",
       "\t 3\\\\\n",
       "\t 4\\\\\n",
       "\t 5\\\\\n",
       "\t 6\\\\\n",
       "\\end{tabular}\n"
      ],
      "text/markdown": [
       "\n",
       "y1 | \n",
       "|---|---|---|---|---|---|\n",
       "| 1 | \n",
       "| 2 | \n",
       "| 3 | \n",
       "| 4 | \n",
       "| 5 | \n",
       "| 6 | \n",
       "\n",
       "\n"
      ],
      "text/plain": [
       "  y1\n",
       "1 1 \n",
       "2 2 \n",
       "3 3 \n",
       "4 4 \n",
       "5 5 \n",
       "6 6 "
      ]
     },
     "metadata": {},
     "output_type": "display_data"
    }
   ],
   "source": [
    "y"
   ]
  },
  {
   "cell_type": "code",
   "execution_count": 3,
   "metadata": {},
   "outputs": [
    {
     "data": {
      "text/html": [
       "<table>\n",
       "<thead><tr><th scope=col>x1</th></tr></thead>\n",
       "<tbody>\n",
       "\t<tr><td>1.0</td></tr>\n",
       "\t<tr><td>2.5</td></tr>\n",
       "\t<tr><td>3.0</td></tr>\n",
       "\t<tr><td>3.5</td></tr>\n",
       "\t<tr><td>4.5</td></tr>\n",
       "\t<tr><td>6.0</td></tr>\n",
       "</tbody>\n",
       "</table>\n"
      ],
      "text/latex": [
       "\\begin{tabular}{r|l}\n",
       " x1\\\\\n",
       "\\hline\n",
       "\t 1.0\\\\\n",
       "\t 2.5\\\\\n",
       "\t 3.0\\\\\n",
       "\t 3.5\\\\\n",
       "\t 4.5\\\\\n",
       "\t 6.0\\\\\n",
       "\\end{tabular}\n"
      ],
      "text/markdown": [
       "\n",
       "x1 | \n",
       "|---|---|---|---|---|---|\n",
       "| 1.0 | \n",
       "| 2.5 | \n",
       "| 3.0 | \n",
       "| 3.5 | \n",
       "| 4.5 | \n",
       "| 6.0 | \n",
       "\n",
       "\n"
      ],
      "text/plain": [
       "  x1 \n",
       "1 1.0\n",
       "2 2.5\n",
       "3 3.0\n",
       "4 3.5\n",
       "5 4.5\n",
       "6 6.0"
      ]
     },
     "metadata": {},
     "output_type": "display_data"
    }
   ],
   "source": [
    "### Replacing missing values of x1 column with y1 column\n",
    "\n",
    "for (i in 1:nrow(x)) {\n",
    "  if (is.na(x[i,1])){\n",
    "    x[i,1] <- y[i,1] \n",
    "}}\n",
    "x"
   ]
  }
 ],
 "metadata": {
  "kernelspec": {
   "display_name": "R",
   "language": "R",
   "name": "ir"
  },
  "language_info": {
   "codemirror_mode": "r",
   "file_extension": ".r",
   "mimetype": "text/x-r-source",
   "name": "R",
   "pygments_lexer": "r",
   "version": "3.3.2"
  }
 },
 "nbformat": 4,
 "nbformat_minor": 2
}
