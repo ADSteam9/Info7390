{
 "cells": [
  {
   "cell_type": "code",
   "execution_count": 1,
   "metadata": {},
   "outputs": [
    {
     "data": {
      "text/html": [
       "<table>\n",
       "<thead><tr><th scope=col>x</th><th scope=col>y</th></tr></thead>\n",
       "<tbody>\n",
       "\t<tr><td>  1</td><td>  4</td></tr>\n",
       "\t<tr><td>  2</td><td>NaN</td></tr>\n",
       "\t<tr><td>NaN</td><td>  3</td></tr>\n",
       "\t<tr><td>  5</td><td>  7</td></tr>\n",
       "</tbody>\n",
       "</table>\n"
      ],
      "text/latex": [
       "\\begin{tabular}{r|ll}\n",
       " x & y\\\\\n",
       "\\hline\n",
       "\t   1 &   4\\\\\n",
       "\t   2 & NaN\\\\\n",
       "\t NaN &   3\\\\\n",
       "\t   5 &   7\\\\\n",
       "\\end{tabular}\n"
      ],
      "text/markdown": [
       "\n",
       "x | y | \n",
       "|---|---|---|---|\n",
       "|   1 |   4 | \n",
       "|   2 | NaN | \n",
       "| NaN |   3 | \n",
       "|   5 |   7 | \n",
       "\n",
       "\n"
      ],
      "text/plain": [
       "  x   y  \n",
       "1   1   4\n",
       "2   2 NaN\n",
       "3 NaN   3\n",
       "4   5   7"
      ]
     },
     "metadata": {},
     "output_type": "display_data"
    }
   ],
   "source": [
    "### Replacing missing values with zero\n",
    "data <- data.frame(x=c(1,2,NaN,5),y=c(4,NaN,3,7))\n",
    "data"
   ]
  },
  {
   "cell_type": "code",
   "execution_count": 2,
   "metadata": {},
   "outputs": [
    {
     "data": {
      "text/html": [
       "<table>\n",
       "<thead><tr><th scope=col>x</th><th scope=col>y</th></tr></thead>\n",
       "<tbody>\n",
       "\t<tr><td>1</td><td>4</td></tr>\n",
       "\t<tr><td>2</td><td>0</td></tr>\n",
       "\t<tr><td>0</td><td>3</td></tr>\n",
       "\t<tr><td>5</td><td>7</td></tr>\n",
       "</tbody>\n",
       "</table>\n"
      ],
      "text/latex": [
       "\\begin{tabular}{r|ll}\n",
       " x & y\\\\\n",
       "\\hline\n",
       "\t 1 & 4\\\\\n",
       "\t 2 & 0\\\\\n",
       "\t 0 & 3\\\\\n",
       "\t 5 & 7\\\\\n",
       "\\end{tabular}\n"
      ],
      "text/markdown": [
       "\n",
       "x | y | \n",
       "|---|---|---|---|\n",
       "| 1 | 4 | \n",
       "| 2 | 0 | \n",
       "| 0 | 3 | \n",
       "| 5 | 7 | \n",
       "\n",
       "\n"
      ],
      "text/plain": [
       "  x y\n",
       "1 1 4\n",
       "2 2 0\n",
       "3 0 3\n",
       "4 5 7"
      ]
     },
     "metadata": {},
     "output_type": "display_data"
    }
   ],
   "source": [
    "for(i in 1:ncol(data)){\n",
    "  data[is.na(data[,i]), i] <- 0\n",
    "}\n",
    "data"
   ]
  },
  {
   "cell_type": "code",
   "execution_count": 4,
   "metadata": {},
   "outputs": [
    {
     "data": {
      "text/html": [
       "<table>\n",
       "<thead><tr><th scope=col>x</th><th scope=col>y</th></tr></thead>\n",
       "<tbody>\n",
       "\t<tr><td>2.5</td><td>4.0</td></tr>\n",
       "\t<tr><td>2.0</td><td>3.5</td></tr>\n",
       "\t<tr><td>2.0</td><td>3.0</td></tr>\n",
       "\t<tr><td>5.0</td><td>7.0</td></tr>\n",
       "</tbody>\n",
       "</table>\n"
      ],
      "text/latex": [
       "\\begin{tabular}{r|ll}\n",
       " x & y\\\\\n",
       "\\hline\n",
       "\t 2.5 & 4.0\\\\\n",
       "\t 2.0 & 3.5\\\\\n",
       "\t 2.0 & 3.0\\\\\n",
       "\t 5.0 & 7.0\\\\\n",
       "\\end{tabular}\n"
      ],
      "text/markdown": [
       "\n",
       "x | y | \n",
       "|---|---|---|---|\n",
       "| 2.5 | 4.0 | \n",
       "| 2.0 | 3.5 | \n",
       "| 2.0 | 3.0 | \n",
       "| 5.0 | 7.0 | \n",
       "\n",
       "\n"
      ],
      "text/plain": [
       "  x   y  \n",
       "1 2.5 4.0\n",
       "2 2.0 3.5\n",
       "3 2.0 3.0\n",
       "4 5.0 7.0"
      ]
     },
     "metadata": {},
     "output_type": "display_data"
    }
   ],
   "source": [
    "for(j in 1:ncol(data)){\n",
    "    for (i in 1:nrow(data)){\n",
    "         if ((data[i,j] < 0.5*mean(data[[j]]))|(data[i,j] > 2*mean(data[[j]]))) \n",
    "         {\n",
    "             data[i,j]<-mean(data[[j]])\n",
    "         }\n",
    "    }\n",
    "}\n",
    "data          "
   ]
  }
 ],
 "metadata": {
  "kernelspec": {
   "display_name": "R",
   "language": "R",
   "name": "ir"
  },
  "language_info": {
   "codemirror_mode": "r",
   "file_extension": ".r",
   "mimetype": "text/x-r-source",
   "name": "R",
   "pygments_lexer": "r",
   "version": "3.3.2"
  }
 },
 "nbformat": 4,
 "nbformat_minor": 2
}
