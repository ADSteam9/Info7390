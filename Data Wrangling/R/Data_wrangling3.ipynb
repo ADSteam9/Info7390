{
 "cells": [
  {
   "cell_type": "code",
   "execution_count": 1,
   "metadata": {},
   "outputs": [
    {
     "data": {
      "text/html": [
       "<table>\n",
       "<tbody>\n",
       "\t<tr><td>1</td><td>1</td></tr>\n",
       "\t<tr><td>1</td><td>2</td></tr>\n",
       "\t<tr><td>1</td><td>3</td></tr>\n",
       "\t<tr><td>1</td><td>4</td></tr>\n",
       "\t<tr><td>1</td><td>5</td></tr>\n",
       "\t<tr><td>1</td><td>6</td></tr>\n",
       "\t<tr><td>1</td><td>7</td></tr>\n",
       "</tbody>\n",
       "</table>\n"
      ],
      "text/latex": [
       "\\begin{tabular}{ll}\n",
       "\t 1 & 1\\\\\n",
       "\t 1 & 2\\\\\n",
       "\t 1 & 3\\\\\n",
       "\t 1 & 4\\\\\n",
       "\t 1 & 5\\\\\n",
       "\t 1 & 6\\\\\n",
       "\t 1 & 7\\\\\n",
       "\\end{tabular}\n"
      ],
      "text/markdown": [
       "\n",
       "| 1 | 1 | \n",
       "| 1 | 2 | \n",
       "| 1 | 3 | \n",
       "| 1 | 4 | \n",
       "| 1 | 5 | \n",
       "| 1 | 6 | \n",
       "| 1 | 7 | \n",
       "\n",
       "\n"
      ],
      "text/plain": [
       "     [,1] [,2]\n",
       "[1,] 1    1   \n",
       "[2,] 1    2   \n",
       "[3,] 1    3   \n",
       "[4,] 1    4   \n",
       "[5,] 1    5   \n",
       "[6,] 1    6   \n",
       "[7,] 1    7   "
      ]
     },
     "metadata": {},
     "output_type": "display_data"
    }
   ],
   "source": [
    "### Combining two data frames (column wise)\n",
    "set.seed(1)\n",
    "m <- cbind(1, 1:7) \n",
    "m"
   ]
  },
  {
   "cell_type": "code",
   "execution_count": 2,
   "metadata": {},
   "outputs": [
    {
     "data": {
      "text/html": [
       "<table>\n",
       "<tbody>\n",
       "\t<tr><td>1 </td><td>1 </td><td> 8</td></tr>\n",
       "\t<tr><td>1 </td><td>2 </td><td> 9</td></tr>\n",
       "\t<tr><td>1 </td><td>3 </td><td>10</td></tr>\n",
       "\t<tr><td>1 </td><td>4 </td><td>11</td></tr>\n",
       "\t<tr><td>1 </td><td>5 </td><td>12</td></tr>\n",
       "\t<tr><td>1 </td><td>6 </td><td>13</td></tr>\n",
       "\t<tr><td>1 </td><td>7 </td><td>14</td></tr>\n",
       "</tbody>\n",
       "</table>\n"
      ],
      "text/latex": [
       "\\begin{tabular}{lll}\n",
       "\t 1  & 1  &  8\\\\\n",
       "\t 1  & 2  &  9\\\\\n",
       "\t 1  & 3  & 10\\\\\n",
       "\t 1  & 4  & 11\\\\\n",
       "\t 1  & 5  & 12\\\\\n",
       "\t 1  & 6  & 13\\\\\n",
       "\t 1  & 7  & 14\\\\\n",
       "\\end{tabular}\n"
      ],
      "text/markdown": [
       "\n",
       "| 1  | 1  |  8 | \n",
       "| 1  | 2  |  9 | \n",
       "| 1  | 3  | 10 | \n",
       "| 1  | 4  | 11 | \n",
       "| 1  | 5  | 12 | \n",
       "| 1  | 6  | 13 | \n",
       "| 1  | 7  | 14 | \n",
       "\n",
       "\n"
      ],
      "text/plain": [
       "     [,1] [,2] [,3]\n",
       "[1,] 1    1     8  \n",
       "[2,] 1    2     9  \n",
       "[3,] 1    3    10  \n",
       "[4,] 1    4    11  \n",
       "[5,] 1    5    12  \n",
       "[6,] 1    6    13  \n",
       "[7,] 1    7    14  "
      ]
     },
     "metadata": {},
     "output_type": "display_data"
    }
   ],
   "source": [
    "m <- cbind(m, 8:14)[, c(1, 2, 3)]\n",
    "m"
   ]
  },
  {
   "cell_type": "code",
   "execution_count": 3,
   "metadata": {},
   "outputs": [
    {
     "data": {
      "text/html": [
       "<table>\n",
       "<thead><tr><th scope=col>x</th><th scope=col>y1</th></tr></thead>\n",
       "<tbody>\n",
       "\t<tr><td>1         </td><td>-0.6264538</td></tr>\n",
       "\t<tr><td>2         </td><td> 0.1836433</td></tr>\n",
       "\t<tr><td>3         </td><td>-0.8356286</td></tr>\n",
       "\t<tr><td>4         </td><td> 1.5952808</td></tr>\n",
       "\t<tr><td>5         </td><td> 0.3295078</td></tr>\n",
       "</tbody>\n",
       "</table>\n"
      ],
      "text/latex": [
       "\\begin{tabular}{r|ll}\n",
       " x & y1\\\\\n",
       "\\hline\n",
       "\t 1          & -0.6264538\\\\\n",
       "\t 2          &  0.1836433\\\\\n",
       "\t 3          & -0.8356286\\\\\n",
       "\t 4          &  1.5952808\\\\\n",
       "\t 5          &  0.3295078\\\\\n",
       "\\end{tabular}\n"
      ],
      "text/markdown": [
       "\n",
       "x | y1 | \n",
       "|---|---|---|---|---|\n",
       "| 1          | -0.6264538 | \n",
       "| 2          |  0.1836433 | \n",
       "| 3          | -0.8356286 | \n",
       "| 4          |  1.5952808 | \n",
       "| 5          |  0.3295078 | \n",
       "\n",
       "\n"
      ],
      "text/plain": [
       "  x y1        \n",
       "1 1 -0.6264538\n",
       "2 2  0.1836433\n",
       "3 3 -0.8356286\n",
       "4 4  1.5952808\n",
       "5 5  0.3295078"
      ]
     },
     "metadata": {},
     "output_type": "display_data"
    }
   ],
   "source": [
    "d1 <- data.frame(x=1:5, y1=rnorm(5))\n",
    "d2 <- data.frame(x=2:6, y2=rnorm(5))\n",
    "d1"
   ]
  },
  {
   "cell_type": "code",
   "execution_count": 4,
   "metadata": {},
   "outputs": [
    {
     "data": {
      "text/html": [
       "<table>\n",
       "<thead><tr><th scope=col>x</th><th scope=col>y2</th></tr></thead>\n",
       "<tbody>\n",
       "\t<tr><td>2         </td><td>-0.8204684</td></tr>\n",
       "\t<tr><td>3         </td><td> 0.4874291</td></tr>\n",
       "\t<tr><td>4         </td><td> 0.7383247</td></tr>\n",
       "\t<tr><td>5         </td><td> 0.5757814</td></tr>\n",
       "\t<tr><td>6         </td><td>-0.3053884</td></tr>\n",
       "</tbody>\n",
       "</table>\n"
      ],
      "text/latex": [
       "\\begin{tabular}{r|ll}\n",
       " x & y2\\\\\n",
       "\\hline\n",
       "\t 2          & -0.8204684\\\\\n",
       "\t 3          &  0.4874291\\\\\n",
       "\t 4          &  0.7383247\\\\\n",
       "\t 5          &  0.5757814\\\\\n",
       "\t 6          & -0.3053884\\\\\n",
       "\\end{tabular}\n"
      ],
      "text/markdown": [
       "\n",
       "x | y2 | \n",
       "|---|---|---|---|---|\n",
       "| 2          | -0.8204684 | \n",
       "| 3          |  0.4874291 | \n",
       "| 4          |  0.7383247 | \n",
       "| 5          |  0.5757814 | \n",
       "| 6          | -0.3053884 | \n",
       "\n",
       "\n"
      ],
      "text/plain": [
       "  x y2        \n",
       "1 2 -0.8204684\n",
       "2 3  0.4874291\n",
       "3 4  0.7383247\n",
       "4 5  0.5757814\n",
       "5 6 -0.3053884"
      ]
     },
     "metadata": {},
     "output_type": "display_data"
    }
   ],
   "source": [
    "d2"
   ]
  },
  {
   "cell_type": "code",
   "execution_count": 5,
   "metadata": {},
   "outputs": [
    {
     "data": {
      "text/html": [
       "<table>\n",
       "<thead><tr><th scope=col>x</th><th scope=col>y1</th><th scope=col>x</th><th scope=col>y2</th></tr></thead>\n",
       "<tbody>\n",
       "\t<tr><td>1         </td><td>-0.6264538</td><td>2         </td><td>-0.8204684</td></tr>\n",
       "\t<tr><td>2         </td><td> 0.1836433</td><td>3         </td><td> 0.4874291</td></tr>\n",
       "\t<tr><td>3         </td><td>-0.8356286</td><td>4         </td><td> 0.7383247</td></tr>\n",
       "\t<tr><td>4         </td><td> 1.5952808</td><td>5         </td><td> 0.5757814</td></tr>\n",
       "\t<tr><td>5         </td><td> 0.3295078</td><td>6         </td><td>-0.3053884</td></tr>\n",
       "</tbody>\n",
       "</table>\n"
      ],
      "text/latex": [
       "\\begin{tabular}{r|llll}\n",
       " x & y1 & x & y2\\\\\n",
       "\\hline\n",
       "\t 1          & -0.6264538 & 2          & -0.8204684\\\\\n",
       "\t 2          &  0.1836433 & 3          &  0.4874291\\\\\n",
       "\t 3          & -0.8356286 & 4          &  0.7383247\\\\\n",
       "\t 4          &  1.5952808 & 5          &  0.5757814\\\\\n",
       "\t 5          &  0.3295078 & 6          & -0.3053884\\\\\n",
       "\\end{tabular}\n"
      ],
      "text/markdown": [
       "\n",
       "x | y1 | x | y2 | \n",
       "|---|---|---|---|---|\n",
       "| 1          | -0.6264538 | 2          | -0.8204684 | \n",
       "| 2          |  0.1836433 | 3          |  0.4874291 | \n",
       "| 3          | -0.8356286 | 4          |  0.7383247 | \n",
       "| 4          |  1.5952808 | 5          |  0.5757814 | \n",
       "| 5          |  0.3295078 | 6          | -0.3053884 | \n",
       "\n",
       "\n"
      ],
      "text/plain": [
       "  x y1         x y2        \n",
       "1 1 -0.6264538 2 -0.8204684\n",
       "2 2  0.1836433 3  0.4874291\n",
       "3 3 -0.8356286 4  0.7383247\n",
       "4 4  1.5952808 5  0.5757814\n",
       "5 5  0.3295078 6 -0.3053884"
      ]
     },
     "metadata": {},
     "output_type": "display_data"
    }
   ],
   "source": [
    "cbind(d1,d2)"
   ]
  },
  {
   "cell_type": "code",
   "execution_count": 6,
   "metadata": {},
   "outputs": [
    {
     "data": {
      "text/html": [
       "<table>\n",
       "<tbody>\n",
       "\t<tr><td>1</td><td>1</td><td>1</td><td>1</td><td>1</td><td>1</td><td>1</td></tr>\n",
       "\t<tr><td>1</td><td>2</td><td>3</td><td>4</td><td>5</td><td>6</td><td>7</td></tr>\n",
       "</tbody>\n",
       "</table>\n"
      ],
      "text/latex": [
       "\\begin{tabular}{lllllll}\n",
       "\t 1 & 1 & 1 & 1 & 1 & 1 & 1\\\\\n",
       "\t 1 & 2 & 3 & 4 & 5 & 6 & 7\\\\\n",
       "\\end{tabular}\n"
      ],
      "text/markdown": [
       "\n",
       "| 1 | 1 | 1 | 1 | 1 | 1 | 1 | \n",
       "| 1 | 2 | 3 | 4 | 5 | 6 | 7 | \n",
       "\n",
       "\n"
      ],
      "text/plain": [
       "     [,1] [,2] [,3] [,4] [,5] [,6] [,7]\n",
       "[1,] 1    1    1    1    1    1    1   \n",
       "[2,] 1    2    3    4    5    6    7   "
      ]
     },
     "metadata": {},
     "output_type": "display_data"
    }
   ],
   "source": [
    "### Combining two data frames (row wise) \n",
    "set.seed(1)\n",
    "m <- rbind(1, 1:7) \n",
    "m"
   ]
  },
  {
   "cell_type": "code",
   "execution_count": 7,
   "metadata": {},
   "outputs": [
    {
     "data": {
      "text/html": [
       "<table>\n",
       "<tbody>\n",
       "\t<tr><td>1 </td><td>1 </td><td> 1</td><td> 1</td><td> 1</td><td> 1</td><td> 1</td></tr>\n",
       "\t<tr><td>1 </td><td>2 </td><td> 3</td><td> 4</td><td> 5</td><td> 6</td><td> 7</td></tr>\n",
       "\t<tr><td>8 </td><td>9 </td><td>10</td><td>11</td><td>12</td><td>13</td><td>14</td></tr>\n",
       "</tbody>\n",
       "</table>\n"
      ],
      "text/latex": [
       "\\begin{tabular}{lllllll}\n",
       "\t 1  & 1  &  1 &  1 &  1 &  1 &  1\\\\\n",
       "\t 1  & 2  &  3 &  4 &  5 &  6 &  7\\\\\n",
       "\t 8  & 9  & 10 & 11 & 12 & 13 & 14\\\\\n",
       "\\end{tabular}\n"
      ],
      "text/markdown": [
       "\n",
       "| 1  | 1  |  1 |  1 |  1 |  1 |  1 | \n",
       "| 1  | 2  |  3 |  4 |  5 |  6 |  7 | \n",
       "| 8  | 9  | 10 | 11 | 12 | 13 | 14 | \n",
       "\n",
       "\n"
      ],
      "text/plain": [
       "     [,1] [,2] [,3] [,4] [,5] [,6] [,7]\n",
       "[1,] 1    1     1    1    1    1    1  \n",
       "[2,] 1    2     3    4    5    6    7  \n",
       "[3,] 8    9    10   11   12   13   14  "
      ]
     },
     "metadata": {},
     "output_type": "display_data"
    }
   ],
   "source": [
    "m <- rbind(m, 8:14)[c(1, 2, 3), ]\n",
    "m"
   ]
  },
  {
   "cell_type": "code",
   "execution_count": 8,
   "metadata": {},
   "outputs": [
    {
     "data": {
      "text/html": [
       "<table>\n",
       "<thead><tr><th scope=col>x</th><th scope=col>y1</th></tr></thead>\n",
       "<tbody>\n",
       "\t<tr><td>1         </td><td>-0.6264538</td></tr>\n",
       "\t<tr><td>2         </td><td> 0.1836433</td></tr>\n",
       "\t<tr><td>3         </td><td>-0.8356286</td></tr>\n",
       "\t<tr><td>4         </td><td> 1.5952808</td></tr>\n",
       "\t<tr><td>5         </td><td> 0.3295078</td></tr>\n",
       "</tbody>\n",
       "</table>\n"
      ],
      "text/latex": [
       "\\begin{tabular}{r|ll}\n",
       " x & y1\\\\\n",
       "\\hline\n",
       "\t 1          & -0.6264538\\\\\n",
       "\t 2          &  0.1836433\\\\\n",
       "\t 3          & -0.8356286\\\\\n",
       "\t 4          &  1.5952808\\\\\n",
       "\t 5          &  0.3295078\\\\\n",
       "\\end{tabular}\n"
      ],
      "text/markdown": [
       "\n",
       "x | y1 | \n",
       "|---|---|---|---|---|\n",
       "| 1          | -0.6264538 | \n",
       "| 2          |  0.1836433 | \n",
       "| 3          | -0.8356286 | \n",
       "| 4          |  1.5952808 | \n",
       "| 5          |  0.3295078 | \n",
       "\n",
       "\n"
      ],
      "text/plain": [
       "  x y1        \n",
       "1 1 -0.6264538\n",
       "2 2  0.1836433\n",
       "3 3 -0.8356286\n",
       "4 4  1.5952808\n",
       "5 5  0.3295078"
      ]
     },
     "metadata": {},
     "output_type": "display_data"
    }
   ],
   "source": [
    "d3 <- data.frame(x=1:5, y1=rnorm(5))\n",
    "d4 <- data.frame(x=6:10, y1=rnorm(5))\n",
    "d3"
   ]
  },
  {
   "cell_type": "code",
   "execution_count": 9,
   "metadata": {},
   "outputs": [
    {
     "data": {
      "text/html": [
       "<table>\n",
       "<thead><tr><th scope=col>x</th><th scope=col>y1</th></tr></thead>\n",
       "<tbody>\n",
       "\t<tr><td> 6        </td><td>-0.8204684</td></tr>\n",
       "\t<tr><td> 7        </td><td> 0.4874291</td></tr>\n",
       "\t<tr><td> 8        </td><td> 0.7383247</td></tr>\n",
       "\t<tr><td> 9        </td><td> 0.5757814</td></tr>\n",
       "\t<tr><td>10        </td><td>-0.3053884</td></tr>\n",
       "</tbody>\n",
       "</table>\n"
      ],
      "text/latex": [
       "\\begin{tabular}{r|ll}\n",
       " x & y1\\\\\n",
       "\\hline\n",
       "\t  6         & -0.8204684\\\\\n",
       "\t  7         &  0.4874291\\\\\n",
       "\t  8         &  0.7383247\\\\\n",
       "\t  9         &  0.5757814\\\\\n",
       "\t 10         & -0.3053884\\\\\n",
       "\\end{tabular}\n"
      ],
      "text/markdown": [
       "\n",
       "x | y1 | \n",
       "|---|---|---|---|---|\n",
       "|  6         | -0.8204684 | \n",
       "|  7         |  0.4874291 | \n",
       "|  8         |  0.7383247 | \n",
       "|  9         |  0.5757814 | \n",
       "| 10         | -0.3053884 | \n",
       "\n",
       "\n"
      ],
      "text/plain": [
       "  x  y1        \n",
       "1  6 -0.8204684\n",
       "2  7  0.4874291\n",
       "3  8  0.7383247\n",
       "4  9  0.5757814\n",
       "5 10 -0.3053884"
      ]
     },
     "metadata": {},
     "output_type": "display_data"
    }
   ],
   "source": [
    "d4"
   ]
  },
  {
   "cell_type": "code",
   "execution_count": 10,
   "metadata": {},
   "outputs": [
    {
     "data": {
      "text/html": [
       "<table>\n",
       "<thead><tr><th scope=col>x</th><th scope=col>y1</th></tr></thead>\n",
       "<tbody>\n",
       "\t<tr><td> 1        </td><td>-0.6264538</td></tr>\n",
       "\t<tr><td> 2        </td><td> 0.1836433</td></tr>\n",
       "\t<tr><td> 3        </td><td>-0.8356286</td></tr>\n",
       "\t<tr><td> 4        </td><td> 1.5952808</td></tr>\n",
       "\t<tr><td> 5        </td><td> 0.3295078</td></tr>\n",
       "\t<tr><td> 6        </td><td>-0.8204684</td></tr>\n",
       "\t<tr><td> 7        </td><td> 0.4874291</td></tr>\n",
       "\t<tr><td> 8        </td><td> 0.7383247</td></tr>\n",
       "\t<tr><td> 9        </td><td> 0.5757814</td></tr>\n",
       "\t<tr><td>10        </td><td>-0.3053884</td></tr>\n",
       "</tbody>\n",
       "</table>\n"
      ],
      "text/latex": [
       "\\begin{tabular}{r|ll}\n",
       " x & y1\\\\\n",
       "\\hline\n",
       "\t  1         & -0.6264538\\\\\n",
       "\t  2         &  0.1836433\\\\\n",
       "\t  3         & -0.8356286\\\\\n",
       "\t  4         &  1.5952808\\\\\n",
       "\t  5         &  0.3295078\\\\\n",
       "\t  6         & -0.8204684\\\\\n",
       "\t  7         &  0.4874291\\\\\n",
       "\t  8         &  0.7383247\\\\\n",
       "\t  9         &  0.5757814\\\\\n",
       "\t 10         & -0.3053884\\\\\n",
       "\\end{tabular}\n"
      ],
      "text/markdown": [
       "\n",
       "x | y1 | \n",
       "|---|---|---|---|---|---|---|---|---|---|\n",
       "|  1         | -0.6264538 | \n",
       "|  2         |  0.1836433 | \n",
       "|  3         | -0.8356286 | \n",
       "|  4         |  1.5952808 | \n",
       "|  5         |  0.3295078 | \n",
       "|  6         | -0.8204684 | \n",
       "|  7         |  0.4874291 | \n",
       "|  8         |  0.7383247 | \n",
       "|  9         |  0.5757814 | \n",
       "| 10         | -0.3053884 | \n",
       "\n",
       "\n"
      ],
      "text/plain": [
       "   x  y1        \n",
       "1   1 -0.6264538\n",
       "2   2  0.1836433\n",
       "3   3 -0.8356286\n",
       "4   4  1.5952808\n",
       "5   5  0.3295078\n",
       "6   6 -0.8204684\n",
       "7   7  0.4874291\n",
       "8   8  0.7383247\n",
       "9   9  0.5757814\n",
       "10 10 -0.3053884"
      ]
     },
     "metadata": {},
     "output_type": "display_data"
    }
   ],
   "source": [
    "rbind(d3,d4)"
   ]
  }
 ],
 "metadata": {
  "kernelspec": {
   "display_name": "R",
   "language": "R",
   "name": "ir"
  },
  "language_info": {
   "codemirror_mode": "r",
   "file_extension": ".r",
   "mimetype": "text/x-r-source",
   "name": "R",
   "pygments_lexer": "r",
   "version": "3.3.2"
  }
 },
 "nbformat": 4,
 "nbformat_minor": 2
}
