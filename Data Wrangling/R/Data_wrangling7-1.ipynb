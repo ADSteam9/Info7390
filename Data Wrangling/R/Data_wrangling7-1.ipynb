{
 "cells": [
  {
   "cell_type": "code",
   "execution_count": 1,
   "metadata": {},
   "outputs": [
    {
     "data": {
      "text/html": [
       "<table>\n",
       "<thead><tr><th scope=col>animal</th><th scope=col>meat</th></tr></thead>\n",
       "<tbody>\n",
       "\t<tr><td>pig     </td><td>bacon   </td></tr>\n",
       "\t<tr><td>cow     </td><td>beef    </td></tr>\n",
       "\t<tr><td>salmon  </td><td>Nova lox</td></tr>\n",
       "</tbody>\n",
       "</table>\n"
      ],
      "text/latex": [
       "\\begin{tabular}{r|ll}\n",
       " animal & meat\\\\\n",
       "\\hline\n",
       "\t pig      & bacon   \\\\\n",
       "\t cow      & beef    \\\\\n",
       "\t salmon   & Nova lox\\\\\n",
       "\\end{tabular}\n"
      ],
      "text/markdown": [
       "\n",
       "animal | meat | \n",
       "|---|---|---|\n",
       "| pig      | bacon    | \n",
       "| cow      | beef     | \n",
       "| salmon   | Nova lox | \n",
       "\n",
       "\n"
      ],
      "text/plain": [
       "  animal meat    \n",
       "1 pig    bacon   \n",
       "2 cow    beef    \n",
       "3 salmon Nova lox"
      ]
     },
     "metadata": {},
     "output_type": "display_data"
    }
   ],
   "source": [
    "### Mapping values\n",
    "### Defining some dictionary\n",
    "dict<-data.frame(animal=c('pig','cow','salmon'),meat=c('bacon','beef','Nova lox'))\n",
    "dict"
   ]
  },
  {
   "cell_type": "code",
   "execution_count": 2,
   "metadata": {},
   "outputs": [
    {
     "data": {
      "text/html": [
       "<table>\n",
       "<thead><tr><th scope=col>meat</th></tr></thead>\n",
       "<tbody>\n",
       "\t<tr><td>bacon   </td></tr>\n",
       "\t<tr><td>beef    </td></tr>\n",
       "\t<tr><td>bacon   </td></tr>\n",
       "\t<tr><td>Nova lox</td></tr>\n",
       "\t<tr><td>bacon   </td></tr>\n",
       "</tbody>\n",
       "</table>\n"
      ],
      "text/latex": [
       "\\begin{tabular}{r|l}\n",
       " meat\\\\\n",
       "\\hline\n",
       "\t bacon   \\\\\n",
       "\t beef    \\\\\n",
       "\t bacon   \\\\\n",
       "\t Nova lox\\\\\n",
       "\t bacon   \\\\\n",
       "\\end{tabular}\n"
      ],
      "text/markdown": [
       "\n",
       "meat | \n",
       "|---|---|---|---|---|\n",
       "| bacon    | \n",
       "| beef     | \n",
       "| bacon    | \n",
       "| Nova lox | \n",
       "| bacon    | \n",
       "\n",
       "\n"
      ],
      "text/plain": [
       "  meat    \n",
       "1 bacon   \n",
       "2 beef    \n",
       "3 bacon   \n",
       "4 Nova lox\n",
       "5 bacon   "
      ]
     },
     "metadata": {},
     "output_type": "display_data"
    }
   ],
   "source": [
    "### Creating a new data frame\n",
    "data<-data.frame(meat=c('bacon', 'beef', 'bacon', 'Nova lox', 'bacon'))\n",
    "data"
   ]
  },
  {
   "cell_type": "code",
   "execution_count": 5,
   "metadata": {},
   "outputs": [
    {
     "data": {
      "text/html": [
       "<table>\n",
       "<thead><tr><th scope=col>meat</th><th scope=col>animal</th></tr></thead>\n",
       "<tbody>\n",
       "\t<tr><td>bacon   </td><td>pig     </td></tr>\n",
       "\t<tr><td>beef    </td><td>cow     </td></tr>\n",
       "\t<tr><td>bacon   </td><td>pig     </td></tr>\n",
       "\t<tr><td>Nova lox</td><td>salmon  </td></tr>\n",
       "\t<tr><td>bacon   </td><td>pig     </td></tr>\n",
       "</tbody>\n",
       "</table>\n"
      ],
      "text/latex": [
       "\\begin{tabular}{r|ll}\n",
       " meat & animal\\\\\n",
       "\\hline\n",
       "\t bacon    & pig     \\\\\n",
       "\t beef     & cow     \\\\\n",
       "\t bacon    & pig     \\\\\n",
       "\t Nova lox & salmon  \\\\\n",
       "\t bacon    & pig     \\\\\n",
       "\\end{tabular}\n"
      ],
      "text/markdown": [
       "\n",
       "meat | animal | \n",
       "|---|---|---|---|---|\n",
       "| bacon    | pig      | \n",
       "| beef     | cow      | \n",
       "| bacon    | pig      | \n",
       "| Nova lox | salmon   | \n",
       "| bacon    | pig      | \n",
       "\n",
       "\n"
      ],
      "text/plain": [
       "  meat     animal\n",
       "1 bacon    pig   \n",
       "2 beef     cow   \n",
       "3 bacon    pig   \n",
       "4 Nova lox salmon\n",
       "5 bacon    pig   "
      ]
     },
     "metadata": {},
     "output_type": "display_data"
    }
   ],
   "source": [
    "### Matching meat with animal\n",
    "data$animal <- dict[match(data$meat, dict$meat), 'animal']\n",
    "data"
   ]
  }
 ],
 "metadata": {
  "kernelspec": {
   "display_name": "R",
   "language": "R",
   "name": "ir"
  },
  "language_info": {
   "codemirror_mode": "r",
   "file_extension": ".r",
   "mimetype": "text/x-r-source",
   "name": "R",
   "pygments_lexer": "r",
   "version": "3.3.2"
  }
 },
 "nbformat": 4,
 "nbformat_minor": 2
}
