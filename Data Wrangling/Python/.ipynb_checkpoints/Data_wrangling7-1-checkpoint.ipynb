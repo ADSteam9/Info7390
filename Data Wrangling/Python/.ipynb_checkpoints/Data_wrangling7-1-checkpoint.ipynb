{
 "cells": [
  {
   "cell_type": "code",
   "execution_count": 1,
   "metadata": {
    "collapsed": false
   },
   "outputs": [
    {
     "data": {
      "text/html": [
       "<div>\n",
       "<table border=\"1\" class=\"dataframe\">\n",
       "  <thead>\n",
       "    <tr style=\"text-align: right;\">\n",
       "      <th></th>\n",
       "      <th>a</th>\n",
       "      <th>b</th>\n",
       "      <th>c</th>\n",
       "    </tr>\n",
       "  </thead>\n",
       "  <tbody>\n",
       "    <tr>\n",
       "      <th>0</th>\n",
       "      <td>1.267225</td>\n",
       "      <td>1.634417</td>\n",
       "      <td>-0.311347</td>\n",
       "    </tr>\n",
       "    <tr>\n",
       "      <th>1</th>\n",
       "      <td>0.140724</td>\n",
       "      <td>-0.056841</td>\n",
       "      <td>-1.403325</td>\n",
       "    </tr>\n",
       "    <tr>\n",
       "      <th>2</th>\n",
       "      <td>0.233280</td>\n",
       "      <td>0.552723</td>\n",
       "      <td>-0.651723</td>\n",
       "    </tr>\n",
       "    <tr>\n",
       "      <th>3</th>\n",
       "      <td>-1.442939</td>\n",
       "      <td>-2.187693</td>\n",
       "      <td>-0.502345</td>\n",
       "    </tr>\n",
       "    <tr>\n",
       "      <th>4</th>\n",
       "      <td>1.241124</td>\n",
       "      <td>0.363778</td>\n",
       "      <td>-0.181815</td>\n",
       "    </tr>\n",
       "  </tbody>\n",
       "</table>\n",
       "</div>"
      ],
      "text/plain": [
       "          a         b         c\n",
       "0  1.267225  1.634417 -0.311347\n",
       "1  0.140724 -0.056841 -1.403325\n",
       "2  0.233280  0.552723 -0.651723\n",
       "3 -1.442939 -2.187693 -0.502345\n",
       "4  1.241124  0.363778 -0.181815"
      ]
     },
     "execution_count": 1,
     "metadata": {},
     "output_type": "execute_result"
    }
   ],
   "source": [
    "import pandas as pd\n",
    "from pandas import *\n",
    "import numpy as np\n",
    "from numpy.random import randn\n",
    "data=DataFrame(np.random.randn(5,3),columns=['a','b','c'])\n",
    "data"
   ]
  },
  {
   "cell_type": "code",
   "execution_count": 2,
   "metadata": {
    "collapsed": false
   },
   "outputs": [
    {
     "data": {
      "text/html": [
       "<div>\n",
       "<table border=\"1\" class=\"dataframe\">\n",
       "  <thead>\n",
       "    <tr style=\"text-align: right;\">\n",
       "      <th></th>\n",
       "      <th>a</th>\n",
       "      <th>b</th>\n",
       "      <th>c</th>\n",
       "      <th>d</th>\n",
       "    </tr>\n",
       "  </thead>\n",
       "  <tbody>\n",
       "    <tr>\n",
       "      <th>0</th>\n",
       "      <td>1.267225</td>\n",
       "      <td>1.634417</td>\n",
       "      <td>-0.311347</td>\n",
       "      <td>-9.319634</td>\n",
       "    </tr>\n",
       "    <tr>\n",
       "      <th>1</th>\n",
       "      <td>0.140724</td>\n",
       "      <td>-0.056841</td>\n",
       "      <td>-1.403325</td>\n",
       "      <td>-0.059775</td>\n",
       "    </tr>\n",
       "    <tr>\n",
       "      <th>2</th>\n",
       "      <td>0.233280</td>\n",
       "      <td>0.552723</td>\n",
       "      <td>-0.651723</td>\n",
       "      <td>-1.206038</td>\n",
       "    </tr>\n",
       "    <tr>\n",
       "      <th>3</th>\n",
       "      <td>-1.442939</td>\n",
       "      <td>-2.187693</td>\n",
       "      <td>-0.502345</td>\n",
       "      <td>7.227366</td>\n",
       "    </tr>\n",
       "    <tr>\n",
       "      <th>4</th>\n",
       "      <td>1.241124</td>\n",
       "      <td>0.363778</td>\n",
       "      <td>-0.181815</td>\n",
       "      <td>-8.827093</td>\n",
       "    </tr>\n",
       "  </tbody>\n",
       "</table>\n",
       "</div>"
      ],
      "text/plain": [
       "          a         b         c         d\n",
       "0  1.267225  1.634417 -0.311347 -9.319634\n",
       "1  0.140724 -0.056841 -1.403325 -0.059775\n",
       "2  0.233280  0.552723 -0.651723 -1.206038\n",
       "3 -1.442939 -2.187693 -0.502345  7.227366\n",
       "4  1.241124  0.363778 -0.181815 -8.827093"
      ]
     },
     "execution_count": 2,
     "metadata": {},
     "output_type": "execute_result"
    }
   ],
   "source": [
    "### Writing equation\n",
    "data['d']=(data.a+data.b)/data.c\n",
    "data"
   ]
  },
  {
   "cell_type": "code",
   "execution_count": 3,
   "metadata": {
    "collapsed": false
   },
   "outputs": [
    {
     "data": {
      "text/html": [
       "<div>\n",
       "<table border=\"1\" class=\"dataframe\">\n",
       "  <thead>\n",
       "    <tr style=\"text-align: right;\">\n",
       "      <th></th>\n",
       "      <th>a</th>\n",
       "      <th>b</th>\n",
       "      <th>c</th>\n",
       "      <th>d</th>\n",
       "      <th>e</th>\n",
       "    </tr>\n",
       "  </thead>\n",
       "  <tbody>\n",
       "    <tr>\n",
       "      <th>0</th>\n",
       "      <td>1.267225</td>\n",
       "      <td>1.634417</td>\n",
       "      <td>-0.311347</td>\n",
       "      <td>-9.319634</td>\n",
       "      <td>10.954051</td>\n",
       "    </tr>\n",
       "    <tr>\n",
       "      <th>1</th>\n",
       "      <td>0.140724</td>\n",
       "      <td>-0.056841</td>\n",
       "      <td>-1.403325</td>\n",
       "      <td>-0.059775</td>\n",
       "      <td>1.544049</td>\n",
       "    </tr>\n",
       "    <tr>\n",
       "      <th>2</th>\n",
       "      <td>0.233280</td>\n",
       "      <td>0.552723</td>\n",
       "      <td>-0.651723</td>\n",
       "      <td>-1.206038</td>\n",
       "      <td>1.758762</td>\n",
       "    </tr>\n",
       "    <tr>\n",
       "      <th>3</th>\n",
       "      <td>-1.442939</td>\n",
       "      <td>-2.187693</td>\n",
       "      <td>-0.502345</td>\n",
       "      <td>7.227366</td>\n",
       "      <td>9.415059</td>\n",
       "    </tr>\n",
       "    <tr>\n",
       "      <th>4</th>\n",
       "      <td>1.241124</td>\n",
       "      <td>0.363778</td>\n",
       "      <td>-0.181815</td>\n",
       "      <td>-8.827093</td>\n",
       "      <td>10.068217</td>\n",
       "    </tr>\n",
       "  </tbody>\n",
       "</table>\n",
       "</div>"
      ],
      "text/plain": [
       "          a         b         c         d          e\n",
       "0  1.267225  1.634417 -0.311347 -9.319634  10.954051\n",
       "1  0.140724 -0.056841 -1.403325 -0.059775   1.544049\n",
       "2  0.233280  0.552723 -0.651723 -1.206038   1.758762\n",
       "3 -1.442939 -2.187693 -0.502345  7.227366   9.415059\n",
       "4  1.241124  0.363778 -0.181815 -8.827093  10.068217"
      ]
     },
     "execution_count": 3,
     "metadata": {},
     "output_type": "execute_result"
    }
   ],
   "source": [
    "### Using apply() and lambda\n",
    "data['e']=data.apply(lambda x: x.max()-x.min(), axis=1)\n",
    "data"
   ]
  },
  {
   "cell_type": "code",
   "execution_count": null,
   "metadata": {
    "collapsed": true
   },
   "outputs": [],
   "source": []
  }
 ],
 "metadata": {
  "kernelspec": {
   "display_name": "Python 3",
   "language": "python",
   "name": "python3"
  },
  "language_info": {
   "codemirror_mode": {
    "name": "ipython",
    "version": 3
   },
   "file_extension": ".py",
   "mimetype": "text/x-python",
   "name": "python",
   "nbconvert_exporter": "python",
   "pygments_lexer": "ipython3",
   "version": "3.5.4"
  }
 },
 "nbformat": 4,
 "nbformat_minor": 0
}
