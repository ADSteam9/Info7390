{
 "cells": [
  {
   "cell_type": "code",
   "execution_count": 61,
   "metadata": {
    "collapsed": false
   },
   "outputs": [
    {
     "name": "stderr",
     "output_type": "stream",
     "text": [
      "/Users/ngmodani/anaconda/lib/python3.5/site-packages/bs4/__init__.py:181: UserWarning: No parser was explicitly specified, so I'm using the best available HTML parser for this system (\"lxml\"). This usually isn't a problem, but if you run this code on another system, or in a different virtual environment, it may use a different parser and behave differently.\n",
      "\n",
      "The code that caused this warning is on line 193 of the file /Users/ngmodani/anaconda/lib/python3.5/runpy.py. To get rid of this warning, change code that looks like this:\n",
      "\n",
      " BeautifulSoup([your markup])\n",
      "\n",
      "to this:\n",
      "\n",
      " BeautifulSoup([your markup], \"lxml\")\n",
      "\n",
      "  markup_type=markup_type))\n"
     ]
    }
   ],
   "source": [
    "### Opening and parsing URL\n",
    "from bs4 import BeautifulSoup\n",
    "import urllib3 \n",
    "urllib3.disable_warnings()\n",
    "url='https://finance.yahoo.com/q/op?s=AAPL+Options'\n",
    "http = urllib3.PoolManager()\n",
    "response = http.request('GET', url)\n",
    "\n",
    "doc = BeautifulSoup(response.data)"
   ]
  },
  {
   "cell_type": "code",
   "execution_count": 62,
   "metadata": {
    "collapsed": false
   },
   "outputs": [
    {
     "data": {
      "text/plain": [
       "[<a class=\"C(#fff) Td(n) Pos(r) Z(1) rapidnofollow\" data-reactid=\"7\" href=\"https://www.yahoo.com/\"><div data-reactid=\"8\"><svg class=\"Cur(p)\" data-icon=\"home\" data-reactid=\"9\" height=\"16\" style=\"cursor:pointer;margin-right:6px;margin-top:1px;vertical-align:top;fill:#fff;stroke:#fff;stroke-width:0;\" viewbox=\"0 0 32 32\" width=\"16\"><path d=\"M16.153 3.224L0 16.962h4.314v11.814h9.87v-8.003h3.934v8.003h9.84V16.962H32\" data-reactid=\"10\"></path></svg><b class=\"Fw(400) Mstart(-1px) Td(u):h\" data-reactid=\"11\">Home</b></div></a>,\n",
       " <a class=\"C(#fff) Td(n) Td(u):h\" data-reactid=\"13\" href=\"https://mail.yahoo.com/?.intl=us&amp;.lang=en-US\">Mail</a>,\n",
       " <a class=\"C(#fff) Td(n) Td(u):h\" data-reactid=\"15\" href=\"https://www.flickr.com/\">Flickr</a>,\n",
       " <a class=\"C(#fff) Td(n) Td(u):h\" data-reactid=\"17\" href=\"https://www.tumblr.com/\">Tumblr</a>,\n",
       " <a class=\"C(#fff) Td(n) Td(u):h\" data-reactid=\"19\" href=\"https://www.yahoo.com/news/\">News</a>]"
      ]
     },
     "execution_count": 62,
     "metadata": {},
     "output_type": "execute_result"
    }
   ],
   "source": [
    "### Extracting links tags\n",
    "links = doc.findAll('a')\n",
    "links[:5]"
   ]
  },
  {
   "cell_type": "code",
   "execution_count": 63,
   "metadata": {
    "collapsed": false
   },
   "outputs": [
    {
     "data": {
      "text/plain": [
       "['https://www.yahoo.com/',\n",
       " 'https://mail.yahoo.com/?.intl=us&.lang=en-US',\n",
       " 'https://www.flickr.com/',\n",
       " 'https://www.tumblr.com/',\n",
       " 'https://www.yahoo.com/news/']"
      ]
     },
     "execution_count": 63,
     "metadata": {},
     "output_type": "execute_result"
    }
   ],
   "source": [
    "### Changing HTML elements to text\n",
    "urls = [lnk.get('href') for lnk in doc.findAll('a')]\n",
    "urls[:5]"
   ]
  },
  {
   "cell_type": "code",
   "execution_count": 64,
   "metadata": {
    "collapsed": false
   },
   "outputs": [],
   "source": [
    "### Extracting table tags and assigning example to the first table\n",
    "tables = doc.findAll('table') \n",
    "example=tables[2]"
   ]
  },
  {
   "cell_type": "code",
   "execution_count": 65,
   "metadata": {
    "collapsed": false
   },
   "outputs": [],
   "source": [
    "### Extracting all rows of example table\n",
    "rows = example.findAll('tr')\n",
    "### Extracting all elements of rows including headers row\n",
    "def _unpack(row, kind='td'): ### th kind refers to header row and td refers to other rows   \n",
    "    elts = row.findAll('{}'.format(kind))    \n",
    "    return [val.text for val in elts]"
   ]
  },
  {
   "cell_type": "code",
   "execution_count": 66,
   "metadata": {
    "collapsed": false
   },
   "outputs": [
    {
     "data": {
      "text/plain": [
       "'Contract Name'"
      ]
     },
     "execution_count": 66,
     "metadata": {},
     "output_type": "execute_result"
    }
   ],
   "source": [
    "rows[0].findAll('th')[0].text"
   ]
  },
  {
   "cell_type": "code",
   "execution_count": 67,
   "metadata": {
    "collapsed": false
   },
   "outputs": [
    {
     "name": "stdout",
     "output_type": "stream",
     "text": [
      "['Contract Name', 'Last Trade Date', 'Strike', 'Last Price', 'Bid', 'Ask', 'Change', '% Change', 'Volume', 'Open Interest', 'Implied Volatility']\n"
     ]
    }
   ],
   "source": [
    "### Unpack header row\n",
    "print (_unpack(rows[0],'th'))"
   ]
  },
  {
   "cell_type": "code",
   "execution_count": 68,
   "metadata": {
    "collapsed": false
   },
   "outputs": [
    {
     "name": "stdout",
     "output_type": "stream",
     "text": [
      "['AAPL170929P00133000', '2017-09-22 11:54PM EDT', '133.00', '0.03', '0.01', '0.03', '0.00', '-', '3', '0', '41.80%']\n"
     ]
    }
   ],
   "source": [
    "### Unpack fifth row\n",
    "print (_unpack(rows[5], kind='td'))"
   ]
  },
  {
   "cell_type": "code",
   "execution_count": 69,
   "metadata": {
    "collapsed": true
   },
   "outputs": [],
   "source": [
    "### Parsing all elements of the tables including header rows\n",
    "from pandas.io.parsers import TextParser\n",
    "def parse_options_data(table):\n",
    "    rows = table.findAll('tr')\n",
    "    header = _unpack(rows[0], kind='th')    \n",
    "    data = [_unpack(r) for r in rows[1:]]    \n",
    "    return TextParser(data, names=header).get_chunk()"
   ]
  },
  {
   "cell_type": "code",
   "execution_count": 70,
   "metadata": {
    "collapsed": false
   },
   "outputs": [
    {
     "data": {
      "text/html": [
       "<div>\n",
       "<table border=\"1\" class=\"dataframe\">\n",
       "  <thead>\n",
       "    <tr style=\"text-align: right;\">\n",
       "      <th></th>\n",
       "      <th>Contract Name</th>\n",
       "      <th>Last Trade Date</th>\n",
       "      <th>Strike</th>\n",
       "      <th>Last Price</th>\n",
       "      <th>Bid</th>\n",
       "      <th>Ask</th>\n",
       "      <th>Change</th>\n",
       "      <th>% Change</th>\n",
       "      <th>Volume</th>\n",
       "      <th>Open Interest</th>\n",
       "      <th>Implied Volatility</th>\n",
       "    </tr>\n",
       "  </thead>\n",
       "  <tbody>\n",
       "    <tr>\n",
       "      <th>1</th>\n",
       "      <td>AAPL170929P00125000</td>\n",
       "      <td>2017-09-22 12:45PM EDT</td>\n",
       "      <td>125.0</td>\n",
       "      <td>0.01</td>\n",
       "      <td>0.0</td>\n",
       "      <td>0.01</td>\n",
       "      <td>0.00</td>\n",
       "      <td>-</td>\n",
       "      <td>1</td>\n",
       "      <td>691</td>\n",
       "      <td>51.56%</td>\n",
       "    </tr>\n",
       "    <tr>\n",
       "      <th>2</th>\n",
       "      <td>AAPL170929P00130000</td>\n",
       "      <td>2017-09-22 3:37PM EDT</td>\n",
       "      <td>130.0</td>\n",
       "      <td>0.02</td>\n",
       "      <td>0.0</td>\n",
       "      <td>0.03</td>\n",
       "      <td>0.01</td>\n",
       "      <td>+100.00%</td>\n",
       "      <td>1,488</td>\n",
       "      <td>1,663</td>\n",
       "      <td>48.05%</td>\n",
       "    </tr>\n",
       "  </tbody>\n",
       "</table>\n",
       "</div>"
      ],
      "text/plain": [
       "         Contract Name         Last Trade Date  Strike  Last Price  Bid   Ask  \\\n",
       "1  AAPL170929P00125000  2017-09-22 12:45PM EDT   125.0        0.01  0.0  0.01   \n",
       "2  AAPL170929P00130000   2017-09-22 3:37PM EDT   130.0        0.02  0.0  0.03   \n",
       "\n",
       "   Change  % Change Volume Open Interest Implied Volatility  \n",
       "1    0.00         -      1           691             51.56%  \n",
       "2    0.01  +100.00%  1,488         1,663             48.05%  "
      ]
     },
     "execution_count": 70,
     "metadata": {},
     "output_type": "execute_result"
    }
   ],
   "source": [
    "example_data = parse_options_data(example)\n",
    "example_data[1:3]"
   ]
  }
 ],
 "metadata": {
  "kernelspec": {
   "display_name": "Python 3",
   "language": "python",
   "name": "python3"
  },
  "language_info": {
   "codemirror_mode": {
    "name": "ipython",
    "version": 3
   },
   "file_extension": ".py",
   "mimetype": "text/x-python",
   "name": "python",
   "nbconvert_exporter": "python",
   "pygments_lexer": "ipython3",
   "version": "3.5.4"
  }
 },
 "nbformat": 4,
 "nbformat_minor": 0
}
