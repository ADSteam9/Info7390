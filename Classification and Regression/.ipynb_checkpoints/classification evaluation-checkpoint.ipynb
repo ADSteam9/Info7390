{
 "cells": [
  {
   "cell_type": "code",
   "execution_count": 2,
   "metadata": {},
   "outputs": [
    {
     "name": "stderr",
     "output_type": "stream",
     "text": [
      "also installing the dependencies ‘lmtest’, ‘sandwich’, ‘survival’, ‘Formula’\n",
      "\n",
      "Updating HTML index of packages in '.Library'\n",
      "Making 'packages.html' ... done\n"
     ]
    }
   ],
   "source": [
    "install.packages(\"AER\")"
   ]
  },
  {
   "cell_type": "code",
   "execution_count": 3,
   "metadata": {},
   "outputs": [
    {
     "name": "stderr",
     "output_type": "stream",
     "text": [
      "Loading required package: car\n",
      "Loading required package: lmtest\n",
      "Loading required package: zoo\n",
      "\n",
      "Attaching package: ‘zoo’\n",
      "\n",
      "The following objects are masked from ‘package:base’:\n",
      "\n",
      "    as.Date, as.Date.numeric\n",
      "\n",
      "Loading required package: sandwich\n",
      "Loading required package: survival\n"
     ]
    }
   ],
   "source": [
    "library(\"AER\")"
   ]
  },
  {
   "cell_type": "code",
   "execution_count": 4,
   "metadata": {},
   "outputs": [],
   "source": [
    "data(Affairs, package=\"AER\")"
   ]
  },
  {
   "cell_type": "code",
   "execution_count": 5,
   "metadata": {},
   "outputs": [
    {
     "data": {
      "text/plain": [
       "\n",
       " No Yes \n",
       "451 150 "
      ]
     },
     "metadata": {},
     "output_type": "display_data"
    }
   ],
   "source": [
    "#Transform affairs into a dichotomous factor\n",
    "Affairs$ynaffair[Affairs$affairs > 0] <- 1\n",
    "Affairs$ynaffair[Affairs$affairs == 0] <- 0\n",
    "Affairs$ynaffair <- factor(Affairs$ynaffair,\n",
    "                           levels=c(0,1),\n",
    "                           labels=c(\"No\",\"Yes\"))\n",
    "table(Affairs$ynaffair)"
   ]
  },
  {
   "cell_type": "code",
   "execution_count": 6,
   "metadata": {
    "collapsed": true
   },
   "outputs": [],
   "source": [
    "#75% of the sample size\n",
    "smp_size <- floor(0.75 * nrow(Affairs))"
   ]
  },
  {
   "cell_type": "code",
   "execution_count": 7,
   "metadata": {
    "collapsed": true
   },
   "outputs": [],
   "source": [
    "#Set the seed to make your partition reproductible\n",
    "set.seed(123)\n",
    "train_ind <- sample(seq_len(nrow(Affairs)), size = smp_size)"
   ]
  },
  {
   "cell_type": "code",
   "execution_count": 8,
   "metadata": {
    "collapsed": true
   },
   "outputs": [],
   "source": [
    "#Split the data into training and testing\n",
    "train <- Affairs[train_ind, ]\n",
    "test <- Affairs[-train_ind, ]"
   ]
  },
  {
   "cell_type": "code",
   "execution_count": 9,
   "metadata": {},
   "outputs": [
    {
     "data": {
      "text/plain": [
       "\n",
       "Call:\n",
       "glm(formula = ynaffair ~ age + yearsmarried + religiousness + \n",
       "    rating, family = binomial(link = \"logit\"), data = train)\n",
       "\n",
       "Deviance Residuals: \n",
       "    Min       1Q   Median       3Q      Max  \n",
       "-1.6481  -0.7656  -0.5562   0.7715   2.3462  \n",
       "\n",
       "Coefficients:\n",
       "              Estimate Std. Error z value Pr(>|z|)    \n",
       "(Intercept)    2.29065    0.72072   3.178  0.00148 ** \n",
       "age           -0.02131    0.01971  -1.081  0.27958    \n",
       "yearsmarried   0.06497    0.03342   1.944  0.05186 .  \n",
       "religiousness -0.46848    0.10562  -4.436 9.18e-06 ***\n",
       "rating        -0.47887    0.10427  -4.593 4.37e-06 ***\n",
       "---\n",
       "Signif. codes:  0 ‘***’ 0.001 ‘**’ 0.01 ‘*’ 0.05 ‘.’ 0.1 ‘ ’ 1\n",
       "\n",
       "(Dispersion parameter for binomial family taken to be 1)\n",
       "\n",
       "    Null deviance: 509.37  on 449  degrees of freedom\n",
       "Residual deviance: 460.74  on 445  degrees of freedom\n",
       "AIC: 470.74\n",
       "\n",
       "Number of Fisher Scoring iterations: 4\n"
      ]
     },
     "metadata": {},
     "output_type": "display_data"
    }
   ],
   "source": [
    "#Fit a logistic regression model \n",
    "fit <- glm(ynaffair ~ age + yearsmarried + religiousness + rating,\n",
    "            data=train, family=binomial(link=\"logit\"))\n",
    "summary(fit)"
   ]
  },
  {
   "cell_type": "code",
   "execution_count": 10,
   "metadata": {
    "collapsed": true
   },
   "outputs": [],
   "source": [
    "#Run the model on the test set\n",
    "test.probs <- predict(fit, test, type='response')\n",
    "pred <- rep(\"No\",length(test.probs))"
   ]
  },
  {
   "cell_type": "code",
   "execution_count": 11,
   "metadata": {
    "collapsed": true
   },
   "outputs": [],
   "source": [
    "#Set the cutoff value =0.5\n",
    "pred[test.probs>=0.5] <- \"Yes\""
   ]
  },
  {
   "cell_type": "code",
   "execution_count": 13,
   "metadata": {},
   "outputs": [
    {
     "name": "stderr",
     "output_type": "stream",
     "text": [
      "also installing the dependencies ‘numDeriv’, ‘KernSmooth’, ‘lava’, ‘kernlab’, ‘CVST’, ‘DEoptimR’, ‘rpart’, ‘class’, ‘prodlim’, ‘DRR’, ‘robustbase’, ‘sfsmisc’, ‘glue’, ‘ipred’, ‘dimRed’, ‘ddalpha’, ‘gower’, ‘RcppRoll’, ‘tidyselect’, ‘recipes’, ‘withr’\n",
      "\n",
      "Updating HTML index of packages in '.Library'\n",
      "Making 'packages.html' ... done\n"
     ]
    }
   ],
   "source": [
    "install.packages(\"caret\")"
   ]
  },
  {
   "cell_type": "code",
   "execution_count": 17,
   "metadata": {},
   "outputs": [
    {
     "name": "stderr",
     "output_type": "stream",
     "text": [
      "Updating HTML index of packages in '.Library'\n",
      "Making 'packages.html' ... done\n"
     ]
    }
   ],
   "source": [
    "install.packages('e1071')"
   ]
  },
  {
   "cell_type": "code",
   "execution_count": 19,
   "metadata": {},
   "outputs": [],
   "source": [
    "#Classification matrix\n",
    "library(caret)\n",
    "library('e1071')"
   ]
  },
  {
   "cell_type": "code",
   "execution_count": 20,
   "metadata": {},
   "outputs": [
    {
     "data": {
      "text/plain": [
       "Confusion Matrix and Statistics\n",
       "\n",
       "          Reference\n",
       "Prediction  No Yes\n",
       "       No  111   4\n",
       "       Yes  27   9\n",
       "                                         \n",
       "               Accuracy : 0.7947         \n",
       "                 95% CI : (0.7214, 0.856)\n",
       "    No Information Rate : 0.9139         \n",
       "    P-Value [Acc > NIR] : 1              \n",
       "                                         \n",
       "                  Kappa : 0.2757         \n",
       " Mcnemar's Test P-Value : 7.772e-05      \n",
       "                                         \n",
       "            Sensitivity : 0.8043         \n",
       "            Specificity : 0.6923         \n",
       "         Pos Pred Value : 0.9652         \n",
       "         Neg Pred Value : 0.2500         \n",
       "             Prevalence : 0.9139         \n",
       "         Detection Rate : 0.7351         \n",
       "   Detection Prevalence : 0.7616         \n",
       "      Balanced Accuracy : 0.7483         \n",
       "                                         \n",
       "       'Positive' Class : No             \n",
       "                                         "
      ]
     },
     "metadata": {},
     "output_type": "display_data"
    }
   ],
   "source": [
    "confusionMatrix(test$ynaffair, pred)"
   ]
  },
  {
   "cell_type": "code",
   "execution_count": 22,
   "metadata": {},
   "outputs": [
    {
     "name": "stderr",
     "output_type": "stream",
     "text": [
      "also installing the dependencies ‘gtools’, ‘gdata’, ‘gplots’\n",
      "\n",
      "Updating HTML index of packages in '.Library'\n",
      "Making 'packages.html' ... done\n"
     ]
    }
   ],
   "source": [
    "install.packages(\"ROCR\")"
   ]
  },
  {
   "cell_type": "code",
   "execution_count": 23,
   "metadata": {},
   "outputs": [
    {
     "name": "stderr",
     "output_type": "stream",
     "text": [
      "Loading required package: gplots\n",
      "\n",
      "Attaching package: ‘gplots’\n",
      "\n",
      "The following object is masked from ‘package:stats’:\n",
      "\n",
      "    lowess\n",
      "\n"
     ]
    }
   ],
   "source": [
    "library(ROCR)"
   ]
  },
  {
   "cell_type": "code",
   "execution_count": 24,
   "metadata": {},
   "outputs": [
    {
     "data": {
      "image/png": "[encoded data removed]",
      "text/plain": [
       "Plot with title “ROC curve”"
      ]
     },
     "metadata": {},
     "output_type": "display_data"
    }
   ],
   "source": [
    "#ROC curve\n",
    "prediction <- prediction(test.probs, test$ynaffair)\n",
    "performance <- performance(prediction, measure = \"tpr\", x.measure = \"fpr\")\n",
    "plot(performance, main=\"ROC curve\", xlab=\"1-Specificity\", ylab=\"Sensitivity\")"
   ]
  },
  {
   "cell_type": "code",
   "execution_count": 25,
   "metadata": {},
   "outputs": [
    {
     "data": {
      "text/plain": [
       "\n",
       "Call:\n",
       "lift.formula(x = ynaffair ~ prob, data = test)\n",
       "\n",
       "Models: prob \n",
       "Event: No (76.2%)"
      ]
     },
     "metadata": {},
     "output_type": "display_data"
    }
   ],
   "source": [
    "#Lift curve\n",
    "test$probs=test.probs\n",
    "test$prob=sort(test$probs,decreasing = T)\n",
    "lift <- lift(ynaffair ~ prob, data = test)\n",
    "lift"
   ]
  },
  {
   "cell_type": "code",
   "execution_count": 26,
   "metadata": {},
   "outputs": [
    {
     "data": {},
     "metadata": {},
     "output_type": "display_data"
    },
    {
     "data": {
      "image/png": "[encoded data removed]",
      "text/plain": [
       "plot without title"
      ]
     },
     "metadata": {},
     "output_type": "display_data"
    }
   ],
   "source": [
    "xyplot(lift,plot = \"gain\")"
   ]
  }
 ],
 "metadata": {
  "kernelspec": {
   "display_name": "R",
   "language": "R",
   "name": "ir"
  },
  "language_info": {
   "codemirror_mode": "r",
   "file_extension": ".r",
   "mimetype": "text/x-r-source",
   "name": "R",
   "pygments_lexer": "r",
   "version": "3.3.2"
  }
 },
 "nbformat": 4,
 "nbformat_minor": 2
}
