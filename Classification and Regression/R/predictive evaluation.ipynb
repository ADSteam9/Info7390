{
 "cells": [
  {
   "cell_type": "code",
   "execution_count": 2,
   "metadata": {},
   "outputs": [],
   "source": [
    "library(MASS)\n",
    "data(Boston)"
   ]
  },
  {
   "cell_type": "code",
   "execution_count": 3,
   "metadata": {},
   "outputs": [
    {
     "name": "stderr",
     "output_type": "stream",
     "text": [
      "Updating HTML index of packages in '.Library'\n",
      "Making 'packages.html' ... done\n"
     ]
    }
   ],
   "source": [
    "install.packages('ISLR')\n",
    "library(ISLR)"
   ]
  },
  {
   "cell_type": "code",
   "execution_count": 4,
   "metadata": {
    "collapsed": true
   },
   "outputs": [],
   "source": [
    "#75% of the sample size\n",
    "smp_size <- floor(0.75 * nrow(Boston))"
   ]
  },
  {
   "cell_type": "code",
   "execution_count": 5,
   "metadata": {
    "collapsed": true
   },
   "outputs": [],
   "source": [
    "#Set the seed to make your partition reproductible\n",
    "set.seed(123)\n",
    "train_ind <- sample(seq_len(nrow(Boston)), size = smp_size)"
   ]
  },
  {
   "cell_type": "code",
   "execution_count": 6,
   "metadata": {
    "collapsed": true
   },
   "outputs": [],
   "source": [
    "#Split the data into training and testing\n",
    "train <- Boston[train_ind, ]\n",
    "test <- Boston[-train_ind, ]"
   ]
  },
  {
   "cell_type": "code",
   "execution_count": 7,
   "metadata": {
    "collapsed": true
   },
   "outputs": [],
   "source": [
    "#Fit a linear regression model \n",
    "lm.fit = lm(medv ~ ., data = train)"
   ]
  },
  {
   "cell_type": "code",
   "execution_count": 8,
   "metadata": {},
   "outputs": [
    {
     "data": {
      "text/plain": [
       "\n",
       "Call:\n",
       "lm(formula = medv ~ ., data = train)\n",
       "\n",
       "Residuals:\n",
       "     Min       1Q   Median       3Q      Max \n",
       "-16.1516  -2.8187  -0.5586   1.5889  24.5780 \n",
       "\n",
       "Coefficients:\n",
       "              Estimate Std. Error t value Pr(>|t|)    \n",
       "(Intercept)  40.074639   5.832140   6.871 2.76e-11 ***\n",
       "crim         -0.088151   0.040406  -2.182  0.02978 *  \n",
       "zn            0.046131   0.016382   2.816  0.00513 ** \n",
       "indus         0.056639   0.071795   0.789  0.43068    \n",
       "chas          3.360837   1.069793   3.142  0.00182 ** \n",
       "nox         -19.274100   4.607580  -4.183 3.61e-05 ***\n",
       "rm            3.454551   0.486790   7.097 6.70e-12 ***\n",
       "age           0.004943   0.015837   0.312  0.75515    \n",
       "dis          -1.577366   0.244904  -6.441 3.75e-10 ***\n",
       "rad           0.332795   0.077663   4.285 2.34e-05 ***\n",
       "tax          -0.013145   0.004348  -3.023  0.00268 ** \n",
       "ptratio      -0.967219   0.157964  -6.123 2.37e-09 ***\n",
       "black         0.009372   0.003283   2.855  0.00455 ** \n",
       "lstat        -0.570498   0.061631  -9.257  < 2e-16 ***\n",
       "---\n",
       "Signif. codes:  0 ‘***’ 0.001 ‘**’ 0.01 ‘*’ 0.05 ‘.’ 0.1 ‘ ’ 1\n",
       "\n",
       "Residual standard error: 4.884 on 365 degrees of freedom\n",
       "Multiple R-squared:  0.7212,\tAdjusted R-squared:  0.7113 \n",
       "F-statistic: 72.63 on 13 and 365 DF,  p-value: < 2.2e-16\n"
      ]
     },
     "metadata": {},
     "output_type": "display_data"
    }
   ],
   "source": [
    "#Summary of the fit\n",
    "summary(lm.fit)"
   ]
  },
  {
   "cell_type": "code",
   "execution_count": 9,
   "metadata": {},
   "outputs": [
    {
     "name": "stderr",
     "output_type": "stream",
     "text": [
      "Loading required package: zoo\n",
      "\n",
      "Attaching package: ‘zoo’\n",
      "\n",
      "The following objects are masked from ‘package:base’:\n",
      "\n",
      "    as.Date, as.Date.numeric\n",
      "\n",
      "Loading required package: timeDate\n",
      "This is forecast 7.3 \n",
      "\n"
     ]
    },
    {
     "data": {
      "text/html": [
       "<table>\n",
       "<thead><tr><th></th><th scope=col>ME</th><th scope=col>RMSE</th><th scope=col>MAE</th><th scope=col>MPE</th><th scope=col>MAPE</th></tr></thead>\n",
       "<tbody>\n",
       "\t<tr><th scope=row>Test set</th><td>0.5110805</td><td>13.29642 </td><td>10.40042 </td><td>-19.64633</td><td>53.057   </td></tr>\n",
       "</tbody>\n",
       "</table>\n"
      ],
      "text/latex": [
       "\\begin{tabular}{r|lllll}\n",
       "  & ME & RMSE & MAE & MPE & MAPE\\\\\n",
       "\\hline\n",
       "\tTest set & 0.5110805 & 13.29642  & 10.40042  & -19.64633 & 53.057   \\\\\n",
       "\\end{tabular}\n"
      ],
      "text/markdown": [
       "\n",
       "| <!--/--> | ME | RMSE | MAE | MPE | MAPE | \n",
       "|---|\n",
       "| Test set | 0.5110805 | 13.29642  | 10.40042  | -19.64633 | 53.057    | \n",
       "\n",
       "\n"
      ],
      "text/plain": [
       "         ME        RMSE     MAE      MPE       MAPE  \n",
       "Test set 0.5110805 13.29642 10.40042 -19.64633 53.057"
      ]
     },
     "metadata": {},
     "output_type": "display_data"
    }
   ],
   "source": [
    "#Measures of predictive accuracy\n",
    "library(forecast)\n",
    "pred = predict(lm.fit, test)\n",
    "accuracy(pred, train$medv)\n"
   ]
  }
 ],
 "metadata": {
  "kernelspec": {
   "display_name": "R",
   "language": "R",
   "name": "ir"
  },
  "language_info": {
   "codemirror_mode": "r",
   "file_extension": ".r",
   "mimetype": "text/x-r-source",
   "name": "R",
   "pygments_lexer": "r",
   "version": "3.3.2"
  }
 },
 "nbformat": 4,
 "nbformat_minor": 2
}
