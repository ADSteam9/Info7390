{
 "cells": [
  {
   "cell_type": "code",
   "execution_count": 1,
   "metadata": {},
   "outputs": [
    {
     "data": {
      "text/plain": [
       "    affairs          gender         age         yearsmarried    children \n",
       " Min.   : 0.000   female:315   Min.   :17.50   Min.   : 0.125   no :171  \n",
       " 1st Qu.: 0.000   male  :286   1st Qu.:27.00   1st Qu.: 4.000   yes:430  \n",
       " Median : 0.000                Median :32.00   Median : 7.000            \n",
       " Mean   : 1.456                Mean   :32.49   Mean   : 8.178            \n",
       " 3rd Qu.: 0.000                3rd Qu.:37.00   3rd Qu.:15.000            \n",
       " Max.   :12.000                Max.   :57.00   Max.   :15.000            \n",
       " religiousness     education       occupation        rating     \n",
       " Min.   :1.000   Min.   : 9.00   Min.   :1.000   Min.   :1.000  \n",
       " 1st Qu.:2.000   1st Qu.:14.00   1st Qu.:3.000   1st Qu.:3.000  \n",
       " Median :3.000   Median :16.00   Median :5.000   Median :4.000  \n",
       " Mean   :3.116   Mean   :16.17   Mean   :4.195   Mean   :3.932  \n",
       " 3rd Qu.:4.000   3rd Qu.:18.00   3rd Qu.:6.000   3rd Qu.:5.000  \n",
       " Max.   :5.000   Max.   :20.00   Max.   :7.000   Max.   :5.000  "
      ]
     },
     "metadata": {},
     "output_type": "display_data"
    }
   ],
   "source": [
    "#Some descriptive statistics of Affairs\n",
    "data(Affairs, package=\"AER\")\n",
    "summary(Affairs)"
   ]
  },
  {
   "cell_type": "code",
   "execution_count": 2,
   "metadata": {},
   "outputs": [
    {
     "data": {
      "text/plain": [
       "\n",
       " No Yes \n",
       "451 150 "
      ]
     },
     "metadata": {},
     "output_type": "display_data"
    }
   ],
   "source": [
    "#Transform affairs into a dichotomous factor\n",
    "Affairs$ynaffair[Affairs$affairs > 0] <- 1\n",
    "Affairs$ynaffair[Affairs$affairs == 0] <- 0\n",
    "Affairs$ynaffair <- factor(Affairs$ynaffair,\n",
    "                           levels=c(0,1),\n",
    "                           labels=c(\"No\",\"Yes\"))\n",
    "table(Affairs$ynaffair)"
   ]
  },
  {
   "cell_type": "code",
   "execution_count": 3,
   "metadata": {},
   "outputs": [
    {
     "data": {
      "text/plain": [
       "\n",
       "Call:\n",
       "glm(formula = ynaffair ~ gender + age + yearsmarried + children + \n",
       "    religiousness + education + occupation + rating, family = binomial(link = \"logit\"), \n",
       "    data = Affairs)\n",
       "\n",
       "Deviance Residuals: \n",
       "    Min       1Q   Median       3Q      Max  \n",
       "-1.5713  -0.7499  -0.5690  -0.2539   2.5191  \n",
       "\n",
       "Coefficients:\n",
       "              Estimate Std. Error z value Pr(>|z|)    \n",
       "(Intercept)    1.37726    0.88776   1.551 0.120807    \n",
       "gendermale     0.28029    0.23909   1.172 0.241083    \n",
       "age           -0.04426    0.01825  -2.425 0.015301 *  \n",
       "yearsmarried   0.09477    0.03221   2.942 0.003262 ** \n",
       "childrenyes    0.39767    0.29151   1.364 0.172508    \n",
       "religiousness -0.32472    0.08975  -3.618 0.000297 ***\n",
       "education      0.02105    0.05051   0.417 0.676851    \n",
       "occupation     0.03092    0.07178   0.431 0.666630    \n",
       "rating        -0.46845    0.09091  -5.153 2.56e-07 ***\n",
       "---\n",
       "Signif. codes:  0 ‘***’ 0.001 ‘**’ 0.01 ‘*’ 0.05 ‘.’ 0.1 ‘ ’ 1\n",
       "\n",
       "(Dispersion parameter for binomial family taken to be 1)\n",
       "\n",
       "    Null deviance: 675.38  on 600  degrees of freedom\n",
       "Residual deviance: 609.51  on 592  degrees of freedom\n",
       "AIC: 627.51\n",
       "\n",
       "Number of Fisher Scoring iterations: 4\n"
      ]
     },
     "metadata": {},
     "output_type": "display_data"
    }
   ],
   "source": [
    "#Construct a logistic regression model for factor ynaffairs using all other variables \n",
    "fit1 <- glm(ynaffair ~ gender + age + yearsmarried + children +\n",
    "                  religiousness + education + occupation + rating,\n",
    "                data=Affairs, family=binomial(link=\"logit\"))\n",
    "summary(fit1)"
   ]
  },
  {
   "cell_type": "code",
   "execution_count": 4,
   "metadata": {},
   "outputs": [
    {
     "data": {
      "text/plain": [
       "\n",
       "Call:\n",
       "glm(formula = ynaffair ~ age + yearsmarried + religiousness + \n",
       "    rating, family = binomial(link = \"logit\"), data = Affairs)\n",
       "\n",
       "Deviance Residuals: \n",
       "    Min       1Q   Median       3Q      Max  \n",
       "-1.6278  -0.7550  -0.5701  -0.2624   2.3998  \n",
       "\n",
       "Coefficients:\n",
       "              Estimate Std. Error z value Pr(>|z|)    \n",
       "(Intercept)    1.93083    0.61032   3.164 0.001558 ** \n",
       "age           -0.03527    0.01736  -2.032 0.042127 *  \n",
       "yearsmarried   0.10062    0.02921   3.445 0.000571 ***\n",
       "religiousness -0.32902    0.08945  -3.678 0.000235 ***\n",
       "rating        -0.46136    0.08884  -5.193 2.06e-07 ***\n",
       "---\n",
       "Signif. codes:  0 ‘***’ 0.001 ‘**’ 0.01 ‘*’ 0.05 ‘.’ 0.1 ‘ ’ 1\n",
       "\n",
       "(Dispersion parameter for binomial family taken to be 1)\n",
       "\n",
       "    Null deviance: 675.38  on 600  degrees of freedom\n",
       "Residual deviance: 615.36  on 596  degrees of freedom\n",
       "AIC: 625.36\n",
       "\n",
       "Number of Fisher Scoring iterations: 4\n"
      ]
     },
     "metadata": {},
     "output_type": "display_data"
    }
   ],
   "source": [
    "#Construct a logistic regression model for factor ynaffairs \n",
    "#Using age, yearsmarried, religiousness and rating\n",
    "fit2 <- glm(ynaffair ~ age + yearsmarried + religiousness + rating,\n",
    "            data=Affairs, family=binomial(link=\"logit\"))\n",
    "summary(fit2)"
   ]
  },
  {
   "cell_type": "code",
   "execution_count": 5,
   "metadata": {},
   "outputs": [
    {
     "data": {
      "text/html": [
       "<dl class=dl-horizontal>\n",
       "\t<dt>(Intercept)</dt>\n",
       "\t\t<dd>1.93083017492467</dd>\n",
       "\t<dt>age</dt>\n",
       "\t\t<dd>-0.0352711169267395</dd>\n",
       "\t<dt>yearsmarried</dt>\n",
       "\t\t<dd>0.100622738089974</dd>\n",
       "\t<dt>religiousness</dt>\n",
       "\t\t<dd>-0.329023855056451</dd>\n",
       "\t<dt>rating</dt>\n",
       "\t\t<dd>-0.461361443466654</dd>\n",
       "</dl>\n"
      ],
      "text/latex": [
       "\\begin{description*}\n",
       "\\item[(Intercept)] 1.93083017492467\n",
       "\\item[age] -0.0352711169267395\n",
       "\\item[yearsmarried] 0.100622738089974\n",
       "\\item[religiousness] -0.329023855056451\n",
       "\\item[rating] -0.461361443466654\n",
       "\\end{description*}\n"
      ],
      "text/markdown": [
       "(Intercept)\n",
       ":   1.93083017492467age\n",
       ":   -0.0352711169267395yearsmarried\n",
       ":   0.100622738089974religiousness\n",
       ":   -0.329023855056451rating\n",
       ":   -0.461361443466654\n",
       "\n"
      ],
      "text/plain": [
       "  (Intercept)           age  yearsmarried religiousness        rating \n",
       "   1.93083017   -0.03527112    0.10062274   -0.32902386   -0.46136144 "
      ]
     },
     "metadata": {},
     "output_type": "display_data"
    }
   ],
   "source": [
    "#Parameters of fit2\n",
    "coef(fit2)"
   ]
  },
  {
   "cell_type": "code",
   "execution_count": 6,
   "metadata": {},
   "outputs": [
    {
     "data": {
      "text/html": [
       "<table>\n",
       "<thead><tr><th scope=col>rating</th><th scope=col>age</th><th scope=col>yearsmarried</th><th scope=col>religiousness</th></tr></thead>\n",
       "<tbody>\n",
       "\t<tr><td>3.93178 </td><td>32.48752</td><td>8.177696</td><td>3.116473</td></tr>\n",
       "</tbody>\n",
       "</table>\n"
      ],
      "text/latex": [
       "\\begin{tabular}{r|llll}\n",
       " rating & age & yearsmarried & religiousness\\\\\n",
       "\\hline\n",
       "\t 3.93178  & 32.48752 & 8.177696 & 3.116473\\\\\n",
       "\\end{tabular}\n"
      ],
      "text/markdown": [
       "\n",
       "rating | age | yearsmarried | religiousness | \n",
       "|---|\n",
       "| 3.93178  | 32.48752 | 8.177696 | 3.116473 | \n",
       "\n",
       "\n"
      ],
      "text/plain": [
       "  rating  age      yearsmarried religiousness\n",
       "1 3.93178 32.48752 8.177696     3.116473     "
      ]
     },
     "metadata": {},
     "output_type": "display_data"
    }
   ],
   "source": [
    "#Predict the probability of the outcome\n",
    "newdata <- data.frame(rating=mean(Affairs$rating),\n",
    "                       age=mean(Affairs$age),\n",
    "                       yearsmarried=mean(Affairs$yearsmarried),\n",
    "                       religiousness=mean(Affairs$religiousness))\n",
    "newdata"
   ]
  },
  {
   "cell_type": "code",
   "execution_count": 7,
   "metadata": {},
   "outputs": [
    {
     "data": {
      "text/html": [
       "<strong>1:</strong> 0.225911210690184"
      ],
      "text/latex": [
       "\\textbf{1:} 0.225911210690184"
      ],
      "text/markdown": [
       "**1:** 0.225911210690184"
      ],
      "text/plain": [
       "        1 \n",
       "0.2259112 "
      ]
     },
     "metadata": {},
     "output_type": "display_data"
    }
   ],
   "source": [
    "prob <- predict(fit2, newdata=newdata, type=\"response\")\n",
    "prob"
   ]
  },
  {
   "cell_type": "code",
   "execution_count": 8,
   "metadata": {
    "collapsed": true
   },
   "outputs": [],
   "source": [
    "#Export dataset\n",
    "data(Affairs, package=\"AER\")\n",
    "write.csv(Affairs,\"Affairs.csv\")\n",
    "\n",
    "\n"
   ]
  }
 ],
 "metadata": {
  "kernelspec": {
   "display_name": "R",
   "language": "R",
   "name": "ir"
  },
  "language_info": {
   "codemirror_mode": "r",
   "file_extension": ".r",
   "mimetype": "text/x-r-source",
   "name": "R",
   "pygments_lexer": "r",
   "version": "3.3.2"
  }
 },
 "nbformat": 4,
 "nbformat_minor": 2
}
