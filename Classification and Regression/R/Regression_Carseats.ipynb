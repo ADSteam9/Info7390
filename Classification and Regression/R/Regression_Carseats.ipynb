{
 "cells": [
  {
   "cell_type": "code",
   "execution_count": 1,
   "metadata": {},
   "outputs": [
    {
     "name": "stderr",
     "output_type": "stream",
     "text": [
      "Updating HTML index of packages in '.Library'\n",
      "Making 'packages.html' ... done\n"
     ]
    }
   ],
   "source": [
    "### Regression (Subset selection)\n",
    "### Needed package and datasets\n",
    "library(ISLR)\n",
    "attach(Carseats)\n",
    "Carseats=na.omit(Carseats) # Get rid of NAs\n",
    "install.packages(\"leaps\")\n",
    "library(leaps)"
   ]
  },
  {
   "cell_type": "code",
   "execution_count": 2,
   "metadata": {},
   "outputs": [
    {
     "data": {
      "text/plain": [
       "Subset selection object\n",
       "Call: regsubsets.formula(Sales ~ ., data = Carseats)\n",
       "11 Variables  (and intercept)\n",
       "                Forced in Forced out\n",
       "CompPrice           FALSE      FALSE\n",
       "Income              FALSE      FALSE\n",
       "Advertising         FALSE      FALSE\n",
       "Population          FALSE      FALSE\n",
       "Price               FALSE      FALSE\n",
       "ShelveLocGood       FALSE      FALSE\n",
       "ShelveLocMedium     FALSE      FALSE\n",
       "Age                 FALSE      FALSE\n",
       "Education           FALSE      FALSE\n",
       "UrbanYes            FALSE      FALSE\n",
       "USYes               FALSE      FALSE\n",
       "1 subsets of each size up to 8\n",
       "Selection Algorithm: exhaustive\n",
       "         CompPrice Income Advertising Population Price ShelveLocGood\n",
       "1  ( 1 ) \" \"       \" \"    \" \"         \" \"        \" \"   \"*\"          \n",
       "2  ( 1 ) \" \"       \" \"    \" \"         \" \"        \"*\"   \"*\"          \n",
       "3  ( 1 ) \"*\"       \" \"    \" \"         \" \"        \"*\"   \"*\"          \n",
       "4  ( 1 ) \"*\"       \" \"    \"*\"         \" \"        \"*\"   \"*\"          \n",
       "5  ( 1 ) \"*\"       \" \"    \"*\"         \" \"        \"*\"   \"*\"          \n",
       "6  ( 1 ) \"*\"       \" \"    \"*\"         \" \"        \"*\"   \"*\"          \n",
       "7  ( 1 ) \"*\"       \"*\"    \"*\"         \" \"        \"*\"   \"*\"          \n",
       "8  ( 1 ) \"*\"       \"*\"    \"*\"         \" \"        \"*\"   \"*\"          \n",
       "         ShelveLocMedium Age Education UrbanYes USYes\n",
       "1  ( 1 ) \" \"             \" \" \" \"       \" \"      \" \"  \n",
       "2  ( 1 ) \" \"             \" \" \" \"       \" \"      \" \"  \n",
       "3  ( 1 ) \" \"             \" \" \" \"       \" \"      \" \"  \n",
       "4  ( 1 ) \" \"             \" \" \" \"       \" \"      \" \"  \n",
       "5  ( 1 ) \"*\"             \" \" \" \"       \" \"      \" \"  \n",
       "6  ( 1 ) \"*\"             \"*\" \" \"       \" \"      \" \"  \n",
       "7  ( 1 ) \"*\"             \"*\" \" \"       \" \"      \" \"  \n",
       "8  ( 1 ) \"*\"             \"*\" \" \"       \" \"      \"*\"  "
      ]
     },
     "metadata": {},
     "output_type": "display_data"
    }
   ],
   "source": [
    "##### Searching all subset models up to size 8 by default\n",
    "regfit.full=regsubsets(Sales~.,data=Carseats)\n",
    "summary(regfit.full)"
   ]
  },
  {
   "cell_type": "code",
   "execution_count": 3,
   "metadata": {},
   "outputs": [
    {
     "data": {
      "text/html": [
       "<ol class=list-inline>\n",
       "\t<li>'which'</li>\n",
       "\t<li>'rsq'</li>\n",
       "\t<li>'rss'</li>\n",
       "\t<li>'adjr2'</li>\n",
       "\t<li>'cp'</li>\n",
       "\t<li>'bic'</li>\n",
       "\t<li>'outmat'</li>\n",
       "\t<li>'obj'</li>\n",
       "</ol>\n"
      ],
      "text/latex": [
       "\\begin{enumerate*}\n",
       "\\item 'which'\n",
       "\\item 'rsq'\n",
       "\\item 'rss'\n",
       "\\item 'adjr2'\n",
       "\\item 'cp'\n",
       "\\item 'bic'\n",
       "\\item 'outmat'\n",
       "\\item 'obj'\n",
       "\\end{enumerate*}\n"
      ],
      "text/markdown": [
       "1. 'which'\n",
       "2. 'rsq'\n",
       "3. 'rss'\n",
       "4. 'adjr2'\n",
       "5. 'cp'\n",
       "6. 'bic'\n",
       "7. 'outmat'\n",
       "8. 'obj'\n",
       "\n",
       "\n"
      ],
      "text/plain": [
       "[1] \"which\"  \"rsq\"    \"rss\"    \"adjr2\"  \"cp\"     \"bic\"    \"outmat\" \"obj\"   "
      ]
     },
     "metadata": {},
     "output_type": "display_data"
    },
    {
     "data": {
      "text/html": [
       "<ol class=list-inline>\n",
       "\t<li>2385.08183492064</li>\n",
       "\t<li>1686.91451530845</li>\n",
       "\t<li>1177.51475238593</li>\n",
       "\t<li>915.192378165718</li>\n",
       "\t<li>705.71549482151</li>\n",
       "\t<li>484.06746416023</li>\n",
       "\t<li>407.386861034199</li>\n",
       "\t<li>405.758292260549</li>\n",
       "\t<li>404.314153806802</li>\n",
       "\t<li>403.160428725436</li>\n",
       "\t<li>402.83351433053</li>\n",
       "</ol>\n"
      ],
      "text/latex": [
       "\\begin{enumerate*}\n",
       "\\item 2385.08183492064\n",
       "\\item 1686.91451530845\n",
       "\\item 1177.51475238593\n",
       "\\item 915.192378165718\n",
       "\\item 705.71549482151\n",
       "\\item 484.06746416023\n",
       "\\item 407.386861034199\n",
       "\\item 405.758292260549\n",
       "\\item 404.314153806802\n",
       "\\item 403.160428725436\n",
       "\\item 402.83351433053\n",
       "\\end{enumerate*}\n"
      ],
      "text/markdown": [
       "1. 2385.08183492064\n",
       "2. 1686.91451530845\n",
       "3. 1177.51475238593\n",
       "4. 915.192378165718\n",
       "5. 705.71549482151\n",
       "6. 484.06746416023\n",
       "7. 407.386861034199\n",
       "8. 405.758292260549\n",
       "9. 404.314153806802\n",
       "10. 403.160428725436\n",
       "11. 402.83351433053\n",
       "\n",
       "\n"
      ],
      "text/plain": [
       " [1] 2385.0818 1686.9145 1177.5148  915.1924  705.7155  484.0675  407.3869\n",
       " [8]  405.7583  404.3142  403.1604  402.8335"
      ]
     },
     "metadata": {},
     "output_type": "display_data"
    },
    {
     "data": {
      "text/html": [
       "<ol class=list-inline>\n",
       "\t<li>0.248627246246791</li>\n",
       "\t<li>0.467232408814996</li>\n",
       "\t<li>0.627173820182543</li>\n",
       "\t<li>0.709497062042606</li>\n",
       "\t<li>0.775421249548963</li>\n",
       "\t<li>0.845563989974847</li>\n",
       "\t<li>0.869696470042956</li>\n",
       "\t<li>0.869885446250992</li>\n",
       "\t<li>0.870016098633604</li>\n",
       "\t<li>0.870053817063055</li>\n",
       "\t<li>0.869824546447597</li>\n",
       "</ol>\n"
      ],
      "text/latex": [
       "\\begin{enumerate*}\n",
       "\\item 0.248627246246791\n",
       "\\item 0.467232408814996\n",
       "\\item 0.627173820182543\n",
       "\\item 0.709497062042606\n",
       "\\item 0.775421249548963\n",
       "\\item 0.845563989974847\n",
       "\\item 0.869696470042956\n",
       "\\item 0.869885446250992\n",
       "\\item 0.870016098633604\n",
       "\\item 0.870053817063055\n",
       "\\item 0.869824546447597\n",
       "\\end{enumerate*}\n"
      ],
      "text/markdown": [
       "1. 0.248627246246791\n",
       "2. 0.467232408814996\n",
       "3. 0.627173820182543\n",
       "4. 0.709497062042606\n",
       "5. 0.775421249548963\n",
       "6. 0.845563989974847\n",
       "7. 0.869696470042956\n",
       "8. 0.869885446250992\n",
       "9. 0.870016098633604\n",
       "10. 0.870053817063055\n",
       "11. 0.869824546447597\n",
       "\n",
       "\n"
      ],
      "text/plain": [
       " [1] 0.2486272 0.4672324 0.6271738 0.7094971 0.7754212 0.8455640 0.8696965\n",
       " [8] 0.8698854 0.8700161 0.8700538 0.8698245"
      ]
     },
     "metadata": {},
     "output_type": "display_data"
    }
   ],
   "source": [
    "##### Searching all subset models up to size number of variables\n",
    "regfit.full=regsubsets (Sales~.,data=Carseats ,nvmax=11) \n",
    "reg.summary =summary (regfit.full)\n",
    "names(reg.summary)\n",
    "reg.summary$rss\n",
    "reg.summary$adjr2"
   ]
  },
  {
   "cell_type": "code",
   "execution_count": 4,
   "metadata": {},
   "outputs": [
    {
     "data": {
      "text/html": [
       "<dl class=dl-horizontal>\n",
       "\t<dt>(Intercept)</dt>\n",
       "\t\t<dd>6.88296902084407</dd>\n",
       "\t<dt>CompPrice</dt>\n",
       "\t\t<dd>0.0906531300447674</dd>\n",
       "\t<dt>Advertising</dt>\n",
       "\t\t<dd>0.119910855807764</dd>\n",
       "\t<dt>Price</dt>\n",
       "\t\t<dd>-0.0956759669499958</dd>\n",
       "\t<dt>ShelveLocGood</dt>\n",
       "\t\t<dd>4.76861557409333</dd>\n",
       "\t<dt>ShelveLocMedium</dt>\n",
       "\t\t<dd>1.87668158631696</dd>\n",
       "\t<dt>Age</dt>\n",
       "\t\t<dd>-0.0463902266679545</dd>\n",
       "</dl>\n"
      ],
      "text/latex": [
       "\\begin{description*}\n",
       "\\item[(Intercept)] 6.88296902084407\n",
       "\\item[CompPrice] 0.0906531300447674\n",
       "\\item[Advertising] 0.119910855807764\n",
       "\\item[Price] -0.0956759669499958\n",
       "\\item[ShelveLocGood] 4.76861557409333\n",
       "\\item[ShelveLocMedium] 1.87668158631696\n",
       "\\item[Age] -0.0463902266679545\n",
       "\\end{description*}\n"
      ],
      "text/markdown": [
       "(Intercept)\n",
       ":   6.88296902084407CompPrice\n",
       ":   0.0906531300447674Advertising\n",
       ":   0.119910855807764Price\n",
       ":   -0.0956759669499958ShelveLocGood\n",
       ":   4.76861557409333ShelveLocMedium\n",
       ":   1.87668158631696Age\n",
       ":   -0.0463902266679545\n",
       "\n"
      ],
      "text/plain": [
       "    (Intercept)       CompPrice     Advertising           Price   ShelveLocGood \n",
       "     6.88296902      0.09065313      0.11991086     -0.09567597      4.76861557 \n",
       "ShelveLocMedium             Age \n",
       "     1.87668159     -0.04639023 "
      ]
     },
     "metadata": {},
     "output_type": "display_data"
    },
    {
     "data": {
      "image/png": "[encoded data removed]",
      "text/plain": [
       "plot without title"
      ]
     },
     "metadata": {},
     "output_type": "display_data"
    }
   ],
   "source": [
    "## Plotting and choosing the subset\n",
    "par(mfrow=c(2,2)) \n",
    "plot(reg.summary$rss ,xlab=\"Number of Variables \",ylab=\"RSS\", type=\"l\") \n",
    "plot(reg.summary$adjr2 ,xlab=\"Number of Variables \", ylab=\"Adjusted RSq\",type=\"l\")\n",
    "coef(regfit.full ,6)"
   ]
  },
  {
   "cell_type": "code",
   "execution_count": 5,
   "metadata": {},
   "outputs": [
    {
     "data": {
      "text/html": [
       "<ol class=list-inline>\n",
       "\t<li>'which'</li>\n",
       "\t<li>'rsq'</li>\n",
       "\t<li>'rss'</li>\n",
       "\t<li>'adjr2'</li>\n",
       "\t<li>'cp'</li>\n",
       "\t<li>'bic'</li>\n",
       "\t<li>'outmat'</li>\n",
       "\t<li>'obj'</li>\n",
       "</ol>\n"
      ],
      "text/latex": [
       "\\begin{enumerate*}\n",
       "\\item 'which'\n",
       "\\item 'rsq'\n",
       "\\item 'rss'\n",
       "\\item 'adjr2'\n",
       "\\item 'cp'\n",
       "\\item 'bic'\n",
       "\\item 'outmat'\n",
       "\\item 'obj'\n",
       "\\end{enumerate*}\n"
      ],
      "text/markdown": [
       "1. 'which'\n",
       "2. 'rsq'\n",
       "3. 'rss'\n",
       "4. 'adjr2'\n",
       "5. 'cp'\n",
       "6. 'bic'\n",
       "7. 'outmat'\n",
       "8. 'obj'\n",
       "\n",
       "\n"
      ],
      "text/plain": [
       "[1] \"which\"  \"rsq\"    \"rss\"    \"adjr2\"  \"cp\"     \"bic\"    \"outmat\" \"obj\"   "
      ]
     },
     "metadata": {},
     "output_type": "display_data"
    },
    {
     "data": {
      "text/plain": [
       "Subset selection object\n",
       "Call: regsubsets.formula(Sales ~ ., data = Carseats, nvmax = 11, method = \"forward\")\n",
       "11 Variables  (and intercept)\n",
       "                Forced in Forced out\n",
       "CompPrice           FALSE      FALSE\n",
       "Income              FALSE      FALSE\n",
       "Advertising         FALSE      FALSE\n",
       "Population          FALSE      FALSE\n",
       "Price               FALSE      FALSE\n",
       "ShelveLocGood       FALSE      FALSE\n",
       "ShelveLocMedium     FALSE      FALSE\n",
       "Age                 FALSE      FALSE\n",
       "Education           FALSE      FALSE\n",
       "UrbanYes            FALSE      FALSE\n",
       "USYes               FALSE      FALSE\n",
       "1 subsets of each size up to 11\n",
       "Selection Algorithm: forward\n",
       "          CompPrice Income Advertising Population Price ShelveLocGood\n",
       "1  ( 1 )  \" \"       \" \"    \" \"         \" \"        \" \"   \"*\"          \n",
       "2  ( 1 )  \" \"       \" \"    \" \"         \" \"        \"*\"   \"*\"          \n",
       "3  ( 1 )  \"*\"       \" \"    \" \"         \" \"        \"*\"   \"*\"          \n",
       "4  ( 1 )  \"*\"       \" \"    \"*\"         \" \"        \"*\"   \"*\"          \n",
       "5  ( 1 )  \"*\"       \" \"    \"*\"         \" \"        \"*\"   \"*\"          \n",
       "6  ( 1 )  \"*\"       \" \"    \"*\"         \" \"        \"*\"   \"*\"          \n",
       "7  ( 1 )  \"*\"       \"*\"    \"*\"         \" \"        \"*\"   \"*\"          \n",
       "8  ( 1 )  \"*\"       \"*\"    \"*\"         \" \"        \"*\"   \"*\"          \n",
       "9  ( 1 )  \"*\"       \"*\"    \"*\"         \" \"        \"*\"   \"*\"          \n",
       "10  ( 1 ) \"*\"       \"*\"    \"*\"         \" \"        \"*\"   \"*\"          \n",
       "11  ( 1 ) \"*\"       \"*\"    \"*\"         \"*\"        \"*\"   \"*\"          \n",
       "          ShelveLocMedium Age Education UrbanYes USYes\n",
       "1  ( 1 )  \" \"             \" \" \" \"       \" \"      \" \"  \n",
       "2  ( 1 )  \" \"             \" \" \" \"       \" \"      \" \"  \n",
       "3  ( 1 )  \" \"             \" \" \" \"       \" \"      \" \"  \n",
       "4  ( 1 )  \" \"             \" \" \" \"       \" \"      \" \"  \n",
       "5  ( 1 )  \"*\"             \" \" \" \"       \" \"      \" \"  \n",
       "6  ( 1 )  \"*\"             \"*\" \" \"       \" \"      \" \"  \n",
       "7  ( 1 )  \"*\"             \"*\" \" \"       \" \"      \" \"  \n",
       "8  ( 1 )  \"*\"             \"*\" \" \"       \" \"      \"*\"  \n",
       "9  ( 1 )  \"*\"             \"*\" \"*\"       \" \"      \"*\"  \n",
       "10  ( 1 ) \"*\"             \"*\" \"*\"       \"*\"      \"*\"  \n",
       "11  ( 1 ) \"*\"             \"*\" \"*\"       \"*\"      \"*\"  "
      ]
     },
     "metadata": {},
     "output_type": "display_data"
    },
    {
     "data": {
      "text/html": [
       "<ol class=list-inline>\n",
       "\t<li>2385.08183492063</li>\n",
       "\t<li>1686.91451530845</li>\n",
       "\t<li>1177.51475238593</li>\n",
       "\t<li>915.192378165719</li>\n",
       "\t<li>705.71549482151</li>\n",
       "\t<li>484.06746416023</li>\n",
       "\t<li>407.386861034199</li>\n",
       "\t<li>405.758292260549</li>\n",
       "\t<li>404.314153806802</li>\n",
       "\t<li>403.160428725436</li>\n",
       "\t<li>402.83351433053</li>\n",
       "</ol>\n"
      ],
      "text/latex": [
       "\\begin{enumerate*}\n",
       "\\item 2385.08183492063\n",
       "\\item 1686.91451530845\n",
       "\\item 1177.51475238593\n",
       "\\item 915.192378165719\n",
       "\\item 705.71549482151\n",
       "\\item 484.06746416023\n",
       "\\item 407.386861034199\n",
       "\\item 405.758292260549\n",
       "\\item 404.314153806802\n",
       "\\item 403.160428725436\n",
       "\\item 402.83351433053\n",
       "\\end{enumerate*}\n"
      ],
      "text/markdown": [
       "1. 2385.08183492063\n",
       "2. 1686.91451530845\n",
       "3. 1177.51475238593\n",
       "4. 915.192378165719\n",
       "5. 705.71549482151\n",
       "6. 484.06746416023\n",
       "7. 407.386861034199\n",
       "8. 405.758292260549\n",
       "9. 404.314153806802\n",
       "10. 403.160428725436\n",
       "11. 402.83351433053\n",
       "\n",
       "\n"
      ],
      "text/plain": [
       " [1] 2385.0818 1686.9145 1177.5148  915.1924  705.7155  484.0675  407.3869\n",
       " [8]  405.7583  404.3142  403.1604  402.8335"
      ]
     },
     "metadata": {},
     "output_type": "display_data"
    },
    {
     "data": {
      "text/html": [
       "<ol class=list-inline>\n",
       "\t<li>0.248627246246793</li>\n",
       "\t<li>0.467232408814997</li>\n",
       "\t<li>0.627173820182543</li>\n",
       "\t<li>0.709497062042606</li>\n",
       "\t<li>0.775421249548963</li>\n",
       "\t<li>0.845563989974847</li>\n",
       "\t<li>0.869696470042956</li>\n",
       "\t<li>0.869885446250992</li>\n",
       "\t<li>0.870016098633604</li>\n",
       "\t<li>0.870053817063055</li>\n",
       "\t<li>0.869824546447597</li>\n",
       "</ol>\n"
      ],
      "text/latex": [
       "\\begin{enumerate*}\n",
       "\\item 0.248627246246793\n",
       "\\item 0.467232408814997\n",
       "\\item 0.627173820182543\n",
       "\\item 0.709497062042606\n",
       "\\item 0.775421249548963\n",
       "\\item 0.845563989974847\n",
       "\\item 0.869696470042956\n",
       "\\item 0.869885446250992\n",
       "\\item 0.870016098633604\n",
       "\\item 0.870053817063055\n",
       "\\item 0.869824546447597\n",
       "\\end{enumerate*}\n"
      ],
      "text/markdown": [
       "1. 0.248627246246793\n",
       "2. 0.467232408814997\n",
       "3. 0.627173820182543\n",
       "4. 0.709497062042606\n",
       "5. 0.775421249548963\n",
       "6. 0.845563989974847\n",
       "7. 0.869696470042956\n",
       "8. 0.869885446250992\n",
       "9. 0.870016098633604\n",
       "10. 0.870053817063055\n",
       "11. 0.869824546447597\n",
       "\n",
       "\n"
      ],
      "text/plain": [
       " [1] 0.2486272 0.4672324 0.6271738 0.7094971 0.7754212 0.8455640 0.8696965\n",
       " [8] 0.8698854 0.8700161 0.8700538 0.8698245"
      ]
     },
     "metadata": {},
     "output_type": "display_data"
    },
    {
     "data": {
      "text/html": [
       "<dl class=dl-horizontal>\n",
       "\t<dt>(Intercept)</dt>\n",
       "\t\t<dd>6.88296902084406</dd>\n",
       "\t<dt>CompPrice</dt>\n",
       "\t\t<dd>0.0906531300447673</dd>\n",
       "\t<dt>Advertising</dt>\n",
       "\t\t<dd>0.119910855807764</dd>\n",
       "\t<dt>Price</dt>\n",
       "\t\t<dd>-0.0956759669499956</dd>\n",
       "\t<dt>ShelveLocGood</dt>\n",
       "\t\t<dd>4.76861557409332</dd>\n",
       "\t<dt>ShelveLocMedium</dt>\n",
       "\t\t<dd>1.87668158631696</dd>\n",
       "\t<dt>Age</dt>\n",
       "\t\t<dd>-0.0463902266679544</dd>\n",
       "</dl>\n"
      ],
      "text/latex": [
       "\\begin{description*}\n",
       "\\item[(Intercept)] 6.88296902084406\n",
       "\\item[CompPrice] 0.0906531300447673\n",
       "\\item[Advertising] 0.119910855807764\n",
       "\\item[Price] -0.0956759669499956\n",
       "\\item[ShelveLocGood] 4.76861557409332\n",
       "\\item[ShelveLocMedium] 1.87668158631696\n",
       "\\item[Age] -0.0463902266679544\n",
       "\\end{description*}\n"
      ],
      "text/markdown": [
       "(Intercept)\n",
       ":   6.88296902084406CompPrice\n",
       ":   0.0906531300447673Advertising\n",
       ":   0.119910855807764Price\n",
       ":   -0.0956759669499956ShelveLocGood\n",
       ":   4.76861557409332ShelveLocMedium\n",
       ":   1.87668158631696Age\n",
       ":   -0.0463902266679544\n",
       "\n"
      ],
      "text/plain": [
       "    (Intercept)       CompPrice     Advertising           Price   ShelveLocGood \n",
       "     6.88296902      0.09065313      0.11991086     -0.09567597      4.76861557 \n",
       "ShelveLocMedium             Age \n",
       "     1.87668159     -0.04639023 "
      ]
     },
     "metadata": {},
     "output_type": "display_data"
    }
   ],
   "source": [
    "#### Forward selection\n",
    "regfit.fwd=regsubsets(Sales~.,data=Carseats ,nvmax=11, method=\"forward\") \n",
    "F=summary(regfit.fwd)\n",
    "names(F)\n",
    "F\n",
    "F$rss\n",
    "F$adjr2\n",
    "coef(regfit.fwd,6)"
   ]
  },
  {
   "cell_type": "code",
   "execution_count": 6,
   "metadata": {},
   "outputs": [
    {
     "data": {
      "text/html": [
       "<ol class=list-inline>\n",
       "\t<li>'which'</li>\n",
       "\t<li>'rsq'</li>\n",
       "\t<li>'rss'</li>\n",
       "\t<li>'adjr2'</li>\n",
       "\t<li>'cp'</li>\n",
       "\t<li>'bic'</li>\n",
       "\t<li>'outmat'</li>\n",
       "\t<li>'obj'</li>\n",
       "</ol>\n"
      ],
      "text/latex": [
       "\\begin{enumerate*}\n",
       "\\item 'which'\n",
       "\\item 'rsq'\n",
       "\\item 'rss'\n",
       "\\item 'adjr2'\n",
       "\\item 'cp'\n",
       "\\item 'bic'\n",
       "\\item 'outmat'\n",
       "\\item 'obj'\n",
       "\\end{enumerate*}\n"
      ],
      "text/markdown": [
       "1. 'which'\n",
       "2. 'rsq'\n",
       "3. 'rss'\n",
       "4. 'adjr2'\n",
       "5. 'cp'\n",
       "6. 'bic'\n",
       "7. 'outmat'\n",
       "8. 'obj'\n",
       "\n",
       "\n"
      ],
      "text/plain": [
       "[1] \"which\"  \"rsq\"    \"rss\"    \"adjr2\"  \"cp\"     \"bic\"    \"outmat\" \"obj\"   "
      ]
     },
     "metadata": {},
     "output_type": "display_data"
    },
    {
     "data": {
      "text/plain": [
       "Subset selection object\n",
       "Call: regsubsets.formula(Sales ~ ., data = Carseats, nvmax = 11, method = \"backward\")\n",
       "11 Variables  (and intercept)\n",
       "                Forced in Forced out\n",
       "CompPrice           FALSE      FALSE\n",
       "Income              FALSE      FALSE\n",
       "Advertising         FALSE      FALSE\n",
       "Population          FALSE      FALSE\n",
       "Price               FALSE      FALSE\n",
       "ShelveLocGood       FALSE      FALSE\n",
       "ShelveLocMedium     FALSE      FALSE\n",
       "Age                 FALSE      FALSE\n",
       "Education           FALSE      FALSE\n",
       "UrbanYes            FALSE      FALSE\n",
       "USYes               FALSE      FALSE\n",
       "1 subsets of each size up to 11\n",
       "Selection Algorithm: backward\n",
       "          CompPrice Income Advertising Population Price ShelveLocGood\n",
       "1  ( 1 )  \" \"       \" \"    \" \"         \" \"        \" \"   \"*\"          \n",
       "2  ( 1 )  \" \"       \" \"    \" \"         \" \"        \"*\"   \"*\"          \n",
       "3  ( 1 )  \"*\"       \" \"    \" \"         \" \"        \"*\"   \"*\"          \n",
       "4  ( 1 )  \"*\"       \" \"    \"*\"         \" \"        \"*\"   \"*\"          \n",
       "5  ( 1 )  \"*\"       \" \"    \"*\"         \" \"        \"*\"   \"*\"          \n",
       "6  ( 1 )  \"*\"       \" \"    \"*\"         \" \"        \"*\"   \"*\"          \n",
       "7  ( 1 )  \"*\"       \"*\"    \"*\"         \" \"        \"*\"   \"*\"          \n",
       "8  ( 1 )  \"*\"       \"*\"    \"*\"         \" \"        \"*\"   \"*\"          \n",
       "9  ( 1 )  \"*\"       \"*\"    \"*\"         \" \"        \"*\"   \"*\"          \n",
       "10  ( 1 ) \"*\"       \"*\"    \"*\"         \" \"        \"*\"   \"*\"          \n",
       "11  ( 1 ) \"*\"       \"*\"    \"*\"         \"*\"        \"*\"   \"*\"          \n",
       "          ShelveLocMedium Age Education UrbanYes USYes\n",
       "1  ( 1 )  \" \"             \" \" \" \"       \" \"      \" \"  \n",
       "2  ( 1 )  \" \"             \" \" \" \"       \" \"      \" \"  \n",
       "3  ( 1 )  \" \"             \" \" \" \"       \" \"      \" \"  \n",
       "4  ( 1 )  \" \"             \" \" \" \"       \" \"      \" \"  \n",
       "5  ( 1 )  \"*\"             \" \" \" \"       \" \"      \" \"  \n",
       "6  ( 1 )  \"*\"             \"*\" \" \"       \" \"      \" \"  \n",
       "7  ( 1 )  \"*\"             \"*\" \" \"       \" \"      \" \"  \n",
       "8  ( 1 )  \"*\"             \"*\" \" \"       \" \"      \"*\"  \n",
       "9  ( 1 )  \"*\"             \"*\" \"*\"       \" \"      \"*\"  \n",
       "10  ( 1 ) \"*\"             \"*\" \"*\"       \"*\"      \"*\"  \n",
       "11  ( 1 ) \"*\"             \"*\" \"*\"       \"*\"      \"*\"  "
      ]
     },
     "metadata": {},
     "output_type": "display_data"
    },
    {
     "data": {
      "text/html": [
       "<ol class=list-inline>\n",
       "\t<li>2385.08183492063</li>\n",
       "\t<li>1686.91451530845</li>\n",
       "\t<li>1177.51475238593</li>\n",
       "\t<li>915.192378165719</li>\n",
       "\t<li>705.71549482151</li>\n",
       "\t<li>484.06746416023</li>\n",
       "\t<li>407.386861034199</li>\n",
       "\t<li>405.758292260549</li>\n",
       "\t<li>404.314153806802</li>\n",
       "\t<li>403.160428725436</li>\n",
       "\t<li>402.83351433053</li>\n",
       "</ol>\n"
      ],
      "text/latex": [
       "\\begin{enumerate*}\n",
       "\\item 2385.08183492063\n",
       "\\item 1686.91451530845\n",
       "\\item 1177.51475238593\n",
       "\\item 915.192378165719\n",
       "\\item 705.71549482151\n",
       "\\item 484.06746416023\n",
       "\\item 407.386861034199\n",
       "\\item 405.758292260549\n",
       "\\item 404.314153806802\n",
       "\\item 403.160428725436\n",
       "\\item 402.83351433053\n",
       "\\end{enumerate*}\n"
      ],
      "text/markdown": [
       "1. 2385.08183492063\n",
       "2. 1686.91451530845\n",
       "3. 1177.51475238593\n",
       "4. 915.192378165719\n",
       "5. 705.71549482151\n",
       "6. 484.06746416023\n",
       "7. 407.386861034199\n",
       "8. 405.758292260549\n",
       "9. 404.314153806802\n",
       "10. 403.160428725436\n",
       "11. 402.83351433053\n",
       "\n",
       "\n"
      ],
      "text/plain": [
       " [1] 2385.0818 1686.9145 1177.5148  915.1924  705.7155  484.0675  407.3869\n",
       " [8]  405.7583  404.3142  403.1604  402.8335"
      ]
     },
     "metadata": {},
     "output_type": "display_data"
    },
    {
     "data": {
      "text/html": [
       "<ol class=list-inline>\n",
       "\t<li>0.248627246246793</li>\n",
       "\t<li>0.467232408814997</li>\n",
       "\t<li>0.627173820182543</li>\n",
       "\t<li>0.709497062042606</li>\n",
       "\t<li>0.775421249548963</li>\n",
       "\t<li>0.845563989974847</li>\n",
       "\t<li>0.869696470042956</li>\n",
       "\t<li>0.869885446250992</li>\n",
       "\t<li>0.870016098633604</li>\n",
       "\t<li>0.870053817063055</li>\n",
       "\t<li>0.869824546447597</li>\n",
       "</ol>\n"
      ],
      "text/latex": [
       "\\begin{enumerate*}\n",
       "\\item 0.248627246246793\n",
       "\\item 0.467232408814997\n",
       "\\item 0.627173820182543\n",
       "\\item 0.709497062042606\n",
       "\\item 0.775421249548963\n",
       "\\item 0.845563989974847\n",
       "\\item 0.869696470042956\n",
       "\\item 0.869885446250992\n",
       "\\item 0.870016098633604\n",
       "\\item 0.870053817063055\n",
       "\\item 0.869824546447597\n",
       "\\end{enumerate*}\n"
      ],
      "text/markdown": [
       "1. 0.248627246246793\n",
       "2. 0.467232408814997\n",
       "3. 0.627173820182543\n",
       "4. 0.709497062042606\n",
       "5. 0.775421249548963\n",
       "6. 0.845563989974847\n",
       "7. 0.869696470042956\n",
       "8. 0.869885446250992\n",
       "9. 0.870016098633604\n",
       "10. 0.870053817063055\n",
       "11. 0.869824546447597\n",
       "\n",
       "\n"
      ],
      "text/plain": [
       " [1] 0.2486272 0.4672324 0.6271738 0.7094971 0.7754212 0.8455640 0.8696965\n",
       " [8] 0.8698854 0.8700161 0.8700538 0.8698245"
      ]
     },
     "metadata": {},
     "output_type": "display_data"
    },
    {
     "data": {
      "text/html": [
       "<dl class=dl-horizontal>\n",
       "\t<dt>(Intercept)</dt>\n",
       "\t\t<dd>6.88296902084407</dd>\n",
       "\t<dt>CompPrice</dt>\n",
       "\t\t<dd>0.0906531300447673</dd>\n",
       "\t<dt>Advertising</dt>\n",
       "\t\t<dd>0.119910855807764</dd>\n",
       "\t<dt>Price</dt>\n",
       "\t\t<dd>-0.0956759669499956</dd>\n",
       "\t<dt>ShelveLocGood</dt>\n",
       "\t\t<dd>4.76861557409332</dd>\n",
       "\t<dt>ShelveLocMedium</dt>\n",
       "\t\t<dd>1.87668158631696</dd>\n",
       "\t<dt>Age</dt>\n",
       "\t\t<dd>-0.0463902266679544</dd>\n",
       "</dl>\n"
      ],
      "text/latex": [
       "\\begin{description*}\n",
       "\\item[(Intercept)] 6.88296902084407\n",
       "\\item[CompPrice] 0.0906531300447673\n",
       "\\item[Advertising] 0.119910855807764\n",
       "\\item[Price] -0.0956759669499956\n",
       "\\item[ShelveLocGood] 4.76861557409332\n",
       "\\item[ShelveLocMedium] 1.87668158631696\n",
       "\\item[Age] -0.0463902266679544\n",
       "\\end{description*}\n"
      ],
      "text/markdown": [
       "(Intercept)\n",
       ":   6.88296902084407CompPrice\n",
       ":   0.0906531300447673Advertising\n",
       ":   0.119910855807764Price\n",
       ":   -0.0956759669499956ShelveLocGood\n",
       ":   4.76861557409332ShelveLocMedium\n",
       ":   1.87668158631696Age\n",
       ":   -0.0463902266679544\n",
       "\n"
      ],
      "text/plain": [
       "    (Intercept)       CompPrice     Advertising           Price   ShelveLocGood \n",
       "     6.88296902      0.09065313      0.11991086     -0.09567597      4.76861557 \n",
       "ShelveLocMedium             Age \n",
       "     1.87668159     -0.04639023 "
      ]
     },
     "metadata": {},
     "output_type": "display_data"
    }
   ],
   "source": [
    "#### Backward selection\n",
    "regfit.bwd=regsubsets(Sales~.,data=Carseats ,nvmax=11, method=\"backward\") \n",
    "B=summary(regfit.bwd)\n",
    "names(B)\n",
    "B\n",
    "B$rss\n",
    "B$adjr2\n",
    "coef(regfit.bwd,6)"
   ]
  }
 ],
 "metadata": {
  "kernelspec": {
   "display_name": "R",
   "language": "R",
   "name": "ir"
  },
  "language_info": {
   "codemirror_mode": "r",
   "file_extension": ".r",
   "mimetype": "text/x-r-source",
   "name": "R",
   "pygments_lexer": "r",
   "version": "3.3.2"
  }
 },
 "nbformat": 4,
 "nbformat_minor": 2
}
